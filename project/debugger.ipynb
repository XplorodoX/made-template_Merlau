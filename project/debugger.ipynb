{
 "cells": [
  {
   "cell_type": "code",
   "execution_count": 247,
   "metadata": {},
   "outputs": [],
   "source": [
    "import pandas as pd\n",
    "import ssl\n",
    "import numpy as np\n",
    "import plotly.express as px\n",
    "from scipy.stats import linregress\n",
    "import plotly.graph_objects as go"
   ]
  },
  {
   "cell_type": "code",
   "execution_count": 248,
   "metadata": {},
   "outputs": [],
   "source": [
    "# Disable SSL certificate verification\n",
    "ssl._create_default_https_context = ssl._create_unverified_context\n",
    "\n",
    "def clean_dataset(df):\n",
    "    \"\"\"Cleans the dataset: removes duplicates, handles missing values, sorts, and drops unnecessary columns.\"\"\"\n",
    "    df_cleaned = df.drop_duplicates()\n",
    "\n",
    "    # Handle missing values (NaN)\n",
    "    if df_cleaned.isnull().any().any():\n",
    "        # Fill NaN values with the mean of numeric columns\n",
    "        df_cleaned = df_cleaned.fillna(df_cleaned.mean(numeric_only=True))\n",
    "\n",
    "    # Sort data by a specific column (e.g., Year)\n",
    "    if \"Year\" in df_cleaned.columns:\n",
    "        df_cleaned = df_cleaned.sort_values(by=\"Year\")\n",
    "\n",
    "    # Drop irrelevant columns (e.g., ID)\n",
    "    if \"ID\" in df_cleaned.columns:\n",
    "        df_cleaned = df_cleaned.drop(columns=[\"ID\"])\n",
    "\n",
    "    return df_cleaned"
   ]
  },
  {
   "cell_type": "code",
   "execution_count": 249,
   "metadata": {},
   "outputs": [],
   "source": [
    "def fetch_data():\n",
    "    \"\"\"Fetches datasets from the specified URLs.\"\"\"\n",
    "    emissions_data = pd.read_csv(\n",
    "        \"https://ourworldindata.org/grapher/annual-co-emissions-by-region.csv?v=1&csvType=full&useColumnShortNames=true\",\n",
    "        storage_options={'User-Agent': 'Our World In Data data fetch/1.0'}\n",
    "    )\n",
    "\n",
    "    temperature_data = pd.read_csv(\n",
    "        \"https://ourworldindata.org/grapher/monthly-average-surface-temperatures-by-year.csv?v=1&csvType=full&useColumnShortNames=false\",\n",
    "        storage_options={'User-Agent': 'Our World In Data data fetch/1.0'}\n",
    "    )\n",
    "\n",
    "    return emissions_data, temperature_data"
   ]
  },
  {
   "cell_type": "code",
   "execution_count": 250,
   "metadata": {},
   "outputs": [],
   "source": [
    "def transform_temperature_data(temperature_data):\n",
    "    \"\"\"Transforms the temperature dataset into an analyzable format.\"\"\"\n",
    "    temperature_data = clean_dataset(temperature_data)\n",
    "\n",
    "    # Ensure column names for years are numeric\n",
    "    temperature_data.columns = [\n",
    "        int(col) if col.isdigit() else col\n",
    "        for col in temperature_data.columns\n",
    "    ]\n",
    "\n",
    "    # Unpivot temperature data\n",
    "    temperature_melted = temperature_data.melt(\n",
    "        id_vars=[\"Entity\", \"Code\", \"Year\"],\n",
    "        var_name=\"Year_Column\",\n",
    "        value_name=\"Temperature\"\n",
    "    )\n",
    "\n",
    "    # Convert 'Year_Column' to numeric values\n",
    "    temperature_melted[\"Year_Column\"] = pd.to_numeric(temperature_melted[\"Year_Column\"], errors=\"coerce\")\n",
    "\n",
    "    # Rename columns\n",
    "    temperature_melted.rename(columns={\"Year_Column\": \"Year\", \"Year\": \"Month\"}, inplace=True)\n",
    "\n",
    "    return temperature_melted\n"
   ]
  },
  {
   "cell_type": "code",
   "execution_count": 251,
   "metadata": {},
   "outputs": [],
   "source": [
    "def filter_data(temperature_data, emissions_data, regions):\n",
    "    \"\"\"Filters the temperature and emissions data for the specified regions and shared years.\"\"\"\n",
    "\n",
    "    temperature_filtered = temperature_data[temperature_data[\"Entity\"].isin(regions)]\n",
    "    emissions_filtered = emissions_data[emissions_data[\"Entity\"].isin(regions)]\n",
    "\n",
    "    # Find common years\n",
    "    common_years = set(temperature_filtered[\"Year\"]).intersection(set(emissions_filtered[\"Year\"]))\n",
    "\n",
    "    temperature_filtered = temperature_filtered[temperature_filtered[\"Year\"].isin(common_years)]\n",
    "    emissions_filtered = emissions_filtered[emissions_filtered[\"Year\"].isin(common_years)]\n",
    "\n",
    "    return temperature_filtered, emissions_filtered\n",
    "\n"
   ]
  },
  {
   "cell_type": "code",
   "execution_count": 252,
   "metadata": {},
   "outputs": [],
   "source": [
    "def merge_datasets(temperature_data, emissions_data):\n",
    "    \"\"\"Merges the temperature and emissions datasets into a single dataset.\"\"\"\n",
    "    combined_data = pd.merge(\n",
    "        temperature_data,\n",
    "        emissions_data,\n",
    "        on=[\"Entity\", \"Year\"],\n",
    "        how=\"inner\"\n",
    "    )\n",
    "    return combined_data"
   ]
  },
  {
   "cell_type": "code",
   "execution_count": 253,
   "metadata": {},
   "outputs": [],
   "source": [
    "def plot_temp_by_country(emissions_data, region_countries, region_name):\n",
    "    \"\"\"Erstellt ein interaktives Liniendiagramm der CO2-Emissionen für alle Länder einer Region.\"\"\"\n",
    "    # Daten filtern\n",
    "    region_data = emissions_data[emissions_data[\"Entity\"].isin(region_countries)]\n",
    "\n",
    "    # Interaktives Plotly-Diagramm erstellen\n",
    "    fig = px.line(\n",
    "        region_data,\n",
    "        x=\"Year\",\n",
    "        y=\"Temperature\",\n",
    "        color=\"Entity\",\n",
    "        title=f\"Temperature in {region_name} nach Ländern\",\n",
    "        labels={\"Temperature\": \"Temperature\", \"Year\": \"Jahr\", \"Entity\": \"Entity\"}\n",
    "    )\n",
    "\n",
    "    # Layout anpassen\n",
    "    fig.update_layout(\n",
    "        legend_title_text=\"Länder\",\n",
    "        title_font_size=16,\n",
    "        xaxis_title_font_size=12,\n",
    "        yaxis_title_font_size=12\n",
    "    )\n",
    "\n",
    "    # Grafik anzeigen\n",
    "    fig.show()"
   ]
  },
  {
   "cell_type": "code",
   "execution_count": 254,
   "metadata": {},
   "outputs": [],
   "source": [
    "def calculate_p_values(df_combined):\n",
    "    \"\"\"Berechnet die lineare Regression und die p-Werte für jede Region.\"\"\"\n",
    "    results = []\n",
    "    \n",
    "    for region in df_combined[\"Region\"].unique():\n",
    "        region_data = df_combined[df_combined[\"Region\"] == region]\n",
    "        x = region_data[\"Year\"].values\n",
    "        y = region_data[\"emissions_total\"].values\n",
    "\n",
    "        # Lineare Regression\n",
    "        slope, intercept, r_value, p_value, std_err = linregress(x, y)\n",
    "\n",
    "        # Ergebnisse speichern\n",
    "        results.append({\n",
    "            \"Region\": region,\n",
    "            \"Slope\": slope,\n",
    "            \"Intercept\": intercept,\n",
    "            \"R-squared\": r_value**2,\n",
    "            \"P-value\": p_value\n",
    "        })\n",
    "\n",
    "    return pd.DataFrame(results)"
   ]
  },
  {
   "cell_type": "code",
   "execution_count": 255,
   "metadata": {},
   "outputs": [
    {
     "data": {
      "text/html": [
       "<div>\n",
       "<style scoped>\n",
       "    .dataframe tbody tr th:only-of-type {\n",
       "        vertical-align: middle;\n",
       "    }\n",
       "\n",
       "    .dataframe tbody tr th {\n",
       "        vertical-align: top;\n",
       "    }\n",
       "\n",
       "    .dataframe thead th {\n",
       "        text-align: right;\n",
       "    }\n",
       "</style>\n",
       "<table border=\"1\" class=\"dataframe\">\n",
       "  <thead>\n",
       "    <tr style=\"text-align: right;\">\n",
       "      <th></th>\n",
       "      <th>Entity</th>\n",
       "      <th>Code</th>\n",
       "      <th>Month</th>\n",
       "      <th>Year</th>\n",
       "      <th>Temperature</th>\n",
       "    </tr>\n",
       "  </thead>\n",
       "  <tbody>\n",
       "    <tr>\n",
       "      <th>0</th>\n",
       "      <td>Afghanistan</td>\n",
       "      <td>AFG</td>\n",
       "      <td>1</td>\n",
       "      <td>2024</td>\n",
       "      <td>3.300064</td>\n",
       "    </tr>\n",
       "    <tr>\n",
       "      <th>1</th>\n",
       "      <td>Rwanda</td>\n",
       "      <td>RWA</td>\n",
       "      <td>1</td>\n",
       "      <td>2024</td>\n",
       "      <td>19.979807</td>\n",
       "    </tr>\n",
       "    <tr>\n",
       "      <th>2</th>\n",
       "      <td>Cook Islands</td>\n",
       "      <td>COK</td>\n",
       "      <td>1</td>\n",
       "      <td>2024</td>\n",
       "      <td>25.643768</td>\n",
       "    </tr>\n",
       "    <tr>\n",
       "      <th>3</th>\n",
       "      <td>Saint Helena</td>\n",
       "      <td>SHN</td>\n",
       "      <td>1</td>\n",
       "      <td>2024</td>\n",
       "      <td>23.700409</td>\n",
       "    </tr>\n",
       "    <tr>\n",
       "      <th>4</th>\n",
       "      <td>Congo</td>\n",
       "      <td>COG</td>\n",
       "      <td>1</td>\n",
       "      <td>2024</td>\n",
       "      <td>26.152718</td>\n",
       "    </tr>\n",
       "  </tbody>\n",
       "</table>\n",
       "</div>"
      ],
      "text/plain": [
       "         Entity Code  Month  Year  Temperature\n",
       "0   Afghanistan  AFG      1  2024     3.300064\n",
       "1        Rwanda  RWA      1  2024    19.979807\n",
       "2  Cook Islands  COK      1  2024    25.643768\n",
       "3  Saint Helena  SHN      1  2024    23.700409\n",
       "4         Congo  COG      1  2024    26.152718"
      ]
     },
     "execution_count": 255,
     "metadata": {},
     "output_type": "execute_result"
    }
   ],
   "source": [
    "emissions_data, temperature_data = fetch_data()\n",
    "\n",
    "# Transform temperature data\n",
    "temperature_melted = transform_temperature_data(temperature_data)\n",
    "\n",
    "temperature_melted.head()"
   ]
  },
  {
   "cell_type": "code",
   "execution_count": 256,
   "metadata": {},
   "outputs": [
    {
     "data": {
      "text/html": [
       "<div>\n",
       "<style scoped>\n",
       "    .dataframe tbody tr th:only-of-type {\n",
       "        vertical-align: middle;\n",
       "    }\n",
       "\n",
       "    .dataframe tbody tr th {\n",
       "        vertical-align: top;\n",
       "    }\n",
       "\n",
       "    .dataframe thead th {\n",
       "        text-align: right;\n",
       "    }\n",
       "</style>\n",
       "<table border=\"1\" class=\"dataframe\">\n",
       "  <thead>\n",
       "    <tr style=\"text-align: right;\">\n",
       "      <th></th>\n",
       "      <th>Entity</th>\n",
       "      <th>Code</th>\n",
       "      <th>Year</th>\n",
       "      <th>emissions_total</th>\n",
       "    </tr>\n",
       "  </thead>\n",
       "  <tbody>\n",
       "    <tr>\n",
       "      <th>0</th>\n",
       "      <td>Afghanistan</td>\n",
       "      <td>AFG</td>\n",
       "      <td>1949</td>\n",
       "      <td>14656.0</td>\n",
       "    </tr>\n",
       "    <tr>\n",
       "      <th>1</th>\n",
       "      <td>Afghanistan</td>\n",
       "      <td>AFG</td>\n",
       "      <td>1950</td>\n",
       "      <td>84272.0</td>\n",
       "    </tr>\n",
       "    <tr>\n",
       "      <th>2</th>\n",
       "      <td>Afghanistan</td>\n",
       "      <td>AFG</td>\n",
       "      <td>1951</td>\n",
       "      <td>91600.0</td>\n",
       "    </tr>\n",
       "    <tr>\n",
       "      <th>3</th>\n",
       "      <td>Afghanistan</td>\n",
       "      <td>AFG</td>\n",
       "      <td>1952</td>\n",
       "      <td>91600.0</td>\n",
       "    </tr>\n",
       "    <tr>\n",
       "      <th>4</th>\n",
       "      <td>Afghanistan</td>\n",
       "      <td>AFG</td>\n",
       "      <td>1953</td>\n",
       "      <td>106256.0</td>\n",
       "    </tr>\n",
       "  </tbody>\n",
       "</table>\n",
       "</div>"
      ],
      "text/plain": [
       "        Entity Code  Year  emissions_total\n",
       "0  Afghanistan  AFG  1949          14656.0\n",
       "1  Afghanistan  AFG  1950          84272.0\n",
       "2  Afghanistan  AFG  1951          91600.0\n",
       "3  Afghanistan  AFG  1952          91600.0\n",
       "4  Afghanistan  AFG  1953         106256.0"
      ]
     },
     "execution_count": 256,
     "metadata": {},
     "output_type": "execute_result"
    }
   ],
   "source": [
    "emissions_data.head()"
   ]
  },
  {
   "cell_type": "code",
   "execution_count": 257,
   "metadata": {},
   "outputs": [],
   "source": [
    "    # Define regions\n",
    "north_america_countries = [\n",
    "        \"Antigua and Barbuda\", \"Bahamas\", \"Belize\", \"Costa Rica\",\n",
    "        \"Dominican Republic\", \"El Salvador\", \"Haiti\", \"Honduras\", \n",
    "        \"Jamaica\", \"Canada\", \"Cuba\", \"Mexico\", \"Nicaragua\", \n",
    "        \"Panama\", \"Trinidad and Tobago\", \"United States\"\n",
    "]\n",
    "\n",
    "south_america_countries = [\n",
    "        \"Argentina\", \"Bolivia\", \"Brazil\", \"Chile\", \"Ecuador\",\n",
    "        \"Guyana\", \"Colombia\", \"Paraguay\", \"Peru\", \"Suriname\",\n",
    "        \"Uruguay\", \"Venezuela\", \"Guatemala\"\n",
    "]\n",
    "\n",
    "all_americas = north_america_countries + south_america_countries"
   ]
  },
  {
   "cell_type": "code",
   "execution_count": 258,
   "metadata": {},
   "outputs": [
    {
     "data": {
      "text/html": [
       "<div>\n",
       "<style scoped>\n",
       "    .dataframe tbody tr th:only-of-type {\n",
       "        vertical-align: middle;\n",
       "    }\n",
       "\n",
       "    .dataframe tbody tr th {\n",
       "        vertical-align: top;\n",
       "    }\n",
       "\n",
       "    .dataframe thead th {\n",
       "        text-align: right;\n",
       "    }\n",
       "</style>\n",
       "<table border=\"1\" class=\"dataframe\">\n",
       "  <thead>\n",
       "    <tr style=\"text-align: right;\">\n",
       "      <th></th>\n",
       "      <th>Entity</th>\n",
       "      <th>Year</th>\n",
       "      <th>Temperature</th>\n",
       "    </tr>\n",
       "  </thead>\n",
       "  <tbody>\n",
       "    <tr>\n",
       "      <th>0</th>\n",
       "      <td>Afghanistan</td>\n",
       "      <td>1950</td>\n",
       "      <td>10.231125</td>\n",
       "    </tr>\n",
       "    <tr>\n",
       "      <th>1</th>\n",
       "      <td>Afghanistan</td>\n",
       "      <td>1951</td>\n",
       "      <td>11.242811</td>\n",
       "    </tr>\n",
       "    <tr>\n",
       "      <th>2</th>\n",
       "      <td>Afghanistan</td>\n",
       "      <td>1952</td>\n",
       "      <td>11.292934</td>\n",
       "    </tr>\n",
       "    <tr>\n",
       "      <th>3</th>\n",
       "      <td>Afghanistan</td>\n",
       "      <td>1953</td>\n",
       "      <td>11.445144</td>\n",
       "    </tr>\n",
       "    <tr>\n",
       "      <th>4</th>\n",
       "      <td>Afghanistan</td>\n",
       "      <td>1954</td>\n",
       "      <td>11.093394</td>\n",
       "    </tr>\n",
       "  </tbody>\n",
       "</table>\n",
       "</div>"
      ],
      "text/plain": [
       "        Entity  Year  Temperature\n",
       "0  Afghanistan  1950    10.231125\n",
       "1  Afghanistan  1951    11.242811\n",
       "2  Afghanistan  1952    11.292934\n",
       "3  Afghanistan  1953    11.445144\n",
       "4  Afghanistan  1954    11.093394"
      ]
     },
     "execution_count": 258,
     "metadata": {},
     "output_type": "execute_result"
    }
   ],
   "source": [
    "# Gruppieren nach Jahr und Entity, Berechnung der jährlichen Werte\n",
    "yearly_summary_n = temperature_melted.groupby([\"Entity\", \"Year\"]).agg({\n",
    "    \"Temperature\": \"mean\",\n",
    "}).reset_index()\n",
    "\n",
    "# Umbenennen der Spalten für besseres Format\n",
    "yearly_summary_n.rename(columns={\n",
    "    \"Entity\": \"Entity\",\n",
    "    \"Year\": \"Year\",\n",
    "    \"Temperature\": \"Temperature\"\n",
    "}, inplace=True)\n",
    "\n",
    "yearly_summary_n.head()\n"
   ]
  },
  {
   "cell_type": "code",
   "execution_count": 259,
   "metadata": {},
   "outputs": [],
   "source": [
    "# Filter and merge datasets for North America\n",
    "yearly_summary_na_filtered, emissions_filtered_na = filter_data(yearly_summary_n, emissions_data, north_america_countries)\n"
   ]
  },
  {
   "cell_type": "code",
   "execution_count": 260,
   "metadata": {},
   "outputs": [
    {
     "data": {
      "text/html": [
       "<div>\n",
       "<style scoped>\n",
       "    .dataframe tbody tr th:only-of-type {\n",
       "        vertical-align: middle;\n",
       "    }\n",
       "\n",
       "    .dataframe tbody tr th {\n",
       "        vertical-align: top;\n",
       "    }\n",
       "\n",
       "    .dataframe thead th {\n",
       "        text-align: right;\n",
       "    }\n",
       "</style>\n",
       "<table border=\"1\" class=\"dataframe\">\n",
       "  <thead>\n",
       "    <tr style=\"text-align: right;\">\n",
       "      <th></th>\n",
       "      <th>Entity</th>\n",
       "      <th>Year</th>\n",
       "      <th>Temperature</th>\n",
       "      <th>Code</th>\n",
       "      <th>emissions_total</th>\n",
       "    </tr>\n",
       "  </thead>\n",
       "  <tbody>\n",
       "    <tr>\n",
       "      <th>0</th>\n",
       "      <td>Antigua and Barbuda</td>\n",
       "      <td>1950</td>\n",
       "      <td>25.377907</td>\n",
       "      <td>ATG</td>\n",
       "      <td>12213.0</td>\n",
       "    </tr>\n",
       "    <tr>\n",
       "      <th>1</th>\n",
       "      <td>Antigua and Barbuda</td>\n",
       "      <td>1951</td>\n",
       "      <td>25.850764</td>\n",
       "      <td>ATG</td>\n",
       "      <td>19541.0</td>\n",
       "    </tr>\n",
       "    <tr>\n",
       "      <th>2</th>\n",
       "      <td>Antigua and Barbuda</td>\n",
       "      <td>1952</td>\n",
       "      <td>25.956604</td>\n",
       "      <td>ATG</td>\n",
       "      <td>14656.0</td>\n",
       "    </tr>\n",
       "    <tr>\n",
       "      <th>3</th>\n",
       "      <td>Antigua and Barbuda</td>\n",
       "      <td>1953</td>\n",
       "      <td>25.972994</td>\n",
       "      <td>ATG</td>\n",
       "      <td>17099.0</td>\n",
       "    </tr>\n",
       "    <tr>\n",
       "      <th>4</th>\n",
       "      <td>Antigua and Barbuda</td>\n",
       "      <td>1954</td>\n",
       "      <td>25.597811</td>\n",
       "      <td>ATG</td>\n",
       "      <td>12213.0</td>\n",
       "    </tr>\n",
       "  </tbody>\n",
       "</table>\n",
       "</div>"
      ],
      "text/plain": [
       "                Entity  Year  Temperature Code  emissions_total\n",
       "0  Antigua and Barbuda  1950    25.377907  ATG          12213.0\n",
       "1  Antigua and Barbuda  1951    25.850764  ATG          19541.0\n",
       "2  Antigua and Barbuda  1952    25.956604  ATG          14656.0\n",
       "3  Antigua and Barbuda  1953    25.972994  ATG          17099.0\n",
       "4  Antigua and Barbuda  1954    25.597811  ATG          12213.0"
      ]
     },
     "execution_count": 260,
     "metadata": {},
     "output_type": "execute_result"
    }
   ],
   "source": [
    "combined_filtered_data_na = merge_datasets(yearly_summary_na_filtered, emissions_filtered_na)\n",
    "combined_filtered_data_na.head()"
   ]
  },
  {
   "cell_type": "code",
   "execution_count": 261,
   "metadata": {},
   "outputs": [
    {
     "data": {
      "text/html": [
       "<div>\n",
       "<style scoped>\n",
       "    .dataframe tbody tr th:only-of-type {\n",
       "        vertical-align: middle;\n",
       "    }\n",
       "\n",
       "    .dataframe tbody tr th {\n",
       "        vertical-align: top;\n",
       "    }\n",
       "\n",
       "    .dataframe thead th {\n",
       "        text-align: right;\n",
       "    }\n",
       "</style>\n",
       "<table border=\"1\" class=\"dataframe\">\n",
       "  <thead>\n",
       "    <tr style=\"text-align: right;\">\n",
       "      <th></th>\n",
       "      <th>Year</th>\n",
       "      <th>Temperature</th>\n",
       "      <th>emissions_total</th>\n",
       "    </tr>\n",
       "  </thead>\n",
       "  <tbody>\n",
       "    <tr>\n",
       "      <th>0</th>\n",
       "      <td>1950</td>\n",
       "      <td>20.861395</td>\n",
       "      <td>2.736695e+09</td>\n",
       "    </tr>\n",
       "    <tr>\n",
       "      <th>1</th>\n",
       "      <td>1951</td>\n",
       "      <td>21.306945</td>\n",
       "      <td>2.828319e+09</td>\n",
       "    </tr>\n",
       "    <tr>\n",
       "      <th>2</th>\n",
       "      <td>1952</td>\n",
       "      <td>21.487919</td>\n",
       "      <td>2.760658e+09</td>\n",
       "    </tr>\n",
       "    <tr>\n",
       "      <th>3</th>\n",
       "      <td>1953</td>\n",
       "      <td>21.643270</td>\n",
       "      <td>2.823216e+09</td>\n",
       "    </tr>\n",
       "    <tr>\n",
       "      <th>4</th>\n",
       "      <td>1954</td>\n",
       "      <td>21.200929</td>\n",
       "      <td>2.701530e+09</td>\n",
       "    </tr>\n",
       "  </tbody>\n",
       "</table>\n",
       "</div>"
      ],
      "text/plain": [
       "   Year  Temperature  emissions_total\n",
       "0  1950    20.861395     2.736695e+09\n",
       "1  1951    21.306945     2.828319e+09\n",
       "2  1952    21.487919     2.760658e+09\n",
       "3  1953    21.643270     2.823216e+09\n",
       "4  1954    21.200929     2.701530e+09"
      ]
     },
     "execution_count": 261,
     "metadata": {},
     "output_type": "execute_result"
    }
   ],
   "source": [
    "# Gruppieren nach Jahr und Entity, Berechnung der jährlichen Werte\n",
    "yearly_summarynorden = combined_filtered_data_na.groupby( \"Year\").agg({\n",
    "    \"Temperature\": \"mean\",  # Durchschnittstemperatur über alle Monate\n",
    "    \"emissions_total\": \"sum\"  # Gesamtemissionen über alle Monate\n",
    "}).reset_index()\n",
    "\n",
    "yearly_summarynorden.head()"
   ]
  },
  {
   "cell_type": "code",
   "execution_count": 262,
   "metadata": {},
   "outputs": [],
   "source": [
    "# Filter and merge datasets for North America\n",
    "yearly_summary_sa_filtered, emissions_filtered_na = filter_data(yearly_summary_n, emissions_data, south_america_countries)"
   ]
  },
  {
   "cell_type": "code",
   "execution_count": 263,
   "metadata": {},
   "outputs": [
    {
     "data": {
      "text/html": [
       "<div>\n",
       "<style scoped>\n",
       "    .dataframe tbody tr th:only-of-type {\n",
       "        vertical-align: middle;\n",
       "    }\n",
       "\n",
       "    .dataframe tbody tr th {\n",
       "        vertical-align: top;\n",
       "    }\n",
       "\n",
       "    .dataframe thead th {\n",
       "        text-align: right;\n",
       "    }\n",
       "</style>\n",
       "<table border=\"1\" class=\"dataframe\">\n",
       "  <thead>\n",
       "    <tr style=\"text-align: right;\">\n",
       "      <th></th>\n",
       "      <th>Entity</th>\n",
       "      <th>Year</th>\n",
       "      <th>Temperature</th>\n",
       "      <th>Code</th>\n",
       "      <th>emissions_total</th>\n",
       "    </tr>\n",
       "  </thead>\n",
       "  <tbody>\n",
       "    <tr>\n",
       "      <th>0</th>\n",
       "      <td>Argentina</td>\n",
       "      <td>1950</td>\n",
       "      <td>14.214175</td>\n",
       "      <td>ARG</td>\n",
       "      <td>29921192.0</td>\n",
       "    </tr>\n",
       "    <tr>\n",
       "      <th>1</th>\n",
       "      <td>Argentina</td>\n",
       "      <td>1951</td>\n",
       "      <td>14.407666</td>\n",
       "      <td>ARG</td>\n",
       "      <td>34962916.0</td>\n",
       "    </tr>\n",
       "    <tr>\n",
       "      <th>2</th>\n",
       "      <td>Argentina</td>\n",
       "      <td>1952</td>\n",
       "      <td>14.316195</td>\n",
       "      <td>ARG</td>\n",
       "      <td>36095124.0</td>\n",
       "    </tr>\n",
       "    <tr>\n",
       "      <th>3</th>\n",
       "      <td>Argentina</td>\n",
       "      <td>1953</td>\n",
       "      <td>14.520419</td>\n",
       "      <td>ARG</td>\n",
       "      <td>35134740.0</td>\n",
       "    </tr>\n",
       "    <tr>\n",
       "      <th>4</th>\n",
       "      <td>Argentina</td>\n",
       "      <td>1954</td>\n",
       "      <td>13.677547</td>\n",
       "      <td>ARG</td>\n",
       "      <td>36750356.0</td>\n",
       "    </tr>\n",
       "  </tbody>\n",
       "</table>\n",
       "</div>"
      ],
      "text/plain": [
       "      Entity  Year  Temperature Code  emissions_total\n",
       "0  Argentina  1950    14.214175  ARG       29921192.0\n",
       "1  Argentina  1951    14.407666  ARG       34962916.0\n",
       "2  Argentina  1952    14.316195  ARG       36095124.0\n",
       "3  Argentina  1953    14.520419  ARG       35134740.0\n",
       "4  Argentina  1954    13.677547  ARG       36750356.0"
      ]
     },
     "execution_count": 263,
     "metadata": {},
     "output_type": "execute_result"
    }
   ],
   "source": [
    "sueden = merge_datasets(yearly_summary_sa_filtered, emissions_filtered_na)\n",
    "sueden.head()"
   ]
  },
  {
   "cell_type": "code",
   "execution_count": 264,
   "metadata": {},
   "outputs": [
    {
     "data": {
      "text/html": [
       "<div>\n",
       "<style scoped>\n",
       "    .dataframe tbody tr th:only-of-type {\n",
       "        vertical-align: middle;\n",
       "    }\n",
       "\n",
       "    .dataframe tbody tr th {\n",
       "        vertical-align: top;\n",
       "    }\n",
       "\n",
       "    .dataframe thead th {\n",
       "        text-align: right;\n",
       "    }\n",
       "</style>\n",
       "<table border=\"1\" class=\"dataframe\">\n",
       "  <thead>\n",
       "    <tr style=\"text-align: right;\">\n",
       "      <th></th>\n",
       "      <th>Year</th>\n",
       "      <th>Temperature</th>\n",
       "      <th>emissions_total</th>\n",
       "    </tr>\n",
       "  </thead>\n",
       "  <tbody>\n",
       "    <tr>\n",
       "      <th>0</th>\n",
       "      <td>1950</td>\n",
       "      <td>19.933421</td>\n",
       "      <td>114035625.0</td>\n",
       "    </tr>\n",
       "    <tr>\n",
       "      <th>1</th>\n",
       "      <td>1951</td>\n",
       "      <td>20.239919</td>\n",
       "      <td>131914233.0</td>\n",
       "    </tr>\n",
       "    <tr>\n",
       "      <th>2</th>\n",
       "      <td>1952</td>\n",
       "      <td>20.264052</td>\n",
       "      <td>142109627.0</td>\n",
       "    </tr>\n",
       "    <tr>\n",
       "      <th>3</th>\n",
       "      <td>1953</td>\n",
       "      <td>20.444680</td>\n",
       "      <td>141313611.0</td>\n",
       "    </tr>\n",
       "    <tr>\n",
       "      <th>4</th>\n",
       "      <td>1954</td>\n",
       "      <td>19.866740</td>\n",
       "      <td>151785007.0</td>\n",
       "    </tr>\n",
       "  </tbody>\n",
       "</table>\n",
       "</div>"
      ],
      "text/plain": [
       "   Year  Temperature  emissions_total\n",
       "0  1950    19.933421      114035625.0\n",
       "1  1951    20.239919      131914233.0\n",
       "2  1952    20.264052      142109627.0\n",
       "3  1953    20.444680      141313611.0\n",
       "4  1954    19.866740      151785007.0"
      ]
     },
     "execution_count": 264,
     "metadata": {},
     "output_type": "execute_result"
    }
   ],
   "source": [
    "# Grouping data by 'Year' and calculating annual statistics\n",
    "yearly_summarysouth = sueden.groupby(\"Year\").agg({\n",
    "    \"Temperature\": \"mean\",  # Calculate the average temperature across all months for each year\n",
    "    \"emissions_total\": \"sum\"  # Sum the total emissions across all months for each year\n",
    "}).reset_index()\n",
    "\n",
    "# Display the first few rows of the resulting summary\n",
    "yearly_summarysouth.head()"
   ]
  },
  {
   "cell_type": "code",
   "execution_count": 265,
   "metadata": {},
   "outputs": [
    {
     "name": "stdout",
     "output_type": "stream",
     "text": [
      "The graph has been successfully saved as 'co2_emissions_large_graph.png'.\n"
     ]
    }
   ],
   "source": [
    "import plotly.graph_objects as go\n",
    "from plotly.subplots import make_subplots\n",
    "\n",
    "def plot_emissions_by_country_large_graph(emissions_data_na, countries_na, region_na, \n",
    "                                          emissions_data_sa, countries_sa, region_sa, output_file):\n",
    "    \"\"\"\n",
    "    Creates a large side-by-side graph for CO2 emissions by countries in two regions \n",
    "    and saves it as an image.\n",
    "\n",
    "    Parameters:\n",
    "        emissions_data_na (DataFrame): CO2 emissions data for the first region (e.g., North America).\n",
    "        countries_na (list): List of country names for the first region.\n",
    "        region_na (str): Name of the first region.\n",
    "        emissions_data_sa (DataFrame): CO2 emissions data for the second region (e.g., South America).\n",
    "        countries_sa (list): List of country names for the second region.\n",
    "        region_sa (str): Name of the second region.\n",
    "        output_file (str): File path to save the output image.\n",
    "    \"\"\"\n",
    "    # Filter data for the specified countries in each region\n",
    "    region_data_na = emissions_data_na[emissions_data_na[\"Entity\"].isin(countries_na)]\n",
    "    region_data_sa = emissions_data_sa[emissions_data_sa[\"Entity\"].isin(countries_sa)]\n",
    "\n",
    "    # Create subplots for side-by-side visualization\n",
    "    fig = make_subplots(\n",
    "        rows=1, cols=2, \n",
    "        subplot_titles=(f\"CO2 Emissions in {region_na}\", f\"CO2 Emissions in {region_sa}\")\n",
    "    )\n",
    "\n",
    "    # Add North America data to the first subplot\n",
    "    for country in countries_na:\n",
    "        country_data = region_data_na[region_data_na[\"Entity\"] == country]\n",
    "        fig.add_trace(\n",
    "            go.Scatter(\n",
    "                x=country_data[\"Year\"], \n",
    "                y=country_data[\"emissions_total\"], \n",
    "                mode='lines', \n",
    "                name=f\"{country} ({region_na})\"\n",
    "            ),\n",
    "            row=1, col=1\n",
    "        )\n",
    "\n",
    "    # Add South America data to the second subplot\n",
    "    for country in countries_sa:\n",
    "        country_data = region_data_sa[region_data_sa[\"Entity\"] == country]\n",
    "        fig.add_trace(\n",
    "            go.Scatter(\n",
    "                x=country_data[\"Year\"], \n",
    "                y=country_data[\"emissions_total\"], \n",
    "                mode='lines', \n",
    "                name=f\"{country} ({region_sa})\"\n",
    "            ),\n",
    "            row=1, col=2\n",
    "        )\n",
    "\n",
    "    # Customize the layout\n",
    "    fig.update_layout(\n",
    "        title_text=\"CO2 Emissions by Country: North America vs. South America\",\n",
    "        title_font_size=20,\n",
    "        showlegend=True,\n",
    "        legend_title_text=\"Countries\",\n",
    "        xaxis_title=\"Year\",\n",
    "        yaxis_title=\"CO2 Emissions (Million Tons)\",\n",
    "        height=800,  # Height of the graph in pixels\n",
    "        width=1600   # Width of the graph in pixels\n",
    "    )\n",
    "\n",
    "    # Save the graph as an image\n",
    "    fig.write_image(output_file)\n",
    "    print(f\"The graph has been successfully saved as '{output_file}'.\")\n",
    "\n",
    "plot_emissions_by_country_large_graph(\n",
    "    combined_filtered_data_na, north_america_countries, \"Nordamerika\",\n",
    "    sueden, south_america_countries, \"Südamerika\",\n",
    "    \"co2_emissions_large_graph.png\"\n",
    ")\n"
   ]
  },
  {
   "cell_type": "code",
   "execution_count": 266,
   "metadata": {},
   "outputs": [
    {
     "name": "stdout",
     "output_type": "stream",
     "text": [
      "The graph has been successfully saved as 'temperature_large_graph.png'.\n"
     ]
    }
   ],
   "source": [
    "def plot_temperature_by_region_large_graph(temp_data_na, countries_na, region_na, \n",
    "                                           temp_data_sa, countries_sa, region_sa, output_file):\n",
    "    \"\"\"\n",
    "    Creates a large side-by-side graph comparing temperatures for two regions and saves it as an image file.\n",
    "\n",
    "    Parameters:\n",
    "        temp_data_na (DataFrame): Temperature data for North America.\n",
    "        countries_na (list): List of countries in North America.\n",
    "        region_na (str): Name of the North American region.\n",
    "        temp_data_sa (DataFrame): Temperature data for South America.\n",
    "        countries_sa (list): List of countries in South America.\n",
    "        region_sa (str): Name of the South American region.\n",
    "        output_file (str): File path to save the output image.\n",
    "    \"\"\"\n",
    "    # Filter data for the specified countries\n",
    "    region_data_na = temp_data_na[temp_data_na[\"Entity\"].isin(countries_na)]\n",
    "    region_data_sa = temp_data_sa[temp_data_sa[\"Entity\"].isin(countries_sa)]\n",
    "\n",
    "    # Create subplots\n",
    "    fig = make_subplots(\n",
    "        rows=1, cols=2, \n",
    "        subplot_titles=(f\"Temperatures in {region_na}\", f\"Temperatures in {region_sa}\")\n",
    "    )\n",
    "\n",
    "    # Add data for North America\n",
    "    for country in countries_na:\n",
    "        country_data = region_data_na[region_data_na[\"Entity\"] == country]\n",
    "        fig.add_trace(\n",
    "            go.Scatter(\n",
    "                x=country_data[\"Year\"], \n",
    "                y=country_data[\"Temperature\"], \n",
    "                mode='lines', \n",
    "                name=f\"{country} ({region_na})\"\n",
    "            ),\n",
    "            row=1, col=1\n",
    "        )\n",
    "\n",
    "    # Add data for South America\n",
    "    for country in countries_sa:\n",
    "        country_data = region_data_sa[region_data_sa[\"Entity\"] == country]\n",
    "        fig.add_trace(\n",
    "            go.Scatter(\n",
    "                x=country_data[\"Year\"], \n",
    "                y=country_data[\"Temperature\"], \n",
    "                mode='lines', \n",
    "                name=f\"{country} ({region_sa})\"\n",
    "            ),\n",
    "            row=1, col=2\n",
    "        )\n",
    "\n",
    "    # Customize layout\n",
    "    fig.update_layout(\n",
    "        title_text=\"Temperature Trends: North America vs. South America\",\n",
    "        title_font_size=20,\n",
    "        showlegend=True,\n",
    "        legend_title_text=\"Countries\",\n",
    "        xaxis=dict(title=\"Year\"),\n",
    "        yaxis=dict(title=\"Temperature (°C)\"),\n",
    "        height=800,  # Set the height of the graph\n",
    "        width=1600   # Set the width of the graph\n",
    "    )\n",
    "\n",
    "    # Save the graph as an image\n",
    "    fig.write_image(output_file)\n",
    "    print(f\"The graph has been successfully saved as '{output_file}'.\")\n",
    "\n",
    "plot_temperature_by_region_large_graph(\n",
    "    combined_filtered_data_na, north_america_countries, \"Nordamerika\",\n",
    "    sueden, south_america_countries, \"Südamerika\",\n",
    "    \"temperature_large_graph.png\"\n",
    ")\n"
   ]
  },
  {
   "cell_type": "code",
   "execution_count": 267,
   "metadata": {},
   "outputs": [],
   "source": [
    "def plot_temperature_vs_emissions(df_combined):\n",
    "    \"\"\"\n",
    "    Creates a scatter plot showing temperature as a function of total emissions, \n",
    "    including a regression line.\n",
    "\n",
    "    Parameters:\n",
    "        df_combined (DataFrame): A DataFrame containing columns \"emissions_total\", \n",
    "                                 \"Temperature\", \"Region\", and \"Year\".\n",
    "    \"\"\"\n",
    "    # Extract x (emissions) and y (temperature) data\n",
    "    x = df_combined[\"emissions_total\"]\n",
    "    y = df_combined[\"Temperature\"]\n",
    "\n",
    "    # Compute the linear regression (trendline)\n",
    "    coeffs = np.polyfit(x, y, deg=1)  # Linear regression coefficients\n",
    "    trendline = np.polyval(coeffs, x)\n",
    "\n",
    "    # Create scatter plot\n",
    "    fig = px.scatter(\n",
    "        df_combined,\n",
    "        x=\"emissions_total\",\n",
    "        y=\"Temperature\",\n",
    "        color=\"Region\",  # Group data points by region\n",
    "        title=\"Temperature vs. CO2 Emissions\",\n",
    "        labels={\n",
    "            \"emissions_total\": \"CO2 Emissions (Million Tons)\",\n",
    "            \"Temperature\": \"Temperature (°C)\"\n",
    "        },\n",
    "        hover_data=[\"Year\"]  # Display additional information on hover\n",
    "    )\n",
    "\n",
    "    # Display the plot\n",
    "    fig.show()"
   ]
  },
  {
   "cell_type": "code",
   "execution_count": 268,
   "metadata": {},
   "outputs": [
    {
     "data": {
      "application/vnd.plotly.v1+json": {
       "config": {
        "plotlyServerURL": "https://plot.ly"
       },
       "data": [
        {
         "customdata": [
          [
           1950
          ],
          [
           1951
          ],
          [
           1952
          ],
          [
           1953
          ],
          [
           1954
          ],
          [
           1955
          ],
          [
           1956
          ],
          [
           1957
          ],
          [
           1958
          ],
          [
           1959
          ],
          [
           1960
          ],
          [
           1961
          ],
          [
           1962
          ],
          [
           1963
          ],
          [
           1964
          ],
          [
           1965
          ],
          [
           1966
          ],
          [
           1967
          ],
          [
           1968
          ],
          [
           1969
          ],
          [
           1970
          ],
          [
           1971
          ],
          [
           1972
          ],
          [
           1973
          ],
          [
           1974
          ],
          [
           1975
          ],
          [
           1976
          ],
          [
           1977
          ],
          [
           1978
          ],
          [
           1979
          ],
          [
           1980
          ],
          [
           1981
          ],
          [
           1982
          ],
          [
           1983
          ],
          [
           1984
          ],
          [
           1985
          ],
          [
           1986
          ],
          [
           1987
          ],
          [
           1988
          ],
          [
           1989
          ],
          [
           1990
          ],
          [
           1991
          ],
          [
           1992
          ],
          [
           1993
          ],
          [
           1994
          ],
          [
           1995
          ],
          [
           1996
          ],
          [
           1997
          ],
          [
           1998
          ],
          [
           1999
          ],
          [
           2000
          ],
          [
           2001
          ],
          [
           2002
          ],
          [
           2003
          ],
          [
           2004
          ],
          [
           2005
          ],
          [
           2006
          ],
          [
           2007
          ],
          [
           2008
          ],
          [
           2009
          ],
          [
           2010
          ],
          [
           2011
          ],
          [
           2012
          ],
          [
           2013
          ],
          [
           2014
          ],
          [
           2015
          ],
          [
           2016
          ],
          [
           2017
          ],
          [
           2018
          ],
          [
           2019
          ],
          [
           2020
          ],
          [
           2021
          ],
          [
           2022
          ],
          [
           2023
          ]
         ],
         "hovertemplate": "Region=Nordamerika<br>CO2 Emissions (Million Tons)=%{x}<br>Temperature (°C)=%{y}<br>Year=%{customdata[0]}<extra></extra>",
         "legendgroup": "Nordamerika",
         "marker": {
          "color": "#636efa",
          "symbol": "circle"
         },
         "mode": "markers",
         "name": "Nordamerika",
         "orientation": "v",
         "showlegend": true,
         "type": "scatter",
         "x": [
          2736695436,
          2828319342,
          2760658134,
          2823216131,
          2701530049,
          2951921933.01,
          3105933582,
          3090374499.04,
          3011037941,
          3100337472.02,
          3176154199,
          3170677083,
          3294600987,
          3428158898,
          3607139442.2,
          3758346232,
          3943739271.8,
          4111690151.02,
          4274684407.14,
          4483133159,
          4842233046,
          4897530499.5,
          5143517141.5,
          5376832216.9,
          5232330800,
          5112733348.5,
          5408088411,
          5574033991,
          5661737776,
          5775791842,
          5603321392.9,
          5478636177,
          5245773251,
          5191470466.1,
          5440144473,
          5441084170,
          5439263535.5,
          5644989055,
          5893700671,
          6003145389.059999,
          5974949943.9,
          5921657056,
          6047708912,
          6151112738.52,
          6273393414,
          6332833423,
          6553918772,
          6669424182,
          6744686044,
          6837611523,
          7076749794,
          6987040736,
          7038077593,
          7151639629.9,
          7250493271,
          7296358652,
          7233510549.97,
          7337234367.5,
          7106463280,
          6623916771.97,
          6840040124,
          6741359359.5,
          6557206828.1,
          6691808183,
          6727743423.9,
          6574448642,
          6437558410,
          6389214325,
          6568377361.5,
          6465336836,
          5801687713,
          6164818484,
          6240387892,
          6094895502.5
         ],
         "xaxis": "x",
         "y": [
          20.8613949703125,
          21.30694545378125,
          21.487918907395834,
          21.6432700265625,
          21.200929357708333,
          21.096202161770833,
          20.97514520609375,
          21.5110290321875,
          21.717829189583334,
          21.432228825520834,
          21.308954070677082,
          21.335533916666666,
          21.296268146093748,
          21.415196886510415,
          21.421090154010418,
          21.333206945104166,
          21.322126082291668,
          21.3951777640625,
          21.240119569166666,
          21.718881716822917,
          21.39820635546875,
          21.2531024359375,
          21.43472491875,
          21.544669519791668,
          21.19742320953125,
          21.3104639625,
          21.199873936354166,
          21.68160093388021,
          21.469619622395832,
          21.471331579166666,
          21.747951413020832,
          21.674999763541667,
          21.560566384010418,
          21.870487391302085,
          21.361135308854166,
          21.368045475520834,
          21.479776404687502,
          22.024017662604166,
          21.76513555,
          21.549374027604166,
          21.843676934375,
          21.8580274871875,
          21.69523357578125,
          21.699699316145832,
          21.8855635753125,
          21.920230996854166,
          21.469946538541667,
          22.01093097503125,
          22.403743569479165,
          21.597608896979168,
          21.614870784375,
          21.868297334375,
          22.0641433346875,
          22.125893670291667,
          21.919042727083333,
          22.20960237465625,
          22.22056882223958,
          22.099825194635418,
          21.822524335677084,
          22.104887071458332,
          22.2426498553125,
          22.09172290703125,
          22.184900318385417,
          22.170381165520833,
          22.2432300459375,
          22.616315683489585,
          22.62754609375,
          22.419694002447915,
          22.224365017210935,
          22.605418375416665,
          22.6483987178125,
          22.4733256125,
          22.26880563890625,
          22.993054225520833
         ],
         "yaxis": "y"
        },
        {
         "customdata": [
          [
           1950
          ],
          [
           1951
          ],
          [
           1952
          ],
          [
           1953
          ],
          [
           1954
          ],
          [
           1955
          ],
          [
           1956
          ],
          [
           1957
          ],
          [
           1958
          ],
          [
           1959
          ],
          [
           1960
          ],
          [
           1961
          ],
          [
           1962
          ],
          [
           1963
          ],
          [
           1964
          ],
          [
           1965
          ],
          [
           1966
          ],
          [
           1967
          ],
          [
           1968
          ],
          [
           1969
          ],
          [
           1970
          ],
          [
           1971
          ],
          [
           1972
          ],
          [
           1973
          ],
          [
           1974
          ],
          [
           1975
          ],
          [
           1976
          ],
          [
           1977
          ],
          [
           1978
          ],
          [
           1979
          ],
          [
           1980
          ],
          [
           1981
          ],
          [
           1982
          ],
          [
           1983
          ],
          [
           1984
          ],
          [
           1985
          ],
          [
           1986
          ],
          [
           1987
          ],
          [
           1988
          ],
          [
           1989
          ],
          [
           1990
          ],
          [
           1991
          ],
          [
           1992
          ],
          [
           1993
          ],
          [
           1994
          ],
          [
           1995
          ],
          [
           1996
          ],
          [
           1997
          ],
          [
           1998
          ],
          [
           1999
          ],
          [
           2000
          ],
          [
           2001
          ],
          [
           2002
          ],
          [
           2003
          ],
          [
           2004
          ],
          [
           2005
          ],
          [
           2006
          ],
          [
           2007
          ],
          [
           2008
          ],
          [
           2009
          ],
          [
           2010
          ],
          [
           2011
          ],
          [
           2012
          ],
          [
           2013
          ],
          [
           2014
          ],
          [
           2015
          ],
          [
           2016
          ],
          [
           2017
          ],
          [
           2018
          ],
          [
           2019
          ],
          [
           2020
          ],
          [
           2021
          ],
          [
           2022
          ],
          [
           2023
          ]
         ],
         "hovertemplate": "Region=Südamerika<br>CO2 Emissions (Million Tons)=%{x}<br>Temperature (°C)=%{y}<br>Year=%{customdata[0]}<extra></extra>",
         "legendgroup": "Südamerika",
         "marker": {
          "color": "#EF553B",
          "symbol": "circle"
         },
         "mode": "markers",
         "name": "Südamerika",
         "orientation": "v",
         "showlegend": true,
         "type": "scatter",
         "x": [
          114035625,
          131914233,
          142109627,
          141313611,
          151785007,
          170981418.97,
          185145679.2,
          193888532,
          179864532,
          198212181,
          200484790.56,
          203162880.2,
          217010818.2,
          220899134,
          231916554,
          242066623,
          253728992,
          269309425,
          289744050,
          313513391.97,
          340122581,
          348978468,
          365263328,
          395600991,
          419595812,
          415177177.8,
          422633868.56,
          438612807,
          466227254.3,
          499014163,
          512846471,
          493668537,
          494476446,
          488996278,
          494864150.2,
          505299549,
          533423205,
          561170319.8,
          584342093.8,
          583946361.2,
          603183233,
          610923781.1,
          623931598,
          658223489.9,
          662247727,
          696528415.9,
          726315922,
          774318754.2,
          799643071,
          821790186,
          822198242,
          802235921,
          830667109,
          830983612,
          868039186,
          893606450,
          921282972,
          956035636,
          998592097.5,
          972692239,
          1083320397,
          1100253556,
          1155513219,
          1221197360,
          1238072896,
          1211090943,
          1163100359,
          1147356843,
          1096232266,
          1103929669.5,
          996605768,
          1099536200.5,
          1115266509,
          1129347297
         ],
         "xaxis": "x",
         "y": [
          19.93342052371795,
          20.239919046153847,
          20.264051542307694,
          20.44468049230769,
          19.866740322435895,
          19.794251356410257,
          19.60171083397436,
          20.334038571153844,
          20.6489299275641,
          20.305971715384615,
          20.34232198397436,
          20.59106596474359,
          20.19139502820513,
          20.6277989724359,
          20.311587825,
          20.438298403205128,
          20.491174199358973,
          20.42238488269231,
          20.36547973205128,
          20.777928375000002,
          20.485195010897435,
          19.986285901923075,
          20.578785507051286,
          20.476873901923078,
          20.024753634615386,
          20.137935683333335,
          20.044367794871793,
          20.677986633333333,
          20.62484469230769,
          20.590293350641026,
          20.70548870705128,
          20.574446964102563,
          20.679414626923077,
          20.795272507051283,
          20.239435727564107,
          20.402686342948716,
          20.505333941666667,
          20.915266944230773,
          20.596243612179485,
          20.47669390128205,
          20.630138434615386,
          20.72473799230769,
          20.562120937820513,
          20.652821953205127,
          20.875149210897437,
          20.887426301923078,
          20.583858773076923,
          21.06632267820513,
          21.142642621794874,
          20.50066474423077,
          20.44226235,
          20.771376428846153,
          20.970096904487182,
          20.980129025641023,
          20.980983171794872,
          21.113922340384615,
          21.123595696153846,
          20.88615543397436,
          20.907070748076926,
          21.196974233333336,
          21.177627256410254,
          21.032753571794874,
          21.226147824358975,
          21.09557663269231,
          21.258389114743586,
          21.58527005897436,
          21.427870253846155,
          21.431766069230772,
          21.139192352564102,
          21.48326262051282,
          21.570506365384617,
          21.228152308333335,
          21.01258336346154,
          21.904066082692307
         ],
         "yaxis": "y"
        }
       ],
       "layout": {
        "legend": {
         "title": {
          "text": "Region"
         },
         "tracegroupgap": 0
        },
        "template": {
         "data": {
          "bar": [
           {
            "error_x": {
             "color": "#2a3f5f"
            },
            "error_y": {
             "color": "#2a3f5f"
            },
            "marker": {
             "line": {
              "color": "#E5ECF6",
              "width": 0.5
             },
             "pattern": {
              "fillmode": "overlay",
              "size": 10,
              "solidity": 0.2
             }
            },
            "type": "bar"
           }
          ],
          "barpolar": [
           {
            "marker": {
             "line": {
              "color": "#E5ECF6",
              "width": 0.5
             },
             "pattern": {
              "fillmode": "overlay",
              "size": 10,
              "solidity": 0.2
             }
            },
            "type": "barpolar"
           }
          ],
          "carpet": [
           {
            "aaxis": {
             "endlinecolor": "#2a3f5f",
             "gridcolor": "white",
             "linecolor": "white",
             "minorgridcolor": "white",
             "startlinecolor": "#2a3f5f"
            },
            "baxis": {
             "endlinecolor": "#2a3f5f",
             "gridcolor": "white",
             "linecolor": "white",
             "minorgridcolor": "white",
             "startlinecolor": "#2a3f5f"
            },
            "type": "carpet"
           }
          ],
          "choropleth": [
           {
            "colorbar": {
             "outlinewidth": 0,
             "ticks": ""
            },
            "type": "choropleth"
           }
          ],
          "contour": [
           {
            "colorbar": {
             "outlinewidth": 0,
             "ticks": ""
            },
            "colorscale": [
             [
              0,
              "#0d0887"
             ],
             [
              0.1111111111111111,
              "#46039f"
             ],
             [
              0.2222222222222222,
              "#7201a8"
             ],
             [
              0.3333333333333333,
              "#9c179e"
             ],
             [
              0.4444444444444444,
              "#bd3786"
             ],
             [
              0.5555555555555556,
              "#d8576b"
             ],
             [
              0.6666666666666666,
              "#ed7953"
             ],
             [
              0.7777777777777778,
              "#fb9f3a"
             ],
             [
              0.8888888888888888,
              "#fdca26"
             ],
             [
              1,
              "#f0f921"
             ]
            ],
            "type": "contour"
           }
          ],
          "contourcarpet": [
           {
            "colorbar": {
             "outlinewidth": 0,
             "ticks": ""
            },
            "type": "contourcarpet"
           }
          ],
          "heatmap": [
           {
            "colorbar": {
             "outlinewidth": 0,
             "ticks": ""
            },
            "colorscale": [
             [
              0,
              "#0d0887"
             ],
             [
              0.1111111111111111,
              "#46039f"
             ],
             [
              0.2222222222222222,
              "#7201a8"
             ],
             [
              0.3333333333333333,
              "#9c179e"
             ],
             [
              0.4444444444444444,
              "#bd3786"
             ],
             [
              0.5555555555555556,
              "#d8576b"
             ],
             [
              0.6666666666666666,
              "#ed7953"
             ],
             [
              0.7777777777777778,
              "#fb9f3a"
             ],
             [
              0.8888888888888888,
              "#fdca26"
             ],
             [
              1,
              "#f0f921"
             ]
            ],
            "type": "heatmap"
           }
          ],
          "heatmapgl": [
           {
            "colorbar": {
             "outlinewidth": 0,
             "ticks": ""
            },
            "colorscale": [
             [
              0,
              "#0d0887"
             ],
             [
              0.1111111111111111,
              "#46039f"
             ],
             [
              0.2222222222222222,
              "#7201a8"
             ],
             [
              0.3333333333333333,
              "#9c179e"
             ],
             [
              0.4444444444444444,
              "#bd3786"
             ],
             [
              0.5555555555555556,
              "#d8576b"
             ],
             [
              0.6666666666666666,
              "#ed7953"
             ],
             [
              0.7777777777777778,
              "#fb9f3a"
             ],
             [
              0.8888888888888888,
              "#fdca26"
             ],
             [
              1,
              "#f0f921"
             ]
            ],
            "type": "heatmapgl"
           }
          ],
          "histogram": [
           {
            "marker": {
             "pattern": {
              "fillmode": "overlay",
              "size": 10,
              "solidity": 0.2
             }
            },
            "type": "histogram"
           }
          ],
          "histogram2d": [
           {
            "colorbar": {
             "outlinewidth": 0,
             "ticks": ""
            },
            "colorscale": [
             [
              0,
              "#0d0887"
             ],
             [
              0.1111111111111111,
              "#46039f"
             ],
             [
              0.2222222222222222,
              "#7201a8"
             ],
             [
              0.3333333333333333,
              "#9c179e"
             ],
             [
              0.4444444444444444,
              "#bd3786"
             ],
             [
              0.5555555555555556,
              "#d8576b"
             ],
             [
              0.6666666666666666,
              "#ed7953"
             ],
             [
              0.7777777777777778,
              "#fb9f3a"
             ],
             [
              0.8888888888888888,
              "#fdca26"
             ],
             [
              1,
              "#f0f921"
             ]
            ],
            "type": "histogram2d"
           }
          ],
          "histogram2dcontour": [
           {
            "colorbar": {
             "outlinewidth": 0,
             "ticks": ""
            },
            "colorscale": [
             [
              0,
              "#0d0887"
             ],
             [
              0.1111111111111111,
              "#46039f"
             ],
             [
              0.2222222222222222,
              "#7201a8"
             ],
             [
              0.3333333333333333,
              "#9c179e"
             ],
             [
              0.4444444444444444,
              "#bd3786"
             ],
             [
              0.5555555555555556,
              "#d8576b"
             ],
             [
              0.6666666666666666,
              "#ed7953"
             ],
             [
              0.7777777777777778,
              "#fb9f3a"
             ],
             [
              0.8888888888888888,
              "#fdca26"
             ],
             [
              1,
              "#f0f921"
             ]
            ],
            "type": "histogram2dcontour"
           }
          ],
          "mesh3d": [
           {
            "colorbar": {
             "outlinewidth": 0,
             "ticks": ""
            },
            "type": "mesh3d"
           }
          ],
          "parcoords": [
           {
            "line": {
             "colorbar": {
              "outlinewidth": 0,
              "ticks": ""
             }
            },
            "type": "parcoords"
           }
          ],
          "pie": [
           {
            "automargin": true,
            "type": "pie"
           }
          ],
          "scatter": [
           {
            "fillpattern": {
             "fillmode": "overlay",
             "size": 10,
             "solidity": 0.2
            },
            "type": "scatter"
           }
          ],
          "scatter3d": [
           {
            "line": {
             "colorbar": {
              "outlinewidth": 0,
              "ticks": ""
             }
            },
            "marker": {
             "colorbar": {
              "outlinewidth": 0,
              "ticks": ""
             }
            },
            "type": "scatter3d"
           }
          ],
          "scattercarpet": [
           {
            "marker": {
             "colorbar": {
              "outlinewidth": 0,
              "ticks": ""
             }
            },
            "type": "scattercarpet"
           }
          ],
          "scattergeo": [
           {
            "marker": {
             "colorbar": {
              "outlinewidth": 0,
              "ticks": ""
             }
            },
            "type": "scattergeo"
           }
          ],
          "scattergl": [
           {
            "marker": {
             "colorbar": {
              "outlinewidth": 0,
              "ticks": ""
             }
            },
            "type": "scattergl"
           }
          ],
          "scattermapbox": [
           {
            "marker": {
             "colorbar": {
              "outlinewidth": 0,
              "ticks": ""
             }
            },
            "type": "scattermapbox"
           }
          ],
          "scatterpolar": [
           {
            "marker": {
             "colorbar": {
              "outlinewidth": 0,
              "ticks": ""
             }
            },
            "type": "scatterpolar"
           }
          ],
          "scatterpolargl": [
           {
            "marker": {
             "colorbar": {
              "outlinewidth": 0,
              "ticks": ""
             }
            },
            "type": "scatterpolargl"
           }
          ],
          "scatterternary": [
           {
            "marker": {
             "colorbar": {
              "outlinewidth": 0,
              "ticks": ""
             }
            },
            "type": "scatterternary"
           }
          ],
          "surface": [
           {
            "colorbar": {
             "outlinewidth": 0,
             "ticks": ""
            },
            "colorscale": [
             [
              0,
              "#0d0887"
             ],
             [
              0.1111111111111111,
              "#46039f"
             ],
             [
              0.2222222222222222,
              "#7201a8"
             ],
             [
              0.3333333333333333,
              "#9c179e"
             ],
             [
              0.4444444444444444,
              "#bd3786"
             ],
             [
              0.5555555555555556,
              "#d8576b"
             ],
             [
              0.6666666666666666,
              "#ed7953"
             ],
             [
              0.7777777777777778,
              "#fb9f3a"
             ],
             [
              0.8888888888888888,
              "#fdca26"
             ],
             [
              1,
              "#f0f921"
             ]
            ],
            "type": "surface"
           }
          ],
          "table": [
           {
            "cells": {
             "fill": {
              "color": "#EBF0F8"
             },
             "line": {
              "color": "white"
             }
            },
            "header": {
             "fill": {
              "color": "#C8D4E3"
             },
             "line": {
              "color": "white"
             }
            },
            "type": "table"
           }
          ]
         },
         "layout": {
          "annotationdefaults": {
           "arrowcolor": "#2a3f5f",
           "arrowhead": 0,
           "arrowwidth": 1
          },
          "autotypenumbers": "strict",
          "coloraxis": {
           "colorbar": {
            "outlinewidth": 0,
            "ticks": ""
           }
          },
          "colorscale": {
           "diverging": [
            [
             0,
             "#8e0152"
            ],
            [
             0.1,
             "#c51b7d"
            ],
            [
             0.2,
             "#de77ae"
            ],
            [
             0.3,
             "#f1b6da"
            ],
            [
             0.4,
             "#fde0ef"
            ],
            [
             0.5,
             "#f7f7f7"
            ],
            [
             0.6,
             "#e6f5d0"
            ],
            [
             0.7,
             "#b8e186"
            ],
            [
             0.8,
             "#7fbc41"
            ],
            [
             0.9,
             "#4d9221"
            ],
            [
             1,
             "#276419"
            ]
           ],
           "sequential": [
            [
             0,
             "#0d0887"
            ],
            [
             0.1111111111111111,
             "#46039f"
            ],
            [
             0.2222222222222222,
             "#7201a8"
            ],
            [
             0.3333333333333333,
             "#9c179e"
            ],
            [
             0.4444444444444444,
             "#bd3786"
            ],
            [
             0.5555555555555556,
             "#d8576b"
            ],
            [
             0.6666666666666666,
             "#ed7953"
            ],
            [
             0.7777777777777778,
             "#fb9f3a"
            ],
            [
             0.8888888888888888,
             "#fdca26"
            ],
            [
             1,
             "#f0f921"
            ]
           ],
           "sequentialminus": [
            [
             0,
             "#0d0887"
            ],
            [
             0.1111111111111111,
             "#46039f"
            ],
            [
             0.2222222222222222,
             "#7201a8"
            ],
            [
             0.3333333333333333,
             "#9c179e"
            ],
            [
             0.4444444444444444,
             "#bd3786"
            ],
            [
             0.5555555555555556,
             "#d8576b"
            ],
            [
             0.6666666666666666,
             "#ed7953"
            ],
            [
             0.7777777777777778,
             "#fb9f3a"
            ],
            [
             0.8888888888888888,
             "#fdca26"
            ],
            [
             1,
             "#f0f921"
            ]
           ]
          },
          "colorway": [
           "#636efa",
           "#EF553B",
           "#00cc96",
           "#ab63fa",
           "#FFA15A",
           "#19d3f3",
           "#FF6692",
           "#B6E880",
           "#FF97FF",
           "#FECB52"
          ],
          "font": {
           "color": "#2a3f5f"
          },
          "geo": {
           "bgcolor": "white",
           "lakecolor": "white",
           "landcolor": "#E5ECF6",
           "showlakes": true,
           "showland": true,
           "subunitcolor": "white"
          },
          "hoverlabel": {
           "align": "left"
          },
          "hovermode": "closest",
          "mapbox": {
           "style": "light"
          },
          "paper_bgcolor": "white",
          "plot_bgcolor": "#E5ECF6",
          "polar": {
           "angularaxis": {
            "gridcolor": "white",
            "linecolor": "white",
            "ticks": ""
           },
           "bgcolor": "#E5ECF6",
           "radialaxis": {
            "gridcolor": "white",
            "linecolor": "white",
            "ticks": ""
           }
          },
          "scene": {
           "xaxis": {
            "backgroundcolor": "#E5ECF6",
            "gridcolor": "white",
            "gridwidth": 2,
            "linecolor": "white",
            "showbackground": true,
            "ticks": "",
            "zerolinecolor": "white"
           },
           "yaxis": {
            "backgroundcolor": "#E5ECF6",
            "gridcolor": "white",
            "gridwidth": 2,
            "linecolor": "white",
            "showbackground": true,
            "ticks": "",
            "zerolinecolor": "white"
           },
           "zaxis": {
            "backgroundcolor": "#E5ECF6",
            "gridcolor": "white",
            "gridwidth": 2,
            "linecolor": "white",
            "showbackground": true,
            "ticks": "",
            "zerolinecolor": "white"
           }
          },
          "shapedefaults": {
           "line": {
            "color": "#2a3f5f"
           }
          },
          "ternary": {
           "aaxis": {
            "gridcolor": "white",
            "linecolor": "white",
            "ticks": ""
           },
           "baxis": {
            "gridcolor": "white",
            "linecolor": "white",
            "ticks": ""
           },
           "bgcolor": "#E5ECF6",
           "caxis": {
            "gridcolor": "white",
            "linecolor": "white",
            "ticks": ""
           }
          },
          "title": {
           "x": 0.05
          },
          "xaxis": {
           "automargin": true,
           "gridcolor": "white",
           "linecolor": "white",
           "ticks": "",
           "title": {
            "standoff": 15
           },
           "zerolinecolor": "white",
           "zerolinewidth": 2
          },
          "yaxis": {
           "automargin": true,
           "gridcolor": "white",
           "linecolor": "white",
           "ticks": "",
           "title": {
            "standoff": 15
           },
           "zerolinecolor": "white",
           "zerolinewidth": 2
          }
         }
        },
        "title": {
         "text": "Temperature vs. CO2 Emissions"
        },
        "xaxis": {
         "anchor": "y",
         "domain": [
          0,
          1
         ],
         "title": {
          "text": "CO2 Emissions (Million Tons)"
         }
        },
        "yaxis": {
         "anchor": "x",
         "domain": [
          0,
          1
         ],
         "title": {
          "text": "Temperature (°C)"
         }
        }
       }
      }
     },
     "metadata": {},
     "output_type": "display_data"
    }
   ],
   "source": [
    "    # Region hinzufügen, um die Daten zu unterscheiden\n",
    "yearly_summarynorden[\"Region\"] = \"Nordamerika\"\n",
    "yearly_summarysouth[\"Region\"] = \"Südamerika\"\n",
    "\n",
    "df_combined = pd.concat([yearly_summarynorden, yearly_summarysouth], ignore_index=True)\n",
    "\n",
    "plot_temperature_vs_emissions(df_combined)"
   ]
  },
  {
   "cell_type": "code",
   "execution_count": 269,
   "metadata": {},
   "outputs": [],
   "source": [
    "def plot_temperature_with_trendlines(df_combined, p_values_df):\n",
    "    \"\"\"\n",
    "    Creates an interactive Plotly chart displaying temperature data with trendlines and p-values.\n",
    "\n",
    "    Parameters:\n",
    "        df_combined (DataFrame): A DataFrame containing columns \"Region\", \"Year\", and \"Temperature\".\n",
    "        p_values_df (DataFrame): A DataFrame with p-values and regression details for each region.\n",
    "    \"\"\"\n",
    "    # Initialize a Plotly figure\n",
    "    fig = go.Figure()\n",
    "\n",
    "    # Iterate through each unique region to plot temperature data and trendlines\n",
    "    for region in df_combined[\"Region\"].unique():\n",
    "        # Filter data for the current region\n",
    "        region_data = df_combined[df_combined[\"Region\"] == region]\n",
    "        x = region_data[\"Year\"]\n",
    "        y = region_data[\"Temperature\"]\n",
    "\n",
    "        # Plot temperature data\n",
    "        fig.add_trace(go.Scatter(\n",
    "            x=x,\n",
    "            y=y,\n",
    "            mode=\"lines\",\n",
    "            name=f\"{region} Temperature\",\n",
    "            line=dict(width=2),\n",
    "            hovertemplate=\"Year: %{x}<br>Temperature: %{y:.2f}°C<extra></extra>\"\n",
    "        ))\n",
    "\n",
    "        # Fit a polynomial trendline (degree 4 for better fit)\n",
    "        coeffs = np.polyfit(x, y, deg=4)\n",
    "        trendline = np.polyval(coeffs, x)\n",
    "\n",
    "        # Add trendline to the chart\n",
    "        fig.add_trace(go.Scatter(\n",
    "            x=x,\n",
    "            y=trendline,\n",
    "            mode=\"lines\",\n",
    "            name=f\"{region} Trendline\",\n",
    "            line=dict(dash=\"dash\"),\n",
    "            hovertemplate=\"Year: %{x}<br>Trendline: %{y:.2f}°C<extra></extra>\"\n",
    "        ))\n",
    "\n",
    "        # Retrieve the p-value for the region\n",
    "        p_value = p_values_df[p_values_df[\"Region\"] == region][\"P-value\"].values[0]\n",
    "\n",
    "        # Add a label for the p-value to the legend\n",
    "        fig.add_trace(go.Scatter(\n",
    "            x=[x.iloc[-1]],  # Position at the last year\n",
    "            y=[y.iloc[-1]],  # Position at the last temperature\n",
    "            mode=\"markers+text\",\n",
    "            text=[f\"P-value: {p_value:.4f}\"],\n",
    "            textposition=\"top center\",\n",
    "            marker=dict(size=1, color=\"rgba(0,0,0,0)\"),  # Invisible marker\n",
    "            showlegend=False\n",
    "        ))\n",
    "\n",
    "    # Customize the layout\n",
    "    fig.update_layout(\n",
    "        title=\"Temperature Changes in North and South America with Trendlines\",\n",
    "        xaxis_title=\"Year\",\n",
    "        yaxis_title=\"Temperature (°C)\",\n",
    "        legend_title=\"Regions\",\n",
    "        template=\"plotly_white\",\n",
    "        hovermode=\"x unified\"\n",
    "    )\n",
    "\n",
    "    # Show the chart\n",
    "    fig.show()"
   ]
  },
  {
   "cell_type": "code",
   "execution_count": 270,
   "metadata": {},
   "outputs": [],
   "source": [
    "def calculate_p_values(df_combined):\n",
    "    \"\"\"\n",
    "    Calculates linear regression and p-values for each region in the dataset.\n",
    "\n",
    "    Parameters:\n",
    "        df_combined (DataFrame): A DataFrame containing columns \"Region\", \"Year\", and \"emissions_total\".\n",
    "        \n",
    "    Returns:\n",
    "        DataFrame: A new DataFrame with linear regression results, including slope, intercept, R-squared, and p-value for each region.\n",
    "    \"\"\"\n",
    "    import pandas as pd\n",
    "    from scipy.stats import linregress\n",
    "\n",
    "    # Initialize a list to store the regression results for each region\n",
    "    results = []\n",
    "\n",
    "    # Iterate over each unique region in the DataFrame\n",
    "    for region in df_combined[\"Region\"].unique():\n",
    "        # Filter the data for the current region\n",
    "        region_data = df_combined[df_combined[\"Region\"] == region]\n",
    "        x = region_data[\"Year\"].values  # Independent variable\n",
    "        y = region_data[\"emissions_total\"].values  # Dependent variable\n",
    "\n",
    "        # Perform linear regression\n",
    "        slope, intercept, r_value, p_value, std_err = linregress(x, y)\n",
    "\n",
    "        # Append the regression results for the region to the results list\n",
    "        results.append({\n",
    "            \"Region\": region,\n",
    "            \"Slope\": slope,  # The rate of change in emissions over time\n",
    "            \"Intercept\": intercept,  # The estimated emissions at Year=0\n",
    "            \"R-squared\": r_value**2,  # Coefficient of determination, indicates goodness of fit\n",
    "            \"P-value\": p_value  # Statistical significance of the slope\n",
    "        })\n",
    "\n",
    "    # Convert the results list into a DataFrame for easier analysis and visualization\n",
    "    return pd.DataFrame(results)"
   ]
  },
  {
   "cell_type": "code",
   "execution_count": 271,
   "metadata": {},
   "outputs": [
    {
     "name": "stdout",
     "output_type": "stream",
     "text": [
      "\n",
      "P-values and regression results:\n",
      "        Region         Slope     Intercept  R-squared       P-value\n",
      "0  Nordamerika  5.990640e+07 -1.136031e+11    0.80692  2.011357e-27\n",
      "1   Südamerika  1.580106e+07 -3.077868e+10    0.96686  5.146013e-55\n"
     ]
    }
   ],
   "source": [
    "# Calculate p-values for statistical significance testing\n",
    "p_values_df = calculate_p_values(df_combined)\n",
    "\n",
    "# Display the resulting p-values and regression results\n",
    "print(\"\\nP-values and regression results:\")\n",
    "print(p_values_df)"
   ]
  },
  {
   "cell_type": "code",
   "execution_count": 272,
   "metadata": {},
   "outputs": [
    {
     "data": {
      "application/vnd.plotly.v1+json": {
       "config": {
        "plotlyServerURL": "https://plot.ly"
       },
       "data": [
        {
         "hovertemplate": "Year: %{x}<br>Temperature: %{y:.2f}°C<extra></extra>",
         "line": {
          "width": 2
         },
         "mode": "lines",
         "name": "Nordamerika Temperature",
         "type": "scatter",
         "x": [
          1950,
          1951,
          1952,
          1953,
          1954,
          1955,
          1956,
          1957,
          1958,
          1959,
          1960,
          1961,
          1962,
          1963,
          1964,
          1965,
          1966,
          1967,
          1968,
          1969,
          1970,
          1971,
          1972,
          1973,
          1974,
          1975,
          1976,
          1977,
          1978,
          1979,
          1980,
          1981,
          1982,
          1983,
          1984,
          1985,
          1986,
          1987,
          1988,
          1989,
          1990,
          1991,
          1992,
          1993,
          1994,
          1995,
          1996,
          1997,
          1998,
          1999,
          2000,
          2001,
          2002,
          2003,
          2004,
          2005,
          2006,
          2007,
          2008,
          2009,
          2010,
          2011,
          2012,
          2013,
          2014,
          2015,
          2016,
          2017,
          2018,
          2019,
          2020,
          2021,
          2022,
          2023
         ],
         "y": [
          20.8613949703125,
          21.30694545378125,
          21.487918907395834,
          21.6432700265625,
          21.200929357708333,
          21.096202161770833,
          20.97514520609375,
          21.5110290321875,
          21.717829189583334,
          21.432228825520834,
          21.308954070677082,
          21.335533916666666,
          21.296268146093748,
          21.415196886510415,
          21.421090154010418,
          21.333206945104166,
          21.322126082291668,
          21.3951777640625,
          21.240119569166666,
          21.718881716822917,
          21.39820635546875,
          21.2531024359375,
          21.43472491875,
          21.544669519791668,
          21.19742320953125,
          21.3104639625,
          21.199873936354166,
          21.68160093388021,
          21.469619622395832,
          21.471331579166666,
          21.747951413020832,
          21.674999763541667,
          21.560566384010418,
          21.870487391302085,
          21.361135308854166,
          21.368045475520834,
          21.479776404687502,
          22.024017662604166,
          21.76513555,
          21.549374027604166,
          21.843676934375,
          21.8580274871875,
          21.69523357578125,
          21.699699316145832,
          21.8855635753125,
          21.920230996854166,
          21.469946538541667,
          22.01093097503125,
          22.403743569479165,
          21.597608896979168,
          21.614870784375,
          21.868297334375,
          22.0641433346875,
          22.125893670291667,
          21.919042727083333,
          22.20960237465625,
          22.22056882223958,
          22.099825194635418,
          21.822524335677084,
          22.104887071458332,
          22.2426498553125,
          22.09172290703125,
          22.184900318385417,
          22.170381165520833,
          22.2432300459375,
          22.616315683489585,
          22.62754609375,
          22.419694002447915,
          22.224365017210935,
          22.605418375416665,
          22.6483987178125,
          22.4733256125,
          22.26880563890625,
          22.993054225520833
         ]
        },
        {
         "hovertemplate": "Year: %{x}<br>Trendline: %{y:.2f}°C<extra></extra>",
         "line": {
          "dash": "dash"
         },
         "mode": "lines",
         "name": "Nordamerika Trendline",
         "type": "scatter",
         "x": [
          1950,
          1951,
          1952,
          1953,
          1954,
          1955,
          1956,
          1957,
          1958,
          1959,
          1960,
          1961,
          1962,
          1963,
          1964,
          1965,
          1966,
          1967,
          1968,
          1969,
          1970,
          1971,
          1972,
          1973,
          1974,
          1975,
          1976,
          1977,
          1978,
          1979,
          1980,
          1981,
          1982,
          1983,
          1984,
          1985,
          1986,
          1987,
          1988,
          1989,
          1990,
          1991,
          1992,
          1993,
          1994,
          1995,
          1996,
          1997,
          1998,
          1999,
          2000,
          2001,
          2002,
          2003,
          2004,
          2005,
          2006,
          2007,
          2008,
          2009,
          2010,
          2011,
          2012,
          2013,
          2014,
          2015,
          2016,
          2017,
          2018,
          2019,
          2020,
          2021,
          2022,
          2023
         ],
         "y": [
          21.25980651967984,
          21.267301971820416,
          21.274786885565845,
          21.28227777137363,
          21.289791005357984,
          21.29734282993013,
          21.30494935325987,
          21.312626549624838,
          21.320390259337728,
          21.32825618838251,
          21.336239909083815,
          21.344356859612162,
          21.35262234399852,
          21.361051532410784,
          21.369659461051924,
          21.378461031912593,
          21.387471013062168,
          21.396704038619646,
          21.40617460847716,
          21.41589708875108,
          21.42588571147644,
          21.436154574519605,
          21.44671764195664,
          21.457588743563974,
          21.468781575385947,
          21.480309699327336,
          21.492186543138814,
          21.504425400897162,
          21.517039432248566,
          21.530041663121665,
          21.543444985276437,
          21.55726215656614,
          21.571505800733576,
          21.58618840748386,
          21.601322332557174,
          21.61691979780153,
          21.632992890721653,
          21.64955356514838,
          21.66661364067113,
          21.684184802827076,
          21.702278603508603,
          21.72090646009019,
          21.740079656272428,
          21.759809341514483,
          21.78010653144156,
          21.800982107568416,
          21.82244681743032,
          21.84451127445209,
          21.867185958239133,
          21.89048121412634,
          21.914407253585523,
          21.93897415405081,
          21.96419185886043,
          21.990070177431335,
          22.01661878521554,
          22.04384722346731,
          22.07176489943231,
          22.100381086638663,
          22.129704924227553,
          22.159745417389786,
          22.190511437598616,
          22.22201172192581,
          22.254254873507307,
          22.287249361761496,
          22.32100352177804,
          22.355525554696214,
          22.390823527632165,
          22.4269053737371,
          22.463778892095434,
          22.50145174782665,
          22.539931472041644,
          22.579225461624446,
          22.619340979712433,
          22.660285155361635
         ]
        },
        {
         "marker": {
          "color": "rgba(0,0,0,0)",
          "size": 1
         },
         "mode": "markers+text",
         "showlegend": false,
         "text": [
          "P-value: 0.0000"
         ],
         "textposition": "top center",
         "type": "scatter",
         "x": [
          2023
         ],
         "y": [
          22.993054225520833
         ]
        },
        {
         "hovertemplate": "Year: %{x}<br>Temperature: %{y:.2f}°C<extra></extra>",
         "line": {
          "width": 2
         },
         "mode": "lines",
         "name": "Südamerika Temperature",
         "type": "scatter",
         "x": [
          1950,
          1951,
          1952,
          1953,
          1954,
          1955,
          1956,
          1957,
          1958,
          1959,
          1960,
          1961,
          1962,
          1963,
          1964,
          1965,
          1966,
          1967,
          1968,
          1969,
          1970,
          1971,
          1972,
          1973,
          1974,
          1975,
          1976,
          1977,
          1978,
          1979,
          1980,
          1981,
          1982,
          1983,
          1984,
          1985,
          1986,
          1987,
          1988,
          1989,
          1990,
          1991,
          1992,
          1993,
          1994,
          1995,
          1996,
          1997,
          1998,
          1999,
          2000,
          2001,
          2002,
          2003,
          2004,
          2005,
          2006,
          2007,
          2008,
          2009,
          2010,
          2011,
          2012,
          2013,
          2014,
          2015,
          2016,
          2017,
          2018,
          2019,
          2020,
          2021,
          2022,
          2023
         ],
         "y": [
          19.93342052371795,
          20.239919046153847,
          20.264051542307694,
          20.44468049230769,
          19.866740322435895,
          19.794251356410257,
          19.60171083397436,
          20.334038571153844,
          20.6489299275641,
          20.305971715384615,
          20.34232198397436,
          20.59106596474359,
          20.19139502820513,
          20.6277989724359,
          20.311587825,
          20.438298403205128,
          20.491174199358973,
          20.42238488269231,
          20.36547973205128,
          20.777928375000002,
          20.485195010897435,
          19.986285901923075,
          20.578785507051286,
          20.476873901923078,
          20.024753634615386,
          20.137935683333335,
          20.044367794871793,
          20.677986633333333,
          20.62484469230769,
          20.590293350641026,
          20.70548870705128,
          20.574446964102563,
          20.679414626923077,
          20.795272507051283,
          20.239435727564107,
          20.402686342948716,
          20.505333941666667,
          20.915266944230773,
          20.596243612179485,
          20.47669390128205,
          20.630138434615386,
          20.72473799230769,
          20.562120937820513,
          20.652821953205127,
          20.875149210897437,
          20.887426301923078,
          20.583858773076923,
          21.06632267820513,
          21.142642621794874,
          20.50066474423077,
          20.44226235,
          20.771376428846153,
          20.970096904487182,
          20.980129025641023,
          20.980983171794872,
          21.113922340384615,
          21.123595696153846,
          20.88615543397436,
          20.907070748076926,
          21.196974233333336,
          21.177627256410254,
          21.032753571794874,
          21.226147824358975,
          21.09557663269231,
          21.258389114743586,
          21.58527005897436,
          21.427870253846155,
          21.431766069230772,
          21.139192352564102,
          21.48326262051282,
          21.570506365384617,
          21.228152308333335,
          21.01258336346154,
          21.904066082692307
         ]
        },
        {
         "hovertemplate": "Year: %{x}<br>Trendline: %{y:.2f}°C<extra></extra>",
         "line": {
          "dash": "dash"
         },
         "mode": "lines",
         "name": "Südamerika Trendline",
         "type": "scatter",
         "x": [
          1950,
          1951,
          1952,
          1953,
          1954,
          1955,
          1956,
          1957,
          1958,
          1959,
          1960,
          1961,
          1962,
          1963,
          1964,
          1965,
          1966,
          1967,
          1968,
          1969,
          1970,
          1971,
          1972,
          1973,
          1974,
          1975,
          1976,
          1977,
          1978,
          1979,
          1980,
          1981,
          1982,
          1983,
          1984,
          1985,
          1986,
          1987,
          1988,
          1989,
          1990,
          1991,
          1992,
          1993,
          1994,
          1995,
          1996,
          1997,
          1998,
          1999,
          2000,
          2001,
          2002,
          2003,
          2004,
          2005,
          2006,
          2007,
          2008,
          2009,
          2010,
          2011,
          2012,
          2013,
          2014,
          2015,
          2016,
          2017,
          2018,
          2019,
          2020,
          2021,
          2022,
          2023
         ],
         "y": [
          20.02039248077199,
          20.06152160000056,
          20.099369996692985,
          20.134138284251094,
          20.16602213261649,
          20.195212265942246,
          20.22189445933327,
          20.246249542571604,
          20.268453400582075,
          20.288676973897964,
          20.307086245622486,
          20.32384226610884,
          20.33910113107413,
          20.353013995103538,
          20.365727060008794,
          20.37738158321008,
          20.388113882392645,
          20.398055320605636,
          20.407332320231944,
          20.416066351812333,
          20.42437394009903,
          20.43236666917801,
          20.440151173621416,
          20.447829138487577,
          20.455497305840254,
          20.463247471489012,
          20.471166481263936,
          20.479336242657155,
          20.48783370666206,
          20.496730881743133,
          20.50609483430162,
          20.51598767703399,
          20.526466585230082,
          20.537583777215332,
          20.5493865320459,
          20.56191718298942,
          20.575213108211756,
          20.589306751731783,
          20.60422560106963,
          20.619992207735777,
          20.636624162551016,
          20.654134123586118,
          20.672529793344438,
          20.69181393366307,
          20.711984358727932,
          20.73303393041715,
          20.754950573202223,
          20.777717262040824,
          20.801312019582838,
          20.82570793060586,
          20.85087312804535,
          20.87677080417052,
          20.903359197080135,
          20.930591602809727,
          20.958416369743645,
          20.98677690513432,
          21.015611661132425,
          21.044854145962745,
          21.074432929046452,
          21.104271621908993,
          21.134288899134845,
          21.164398483000696,
          21.194509151391685,
          21.224524737801403,
          21.25434412388131,
          21.283861252013594,
          21.31296511273831,
          21.34153975220397,
          21.36946426751092,
          21.396612817421556,
          21.422854605596513,
          21.448053888510913,
          21.472069984767586,
          21.49475725973025
         ]
        },
        {
         "marker": {
          "color": "rgba(0,0,0,0)",
          "size": 1
         },
         "mode": "markers+text",
         "showlegend": false,
         "text": [
          "P-value: 0.0000"
         ],
         "textposition": "top center",
         "type": "scatter",
         "x": [
          2023
         ],
         "y": [
          21.904066082692307
         ]
        }
       ],
       "layout": {
        "hovermode": "x unified",
        "legend": {
         "title": {
          "text": "Regions"
         }
        },
        "template": {
         "data": {
          "bar": [
           {
            "error_x": {
             "color": "#2a3f5f"
            },
            "error_y": {
             "color": "#2a3f5f"
            },
            "marker": {
             "line": {
              "color": "white",
              "width": 0.5
             },
             "pattern": {
              "fillmode": "overlay",
              "size": 10,
              "solidity": 0.2
             }
            },
            "type": "bar"
           }
          ],
          "barpolar": [
           {
            "marker": {
             "line": {
              "color": "white",
              "width": 0.5
             },
             "pattern": {
              "fillmode": "overlay",
              "size": 10,
              "solidity": 0.2
             }
            },
            "type": "barpolar"
           }
          ],
          "carpet": [
           {
            "aaxis": {
             "endlinecolor": "#2a3f5f",
             "gridcolor": "#C8D4E3",
             "linecolor": "#C8D4E3",
             "minorgridcolor": "#C8D4E3",
             "startlinecolor": "#2a3f5f"
            },
            "baxis": {
             "endlinecolor": "#2a3f5f",
             "gridcolor": "#C8D4E3",
             "linecolor": "#C8D4E3",
             "minorgridcolor": "#C8D4E3",
             "startlinecolor": "#2a3f5f"
            },
            "type": "carpet"
           }
          ],
          "choropleth": [
           {
            "colorbar": {
             "outlinewidth": 0,
             "ticks": ""
            },
            "type": "choropleth"
           }
          ],
          "contour": [
           {
            "colorbar": {
             "outlinewidth": 0,
             "ticks": ""
            },
            "colorscale": [
             [
              0,
              "#0d0887"
             ],
             [
              0.1111111111111111,
              "#46039f"
             ],
             [
              0.2222222222222222,
              "#7201a8"
             ],
             [
              0.3333333333333333,
              "#9c179e"
             ],
             [
              0.4444444444444444,
              "#bd3786"
             ],
             [
              0.5555555555555556,
              "#d8576b"
             ],
             [
              0.6666666666666666,
              "#ed7953"
             ],
             [
              0.7777777777777778,
              "#fb9f3a"
             ],
             [
              0.8888888888888888,
              "#fdca26"
             ],
             [
              1,
              "#f0f921"
             ]
            ],
            "type": "contour"
           }
          ],
          "contourcarpet": [
           {
            "colorbar": {
             "outlinewidth": 0,
             "ticks": ""
            },
            "type": "contourcarpet"
           }
          ],
          "heatmap": [
           {
            "colorbar": {
             "outlinewidth": 0,
             "ticks": ""
            },
            "colorscale": [
             [
              0,
              "#0d0887"
             ],
             [
              0.1111111111111111,
              "#46039f"
             ],
             [
              0.2222222222222222,
              "#7201a8"
             ],
             [
              0.3333333333333333,
              "#9c179e"
             ],
             [
              0.4444444444444444,
              "#bd3786"
             ],
             [
              0.5555555555555556,
              "#d8576b"
             ],
             [
              0.6666666666666666,
              "#ed7953"
             ],
             [
              0.7777777777777778,
              "#fb9f3a"
             ],
             [
              0.8888888888888888,
              "#fdca26"
             ],
             [
              1,
              "#f0f921"
             ]
            ],
            "type": "heatmap"
           }
          ],
          "heatmapgl": [
           {
            "colorbar": {
             "outlinewidth": 0,
             "ticks": ""
            },
            "colorscale": [
             [
              0,
              "#0d0887"
             ],
             [
              0.1111111111111111,
              "#46039f"
             ],
             [
              0.2222222222222222,
              "#7201a8"
             ],
             [
              0.3333333333333333,
              "#9c179e"
             ],
             [
              0.4444444444444444,
              "#bd3786"
             ],
             [
              0.5555555555555556,
              "#d8576b"
             ],
             [
              0.6666666666666666,
              "#ed7953"
             ],
             [
              0.7777777777777778,
              "#fb9f3a"
             ],
             [
              0.8888888888888888,
              "#fdca26"
             ],
             [
              1,
              "#f0f921"
             ]
            ],
            "type": "heatmapgl"
           }
          ],
          "histogram": [
           {
            "marker": {
             "pattern": {
              "fillmode": "overlay",
              "size": 10,
              "solidity": 0.2
             }
            },
            "type": "histogram"
           }
          ],
          "histogram2d": [
           {
            "colorbar": {
             "outlinewidth": 0,
             "ticks": ""
            },
            "colorscale": [
             [
              0,
              "#0d0887"
             ],
             [
              0.1111111111111111,
              "#46039f"
             ],
             [
              0.2222222222222222,
              "#7201a8"
             ],
             [
              0.3333333333333333,
              "#9c179e"
             ],
             [
              0.4444444444444444,
              "#bd3786"
             ],
             [
              0.5555555555555556,
              "#d8576b"
             ],
             [
              0.6666666666666666,
              "#ed7953"
             ],
             [
              0.7777777777777778,
              "#fb9f3a"
             ],
             [
              0.8888888888888888,
              "#fdca26"
             ],
             [
              1,
              "#f0f921"
             ]
            ],
            "type": "histogram2d"
           }
          ],
          "histogram2dcontour": [
           {
            "colorbar": {
             "outlinewidth": 0,
             "ticks": ""
            },
            "colorscale": [
             [
              0,
              "#0d0887"
             ],
             [
              0.1111111111111111,
              "#46039f"
             ],
             [
              0.2222222222222222,
              "#7201a8"
             ],
             [
              0.3333333333333333,
              "#9c179e"
             ],
             [
              0.4444444444444444,
              "#bd3786"
             ],
             [
              0.5555555555555556,
              "#d8576b"
             ],
             [
              0.6666666666666666,
              "#ed7953"
             ],
             [
              0.7777777777777778,
              "#fb9f3a"
             ],
             [
              0.8888888888888888,
              "#fdca26"
             ],
             [
              1,
              "#f0f921"
             ]
            ],
            "type": "histogram2dcontour"
           }
          ],
          "mesh3d": [
           {
            "colorbar": {
             "outlinewidth": 0,
             "ticks": ""
            },
            "type": "mesh3d"
           }
          ],
          "parcoords": [
           {
            "line": {
             "colorbar": {
              "outlinewidth": 0,
              "ticks": ""
             }
            },
            "type": "parcoords"
           }
          ],
          "pie": [
           {
            "automargin": true,
            "type": "pie"
           }
          ],
          "scatter": [
           {
            "fillpattern": {
             "fillmode": "overlay",
             "size": 10,
             "solidity": 0.2
            },
            "type": "scatter"
           }
          ],
          "scatter3d": [
           {
            "line": {
             "colorbar": {
              "outlinewidth": 0,
              "ticks": ""
             }
            },
            "marker": {
             "colorbar": {
              "outlinewidth": 0,
              "ticks": ""
             }
            },
            "type": "scatter3d"
           }
          ],
          "scattercarpet": [
           {
            "marker": {
             "colorbar": {
              "outlinewidth": 0,
              "ticks": ""
             }
            },
            "type": "scattercarpet"
           }
          ],
          "scattergeo": [
           {
            "marker": {
             "colorbar": {
              "outlinewidth": 0,
              "ticks": ""
             }
            },
            "type": "scattergeo"
           }
          ],
          "scattergl": [
           {
            "marker": {
             "colorbar": {
              "outlinewidth": 0,
              "ticks": ""
             }
            },
            "type": "scattergl"
           }
          ],
          "scattermapbox": [
           {
            "marker": {
             "colorbar": {
              "outlinewidth": 0,
              "ticks": ""
             }
            },
            "type": "scattermapbox"
           }
          ],
          "scatterpolar": [
           {
            "marker": {
             "colorbar": {
              "outlinewidth": 0,
              "ticks": ""
             }
            },
            "type": "scatterpolar"
           }
          ],
          "scatterpolargl": [
           {
            "marker": {
             "colorbar": {
              "outlinewidth": 0,
              "ticks": ""
             }
            },
            "type": "scatterpolargl"
           }
          ],
          "scatterternary": [
           {
            "marker": {
             "colorbar": {
              "outlinewidth": 0,
              "ticks": ""
             }
            },
            "type": "scatterternary"
           }
          ],
          "surface": [
           {
            "colorbar": {
             "outlinewidth": 0,
             "ticks": ""
            },
            "colorscale": [
             [
              0,
              "#0d0887"
             ],
             [
              0.1111111111111111,
              "#46039f"
             ],
             [
              0.2222222222222222,
              "#7201a8"
             ],
             [
              0.3333333333333333,
              "#9c179e"
             ],
             [
              0.4444444444444444,
              "#bd3786"
             ],
             [
              0.5555555555555556,
              "#d8576b"
             ],
             [
              0.6666666666666666,
              "#ed7953"
             ],
             [
              0.7777777777777778,
              "#fb9f3a"
             ],
             [
              0.8888888888888888,
              "#fdca26"
             ],
             [
              1,
              "#f0f921"
             ]
            ],
            "type": "surface"
           }
          ],
          "table": [
           {
            "cells": {
             "fill": {
              "color": "#EBF0F8"
             },
             "line": {
              "color": "white"
             }
            },
            "header": {
             "fill": {
              "color": "#C8D4E3"
             },
             "line": {
              "color": "white"
             }
            },
            "type": "table"
           }
          ]
         },
         "layout": {
          "annotationdefaults": {
           "arrowcolor": "#2a3f5f",
           "arrowhead": 0,
           "arrowwidth": 1
          },
          "autotypenumbers": "strict",
          "coloraxis": {
           "colorbar": {
            "outlinewidth": 0,
            "ticks": ""
           }
          },
          "colorscale": {
           "diverging": [
            [
             0,
             "#8e0152"
            ],
            [
             0.1,
             "#c51b7d"
            ],
            [
             0.2,
             "#de77ae"
            ],
            [
             0.3,
             "#f1b6da"
            ],
            [
             0.4,
             "#fde0ef"
            ],
            [
             0.5,
             "#f7f7f7"
            ],
            [
             0.6,
             "#e6f5d0"
            ],
            [
             0.7,
             "#b8e186"
            ],
            [
             0.8,
             "#7fbc41"
            ],
            [
             0.9,
             "#4d9221"
            ],
            [
             1,
             "#276419"
            ]
           ],
           "sequential": [
            [
             0,
             "#0d0887"
            ],
            [
             0.1111111111111111,
             "#46039f"
            ],
            [
             0.2222222222222222,
             "#7201a8"
            ],
            [
             0.3333333333333333,
             "#9c179e"
            ],
            [
             0.4444444444444444,
             "#bd3786"
            ],
            [
             0.5555555555555556,
             "#d8576b"
            ],
            [
             0.6666666666666666,
             "#ed7953"
            ],
            [
             0.7777777777777778,
             "#fb9f3a"
            ],
            [
             0.8888888888888888,
             "#fdca26"
            ],
            [
             1,
             "#f0f921"
            ]
           ],
           "sequentialminus": [
            [
             0,
             "#0d0887"
            ],
            [
             0.1111111111111111,
             "#46039f"
            ],
            [
             0.2222222222222222,
             "#7201a8"
            ],
            [
             0.3333333333333333,
             "#9c179e"
            ],
            [
             0.4444444444444444,
             "#bd3786"
            ],
            [
             0.5555555555555556,
             "#d8576b"
            ],
            [
             0.6666666666666666,
             "#ed7953"
            ],
            [
             0.7777777777777778,
             "#fb9f3a"
            ],
            [
             0.8888888888888888,
             "#fdca26"
            ],
            [
             1,
             "#f0f921"
            ]
           ]
          },
          "colorway": [
           "#636efa",
           "#EF553B",
           "#00cc96",
           "#ab63fa",
           "#FFA15A",
           "#19d3f3",
           "#FF6692",
           "#B6E880",
           "#FF97FF",
           "#FECB52"
          ],
          "font": {
           "color": "#2a3f5f"
          },
          "geo": {
           "bgcolor": "white",
           "lakecolor": "white",
           "landcolor": "white",
           "showlakes": true,
           "showland": true,
           "subunitcolor": "#C8D4E3"
          },
          "hoverlabel": {
           "align": "left"
          },
          "hovermode": "closest",
          "mapbox": {
           "style": "light"
          },
          "paper_bgcolor": "white",
          "plot_bgcolor": "white",
          "polar": {
           "angularaxis": {
            "gridcolor": "#EBF0F8",
            "linecolor": "#EBF0F8",
            "ticks": ""
           },
           "bgcolor": "white",
           "radialaxis": {
            "gridcolor": "#EBF0F8",
            "linecolor": "#EBF0F8",
            "ticks": ""
           }
          },
          "scene": {
           "xaxis": {
            "backgroundcolor": "white",
            "gridcolor": "#DFE8F3",
            "gridwidth": 2,
            "linecolor": "#EBF0F8",
            "showbackground": true,
            "ticks": "",
            "zerolinecolor": "#EBF0F8"
           },
           "yaxis": {
            "backgroundcolor": "white",
            "gridcolor": "#DFE8F3",
            "gridwidth": 2,
            "linecolor": "#EBF0F8",
            "showbackground": true,
            "ticks": "",
            "zerolinecolor": "#EBF0F8"
           },
           "zaxis": {
            "backgroundcolor": "white",
            "gridcolor": "#DFE8F3",
            "gridwidth": 2,
            "linecolor": "#EBF0F8",
            "showbackground": true,
            "ticks": "",
            "zerolinecolor": "#EBF0F8"
           }
          },
          "shapedefaults": {
           "line": {
            "color": "#2a3f5f"
           }
          },
          "ternary": {
           "aaxis": {
            "gridcolor": "#DFE8F3",
            "linecolor": "#A2B1C6",
            "ticks": ""
           },
           "baxis": {
            "gridcolor": "#DFE8F3",
            "linecolor": "#A2B1C6",
            "ticks": ""
           },
           "bgcolor": "white",
           "caxis": {
            "gridcolor": "#DFE8F3",
            "linecolor": "#A2B1C6",
            "ticks": ""
           }
          },
          "title": {
           "x": 0.05
          },
          "xaxis": {
           "automargin": true,
           "gridcolor": "#EBF0F8",
           "linecolor": "#EBF0F8",
           "ticks": "",
           "title": {
            "standoff": 15
           },
           "zerolinecolor": "#EBF0F8",
           "zerolinewidth": 2
          },
          "yaxis": {
           "automargin": true,
           "gridcolor": "#EBF0F8",
           "linecolor": "#EBF0F8",
           "ticks": "",
           "title": {
            "standoff": 15
           },
           "zerolinecolor": "#EBF0F8",
           "zerolinewidth": 2
          }
         }
        },
        "title": {
         "text": "Temperature Changes in North and South America with Trendlines"
        },
        "xaxis": {
         "title": {
          "text": "Year"
         }
        },
        "yaxis": {
         "title": {
          "text": "Temperature (°C)"
         }
        }
       }
      }
     },
     "metadata": {},
     "output_type": "display_data"
    }
   ],
   "source": [
    "# Aufruf der Funktion\n",
    "plot_temperature_with_trendlines(df_combined, p_values_df)"
   ]
  }
 ],
 "metadata": {
  "kernelspec": {
   "display_name": "Python 3",
   "language": "python",
   "name": "python3"
  },
  "language_info": {
   "codemirror_mode": {
    "name": "ipython",
    "version": 3
   },
   "file_extension": ".py",
   "mimetype": "text/x-python",
   "name": "python",
   "nbconvert_exporter": "python",
   "pygments_lexer": "ipython3",
   "version": "3.10.11"
  }
 },
 "nbformat": 4,
 "nbformat_minor": 2
}
