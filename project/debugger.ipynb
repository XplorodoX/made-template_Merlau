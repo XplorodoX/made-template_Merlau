{
 "cells": [
  {
   "cell_type": "code",
   "execution_count": 33,
   "metadata": {},
   "outputs": [],
   "source": [
    "import pandas as pd\n",
    "import ssl\n",
    "import numpy as np\n",
    "import plotly.express as px\n",
    "from scipy.stats import linregress\n",
    "import plotly.graph_objects as go"
   ]
  },
  {
   "cell_type": "code",
   "execution_count": 34,
   "metadata": {},
   "outputs": [],
   "source": [
    "# Disable SSL certificate verification\n",
    "ssl._create_default_https_context = ssl._create_unverified_context\n",
    "\n",
    "def clean_dataset(df):\n",
    "    \"\"\"Cleans the dataset: removes duplicates, handles missing values, sorts, and drops unnecessary columns.\"\"\"\n",
    "    df_cleaned = df.drop_duplicates()\n",
    "\n",
    "    # Handle missing values (NaN)\n",
    "    if df_cleaned.isnull().any().any():\n",
    "        # Fill NaN values with the mean of numeric columns\n",
    "        df_cleaned = df_cleaned.fillna(df_cleaned.mean(numeric_only=True))\n",
    "\n",
    "    # Sort data by a specific column (e.g., Year)\n",
    "    if \"Year\" in df_cleaned.columns:\n",
    "        df_cleaned = df_cleaned.sort_values(by=\"Year\")\n",
    "\n",
    "    # Drop irrelevant columns (e.g., ID)\n",
    "    if \"ID\" in df_cleaned.columns:\n",
    "        df_cleaned = df_cleaned.drop(columns=[\"ID\"])\n",
    "\n",
    "    return df_cleaned"
   ]
  },
  {
   "cell_type": "code",
   "execution_count": 35,
   "metadata": {},
   "outputs": [],
   "source": [
    "def fetch_data():\n",
    "    \"\"\"Fetches datasets from the specified URLs.\"\"\"\n",
    "    emissions_data = pd.read_csv(\n",
    "        \"https://ourworldindata.org/grapher/annual-co-emissions-by-region.csv?v=1&csvType=full&useColumnShortNames=true\",\n",
    "        storage_options={'User-Agent': 'Our World In Data data fetch/1.0'}\n",
    "    )\n",
    "\n",
    "    temperature_data = pd.read_csv(\n",
    "        \"https://ourworldindata.org/grapher/monthly-average-surface-temperatures-by-year.csv?v=1&csvType=full&useColumnShortNames=false\",\n",
    "        storage_options={'User-Agent': 'Our World In Data data fetch/1.0'}\n",
    "    )\n",
    "\n",
    "    return emissions_data, temperature_data"
   ]
  },
  {
   "cell_type": "code",
   "execution_count": 36,
   "metadata": {},
   "outputs": [],
   "source": [
    "def transform_temperature_data(temperature_data):\n",
    "    \"\"\"Transforms the temperature dataset into an analyzable format.\"\"\"\n",
    "    temperature_data = clean_dataset(temperature_data)\n",
    "\n",
    "    # Ensure column names for years are numeric\n",
    "    temperature_data.columns = [\n",
    "        int(col) if col.isdigit() else col\n",
    "        for col in temperature_data.columns\n",
    "    ]\n",
    "\n",
    "    # Unpivot temperature data\n",
    "    temperature_melted = temperature_data.melt(\n",
    "        id_vars=[\"Entity\", \"Code\", \"Year\"],\n",
    "        var_name=\"Year_Column\",\n",
    "        value_name=\"Temperature\"\n",
    "    )\n",
    "\n",
    "    # Convert 'Year_Column' to numeric values\n",
    "    temperature_melted[\"Year_Column\"] = pd.to_numeric(temperature_melted[\"Year_Column\"], errors=\"coerce\")\n",
    "\n",
    "    # Rename columns\n",
    "    temperature_melted.rename(columns={\"Year_Column\": \"Year\", \"Year\": \"Month\"}, inplace=True)\n",
    "\n",
    "    return temperature_melted\n"
   ]
  },
  {
   "cell_type": "code",
   "execution_count": 37,
   "metadata": {},
   "outputs": [],
   "source": [
    "def filter_data(temperature_data, emissions_data, regions):\n",
    "    \"\"\"Filters the temperature and emissions data for the specified regions and shared years.\"\"\"\n",
    "\n",
    "    temperature_filtered = temperature_data[temperature_data[\"Entity\"].isin(regions)]\n",
    "    emissions_filtered = emissions_data[emissions_data[\"Entity\"].isin(regions)]\n",
    "\n",
    "    # Find common years\n",
    "    common_years = set(temperature_filtered[\"Year\"]).intersection(set(emissions_filtered[\"Year\"]))\n",
    "\n",
    "    temperature_filtered = temperature_filtered[temperature_filtered[\"Year\"].isin(common_years)]\n",
    "    emissions_filtered = emissions_filtered[emissions_filtered[\"Year\"].isin(common_years)]\n",
    "\n",
    "    return temperature_filtered, emissions_filtered\n",
    "\n"
   ]
  },
  {
   "cell_type": "code",
   "execution_count": 38,
   "metadata": {},
   "outputs": [],
   "source": [
    "def merge_datasets(temperature_data, emissions_data):\n",
    "    \"\"\"Merges the temperature and emissions datasets into a single dataset.\"\"\"\n",
    "    combined_data = pd.merge(\n",
    "        temperature_data,\n",
    "        emissions_data,\n",
    "        on=[\"Entity\", \"Year\"],\n",
    "        how=\"inner\"\n",
    "    )\n",
    "    return combined_data"
   ]
  },
  {
   "cell_type": "code",
   "execution_count": 39,
   "metadata": {},
   "outputs": [],
   "source": [
    "def plot_temp_by_country(emissions_data, region_countries, region_name):\n",
    "    \"\"\"Erstellt ein interaktives Liniendiagramm der CO2-Emissionen für alle Länder einer Region.\"\"\"\n",
    "    # Daten filtern\n",
    "    region_data = emissions_data[emissions_data[\"Entity\"].isin(region_countries)]\n",
    "\n",
    "    # Interaktives Plotly-Diagramm erstellen\n",
    "    fig = px.line(\n",
    "        region_data,\n",
    "        x=\"Year\",\n",
    "        y=\"Temperature\",\n",
    "        color=\"Entity\",\n",
    "        title=f\"Temperature in {region_name} nach Ländern\",\n",
    "        labels={\"Temperature\": \"Temperature\", \"Year\": \"Jahr\", \"Entity\": \"Entity\"}\n",
    "    )\n",
    "\n",
    "    # Layout anpassen\n",
    "    fig.update_layout(\n",
    "        legend_title_text=\"Länder\",\n",
    "        title_font_size=16,\n",
    "        xaxis_title_font_size=12,\n",
    "        yaxis_title_font_size=12\n",
    "    )\n",
    "\n",
    "    # Grafik anzeigen\n",
    "    fig.show()"
   ]
  },
  {
   "cell_type": "code",
   "execution_count": 40,
   "metadata": {},
   "outputs": [],
   "source": [
    "def calculate_p_values(df_combined):\n",
    "    \"\"\"Berechnet die lineare Regression und die p-Werte für jede Region.\"\"\"\n",
    "    results = []\n",
    "    \n",
    "    for region in df_combined[\"Region\"].unique():\n",
    "        region_data = df_combined[df_combined[\"Region\"] == region]\n",
    "        x = region_data[\"Year\"].values\n",
    "        y = region_data[\"emissions_total\"].values\n",
    "\n",
    "        # Lineare Regression\n",
    "        slope, intercept, r_value, p_value, std_err = linregress(x, y)\n",
    "\n",
    "        # Ergebnisse speichern\n",
    "        results.append({\n",
    "            \"Region\": region,\n",
    "            \"Slope\": slope,\n",
    "            \"Intercept\": intercept,\n",
    "            \"R-squared\": r_value**2,\n",
    "            \"P-value\": p_value\n",
    "        })\n",
    "\n",
    "    return pd.DataFrame(results)"
   ]
  },
  {
   "cell_type": "code",
   "execution_count": 41,
   "metadata": {},
   "outputs": [
    {
     "data": {
      "text/html": [
       "<div>\n",
       "<style scoped>\n",
       "    .dataframe tbody tr th:only-of-type {\n",
       "        vertical-align: middle;\n",
       "    }\n",
       "\n",
       "    .dataframe tbody tr th {\n",
       "        vertical-align: top;\n",
       "    }\n",
       "\n",
       "    .dataframe thead th {\n",
       "        text-align: right;\n",
       "    }\n",
       "</style>\n",
       "<table border=\"1\" class=\"dataframe\">\n",
       "  <thead>\n",
       "    <tr style=\"text-align: right;\">\n",
       "      <th></th>\n",
       "      <th>Entity</th>\n",
       "      <th>Code</th>\n",
       "      <th>Month</th>\n",
       "      <th>Year</th>\n",
       "      <th>Temperature</th>\n",
       "    </tr>\n",
       "  </thead>\n",
       "  <tbody>\n",
       "    <tr>\n",
       "      <th>0</th>\n",
       "      <td>Afghanistan</td>\n",
       "      <td>AFG</td>\n",
       "      <td>1</td>\n",
       "      <td>2024</td>\n",
       "      <td>3.300064</td>\n",
       "    </tr>\n",
       "    <tr>\n",
       "      <th>1</th>\n",
       "      <td>Rwanda</td>\n",
       "      <td>RWA</td>\n",
       "      <td>1</td>\n",
       "      <td>2024</td>\n",
       "      <td>19.979807</td>\n",
       "    </tr>\n",
       "    <tr>\n",
       "      <th>2</th>\n",
       "      <td>Cook Islands</td>\n",
       "      <td>COK</td>\n",
       "      <td>1</td>\n",
       "      <td>2024</td>\n",
       "      <td>25.643768</td>\n",
       "    </tr>\n",
       "    <tr>\n",
       "      <th>3</th>\n",
       "      <td>Saint Helena</td>\n",
       "      <td>SHN</td>\n",
       "      <td>1</td>\n",
       "      <td>2024</td>\n",
       "      <td>23.700409</td>\n",
       "    </tr>\n",
       "    <tr>\n",
       "      <th>4</th>\n",
       "      <td>Congo</td>\n",
       "      <td>COG</td>\n",
       "      <td>1</td>\n",
       "      <td>2024</td>\n",
       "      <td>26.152718</td>\n",
       "    </tr>\n",
       "  </tbody>\n",
       "</table>\n",
       "</div>"
      ],
      "text/plain": [
       "         Entity Code  Month  Year  Temperature\n",
       "0   Afghanistan  AFG      1  2024     3.300064\n",
       "1        Rwanda  RWA      1  2024    19.979807\n",
       "2  Cook Islands  COK      1  2024    25.643768\n",
       "3  Saint Helena  SHN      1  2024    23.700409\n",
       "4         Congo  COG      1  2024    26.152718"
      ]
     },
     "execution_count": 41,
     "metadata": {},
     "output_type": "execute_result"
    }
   ],
   "source": [
    "emissions_data, temperature_data = fetch_data()\n",
    "\n",
    "# Transform temperature data\n",
    "temperature_melted = transform_temperature_data(temperature_data)\n",
    "\n",
    "temperature_melted.head()"
   ]
  },
  {
   "cell_type": "code",
   "execution_count": 42,
   "metadata": {},
   "outputs": [
    {
     "data": {
      "text/html": [
       "<div>\n",
       "<style scoped>\n",
       "    .dataframe tbody tr th:only-of-type {\n",
       "        vertical-align: middle;\n",
       "    }\n",
       "\n",
       "    .dataframe tbody tr th {\n",
       "        vertical-align: top;\n",
       "    }\n",
       "\n",
       "    .dataframe thead th {\n",
       "        text-align: right;\n",
       "    }\n",
       "</style>\n",
       "<table border=\"1\" class=\"dataframe\">\n",
       "  <thead>\n",
       "    <tr style=\"text-align: right;\">\n",
       "      <th></th>\n",
       "      <th>Entity</th>\n",
       "      <th>Code</th>\n",
       "      <th>Year</th>\n",
       "      <th>emissions_total</th>\n",
       "    </tr>\n",
       "  </thead>\n",
       "  <tbody>\n",
       "    <tr>\n",
       "      <th>0</th>\n",
       "      <td>Afghanistan</td>\n",
       "      <td>AFG</td>\n",
       "      <td>1949</td>\n",
       "      <td>14656.0</td>\n",
       "    </tr>\n",
       "    <tr>\n",
       "      <th>1</th>\n",
       "      <td>Afghanistan</td>\n",
       "      <td>AFG</td>\n",
       "      <td>1950</td>\n",
       "      <td>84272.0</td>\n",
       "    </tr>\n",
       "    <tr>\n",
       "      <th>2</th>\n",
       "      <td>Afghanistan</td>\n",
       "      <td>AFG</td>\n",
       "      <td>1951</td>\n",
       "      <td>91600.0</td>\n",
       "    </tr>\n",
       "    <tr>\n",
       "      <th>3</th>\n",
       "      <td>Afghanistan</td>\n",
       "      <td>AFG</td>\n",
       "      <td>1952</td>\n",
       "      <td>91600.0</td>\n",
       "    </tr>\n",
       "    <tr>\n",
       "      <th>4</th>\n",
       "      <td>Afghanistan</td>\n",
       "      <td>AFG</td>\n",
       "      <td>1953</td>\n",
       "      <td>106256.0</td>\n",
       "    </tr>\n",
       "  </tbody>\n",
       "</table>\n",
       "</div>"
      ],
      "text/plain": [
       "        Entity Code  Year  emissions_total\n",
       "0  Afghanistan  AFG  1949          14656.0\n",
       "1  Afghanistan  AFG  1950          84272.0\n",
       "2  Afghanistan  AFG  1951          91600.0\n",
       "3  Afghanistan  AFG  1952          91600.0\n",
       "4  Afghanistan  AFG  1953         106256.0"
      ]
     },
     "execution_count": 42,
     "metadata": {},
     "output_type": "execute_result"
    }
   ],
   "source": [
    "emissions_data.head()"
   ]
  },
  {
   "cell_type": "code",
   "execution_count": 43,
   "metadata": {},
   "outputs": [],
   "source": [
    "    # Define regions\n",
    "north_america_countries = [\n",
    "        \"Antigua and Barbuda\", \"Bahamas\", \"Belize\", \"Costa Rica\",\n",
    "        \"Dominican Republic\", \"El Salvador\", \"Haiti\", \"Honduras\", \n",
    "        \"Jamaica\", \"Canada\", \"Cuba\", \"Mexico\", \"Nicaragua\", \n",
    "        \"Panama\", \"Trinidad and Tobago\", \"United States\"\n",
    "]\n",
    "\n",
    "south_america_countries = [\n",
    "        \"Argentina\", \"Bolivia\", \"Brazil\", \"Chile\", \"Ecuador\",\n",
    "        \"Guyana\", \"Colombia\", \"Paraguay\", \"Peru\", \"Suriname\",\n",
    "        \"Uruguay\", \"Venezuela\", \"Guatemala\"\n",
    "]\n",
    "\n",
    "all_americas = north_america_countries + south_america_countries"
   ]
  },
  {
   "cell_type": "code",
   "execution_count": 44,
   "metadata": {},
   "outputs": [
    {
     "data": {
      "text/html": [
       "<div>\n",
       "<style scoped>\n",
       "    .dataframe tbody tr th:only-of-type {\n",
       "        vertical-align: middle;\n",
       "    }\n",
       "\n",
       "    .dataframe tbody tr th {\n",
       "        vertical-align: top;\n",
       "    }\n",
       "\n",
       "    .dataframe thead th {\n",
       "        text-align: right;\n",
       "    }\n",
       "</style>\n",
       "<table border=\"1\" class=\"dataframe\">\n",
       "  <thead>\n",
       "    <tr style=\"text-align: right;\">\n",
       "      <th></th>\n",
       "      <th>Entity</th>\n",
       "      <th>Year</th>\n",
       "      <th>Temperature</th>\n",
       "    </tr>\n",
       "  </thead>\n",
       "  <tbody>\n",
       "    <tr>\n",
       "      <th>0</th>\n",
       "      <td>Afghanistan</td>\n",
       "      <td>1950</td>\n",
       "      <td>10.231125</td>\n",
       "    </tr>\n",
       "    <tr>\n",
       "      <th>1</th>\n",
       "      <td>Afghanistan</td>\n",
       "      <td>1951</td>\n",
       "      <td>11.242811</td>\n",
       "    </tr>\n",
       "    <tr>\n",
       "      <th>2</th>\n",
       "      <td>Afghanistan</td>\n",
       "      <td>1952</td>\n",
       "      <td>11.292934</td>\n",
       "    </tr>\n",
       "    <tr>\n",
       "      <th>3</th>\n",
       "      <td>Afghanistan</td>\n",
       "      <td>1953</td>\n",
       "      <td>11.445144</td>\n",
       "    </tr>\n",
       "    <tr>\n",
       "      <th>4</th>\n",
       "      <td>Afghanistan</td>\n",
       "      <td>1954</td>\n",
       "      <td>11.093394</td>\n",
       "    </tr>\n",
       "  </tbody>\n",
       "</table>\n",
       "</div>"
      ],
      "text/plain": [
       "        Entity  Year  Temperature\n",
       "0  Afghanistan  1950    10.231125\n",
       "1  Afghanistan  1951    11.242811\n",
       "2  Afghanistan  1952    11.292934\n",
       "3  Afghanistan  1953    11.445144\n",
       "4  Afghanistan  1954    11.093394"
      ]
     },
     "execution_count": 44,
     "metadata": {},
     "output_type": "execute_result"
    }
   ],
   "source": [
    "# Gruppieren nach Jahr und Entity, Berechnung der jährlichen Werte\n",
    "yearly_summary_n = temperature_melted.groupby([\"Entity\", \"Year\"]).agg({\n",
    "    \"Temperature\": \"mean\",\n",
    "}).reset_index()\n",
    "\n",
    "# Umbenennen der Spalten für besseres Format\n",
    "yearly_summary_n.rename(columns={\n",
    "    \"Entity\": \"Entity\",\n",
    "    \"Year\": \"Year\",\n",
    "    \"Temperature\": \"Temperature\"\n",
    "}, inplace=True)\n",
    "\n",
    "yearly_summary_n.head()\n"
   ]
  },
  {
   "cell_type": "code",
   "execution_count": 45,
   "metadata": {},
   "outputs": [],
   "source": [
    "# Filter and merge datasets for North America\n",
    "yearly_summary_na_filtered, emissions_filtered_na = filter_data(yearly_summary_n, emissions_data, north_america_countries)\n"
   ]
  },
  {
   "cell_type": "code",
   "execution_count": 46,
   "metadata": {},
   "outputs": [
    {
     "data": {
      "text/html": [
       "<div>\n",
       "<style scoped>\n",
       "    .dataframe tbody tr th:only-of-type {\n",
       "        vertical-align: middle;\n",
       "    }\n",
       "\n",
       "    .dataframe tbody tr th {\n",
       "        vertical-align: top;\n",
       "    }\n",
       "\n",
       "    .dataframe thead th {\n",
       "        text-align: right;\n",
       "    }\n",
       "</style>\n",
       "<table border=\"1\" class=\"dataframe\">\n",
       "  <thead>\n",
       "    <tr style=\"text-align: right;\">\n",
       "      <th></th>\n",
       "      <th>Entity</th>\n",
       "      <th>Year</th>\n",
       "      <th>Temperature</th>\n",
       "      <th>Code</th>\n",
       "      <th>emissions_total</th>\n",
       "    </tr>\n",
       "  </thead>\n",
       "  <tbody>\n",
       "    <tr>\n",
       "      <th>0</th>\n",
       "      <td>Antigua and Barbuda</td>\n",
       "      <td>1950</td>\n",
       "      <td>25.377907</td>\n",
       "      <td>ATG</td>\n",
       "      <td>12213.0</td>\n",
       "    </tr>\n",
       "    <tr>\n",
       "      <th>1</th>\n",
       "      <td>Antigua and Barbuda</td>\n",
       "      <td>1951</td>\n",
       "      <td>25.850764</td>\n",
       "      <td>ATG</td>\n",
       "      <td>19541.0</td>\n",
       "    </tr>\n",
       "    <tr>\n",
       "      <th>2</th>\n",
       "      <td>Antigua and Barbuda</td>\n",
       "      <td>1952</td>\n",
       "      <td>25.956604</td>\n",
       "      <td>ATG</td>\n",
       "      <td>14656.0</td>\n",
       "    </tr>\n",
       "    <tr>\n",
       "      <th>3</th>\n",
       "      <td>Antigua and Barbuda</td>\n",
       "      <td>1953</td>\n",
       "      <td>25.972994</td>\n",
       "      <td>ATG</td>\n",
       "      <td>17099.0</td>\n",
       "    </tr>\n",
       "    <tr>\n",
       "      <th>4</th>\n",
       "      <td>Antigua and Barbuda</td>\n",
       "      <td>1954</td>\n",
       "      <td>25.597811</td>\n",
       "      <td>ATG</td>\n",
       "      <td>12213.0</td>\n",
       "    </tr>\n",
       "  </tbody>\n",
       "</table>\n",
       "</div>"
      ],
      "text/plain": [
       "                Entity  Year  Temperature Code  emissions_total\n",
       "0  Antigua and Barbuda  1950    25.377907  ATG          12213.0\n",
       "1  Antigua and Barbuda  1951    25.850764  ATG          19541.0\n",
       "2  Antigua and Barbuda  1952    25.956604  ATG          14656.0\n",
       "3  Antigua and Barbuda  1953    25.972994  ATG          17099.0\n",
       "4  Antigua and Barbuda  1954    25.597811  ATG          12213.0"
      ]
     },
     "execution_count": 46,
     "metadata": {},
     "output_type": "execute_result"
    }
   ],
   "source": [
    "combined_filtered_data_na = merge_datasets(yearly_summary_na_filtered, emissions_filtered_na)\n",
    "combined_filtered_data_na.head()"
   ]
  },
  {
   "cell_type": "code",
   "execution_count": 47,
   "metadata": {},
   "outputs": [
    {
     "data": {
      "text/html": [
       "<div>\n",
       "<style scoped>\n",
       "    .dataframe tbody tr th:only-of-type {\n",
       "        vertical-align: middle;\n",
       "    }\n",
       "\n",
       "    .dataframe tbody tr th {\n",
       "        vertical-align: top;\n",
       "    }\n",
       "\n",
       "    .dataframe thead th {\n",
       "        text-align: right;\n",
       "    }\n",
       "</style>\n",
       "<table border=\"1\" class=\"dataframe\">\n",
       "  <thead>\n",
       "    <tr style=\"text-align: right;\">\n",
       "      <th></th>\n",
       "      <th>Year</th>\n",
       "      <th>Temperature</th>\n",
       "      <th>emissions_total</th>\n",
       "    </tr>\n",
       "  </thead>\n",
       "  <tbody>\n",
       "    <tr>\n",
       "      <th>0</th>\n",
       "      <td>1950</td>\n",
       "      <td>20.861395</td>\n",
       "      <td>2.736695e+09</td>\n",
       "    </tr>\n",
       "    <tr>\n",
       "      <th>1</th>\n",
       "      <td>1951</td>\n",
       "      <td>21.306945</td>\n",
       "      <td>2.828319e+09</td>\n",
       "    </tr>\n",
       "    <tr>\n",
       "      <th>2</th>\n",
       "      <td>1952</td>\n",
       "      <td>21.487919</td>\n",
       "      <td>2.760658e+09</td>\n",
       "    </tr>\n",
       "    <tr>\n",
       "      <th>3</th>\n",
       "      <td>1953</td>\n",
       "      <td>21.643270</td>\n",
       "      <td>2.823216e+09</td>\n",
       "    </tr>\n",
       "    <tr>\n",
       "      <th>4</th>\n",
       "      <td>1954</td>\n",
       "      <td>21.200929</td>\n",
       "      <td>2.701530e+09</td>\n",
       "    </tr>\n",
       "  </tbody>\n",
       "</table>\n",
       "</div>"
      ],
      "text/plain": [
       "   Year  Temperature  emissions_total\n",
       "0  1950    20.861395     2.736695e+09\n",
       "1  1951    21.306945     2.828319e+09\n",
       "2  1952    21.487919     2.760658e+09\n",
       "3  1953    21.643270     2.823216e+09\n",
       "4  1954    21.200929     2.701530e+09"
      ]
     },
     "execution_count": 47,
     "metadata": {},
     "output_type": "execute_result"
    }
   ],
   "source": [
    "# Gruppieren nach Jahr und Entity, Berechnung der jährlichen Werte\n",
    "yearly_summarynorden = combined_filtered_data_na.groupby( \"Year\").agg({\n",
    "    \"Temperature\": \"mean\",  # Durchschnittstemperatur über alle Monate\n",
    "    \"emissions_total\": \"sum\"  # Gesamtemissionen über alle Monate\n",
    "}).reset_index()\n",
    "\n",
    "yearly_summarynorden.head()"
   ]
  },
  {
   "cell_type": "code",
   "execution_count": 48,
   "metadata": {},
   "outputs": [],
   "source": [
    "# Filter and merge datasets for North America\n",
    "yearly_summary_sa_filtered, emissions_filtered_na = filter_data(yearly_summary_n, emissions_data, south_america_countries)"
   ]
  },
  {
   "cell_type": "code",
   "execution_count": 49,
   "metadata": {},
   "outputs": [
    {
     "data": {
      "text/html": [
       "<div>\n",
       "<style scoped>\n",
       "    .dataframe tbody tr th:only-of-type {\n",
       "        vertical-align: middle;\n",
       "    }\n",
       "\n",
       "    .dataframe tbody tr th {\n",
       "        vertical-align: top;\n",
       "    }\n",
       "\n",
       "    .dataframe thead th {\n",
       "        text-align: right;\n",
       "    }\n",
       "</style>\n",
       "<table border=\"1\" class=\"dataframe\">\n",
       "  <thead>\n",
       "    <tr style=\"text-align: right;\">\n",
       "      <th></th>\n",
       "      <th>Entity</th>\n",
       "      <th>Year</th>\n",
       "      <th>Temperature</th>\n",
       "      <th>Code</th>\n",
       "      <th>emissions_total</th>\n",
       "    </tr>\n",
       "  </thead>\n",
       "  <tbody>\n",
       "    <tr>\n",
       "      <th>0</th>\n",
       "      <td>Argentina</td>\n",
       "      <td>1950</td>\n",
       "      <td>14.214175</td>\n",
       "      <td>ARG</td>\n",
       "      <td>29921192.0</td>\n",
       "    </tr>\n",
       "    <tr>\n",
       "      <th>1</th>\n",
       "      <td>Argentina</td>\n",
       "      <td>1951</td>\n",
       "      <td>14.407666</td>\n",
       "      <td>ARG</td>\n",
       "      <td>34962916.0</td>\n",
       "    </tr>\n",
       "    <tr>\n",
       "      <th>2</th>\n",
       "      <td>Argentina</td>\n",
       "      <td>1952</td>\n",
       "      <td>14.316195</td>\n",
       "      <td>ARG</td>\n",
       "      <td>36095124.0</td>\n",
       "    </tr>\n",
       "    <tr>\n",
       "      <th>3</th>\n",
       "      <td>Argentina</td>\n",
       "      <td>1953</td>\n",
       "      <td>14.520419</td>\n",
       "      <td>ARG</td>\n",
       "      <td>35134740.0</td>\n",
       "    </tr>\n",
       "    <tr>\n",
       "      <th>4</th>\n",
       "      <td>Argentina</td>\n",
       "      <td>1954</td>\n",
       "      <td>13.677547</td>\n",
       "      <td>ARG</td>\n",
       "      <td>36750356.0</td>\n",
       "    </tr>\n",
       "  </tbody>\n",
       "</table>\n",
       "</div>"
      ],
      "text/plain": [
       "      Entity  Year  Temperature Code  emissions_total\n",
       "0  Argentina  1950    14.214175  ARG       29921192.0\n",
       "1  Argentina  1951    14.407666  ARG       34962916.0\n",
       "2  Argentina  1952    14.316195  ARG       36095124.0\n",
       "3  Argentina  1953    14.520419  ARG       35134740.0\n",
       "4  Argentina  1954    13.677547  ARG       36750356.0"
      ]
     },
     "execution_count": 49,
     "metadata": {},
     "output_type": "execute_result"
    }
   ],
   "source": [
    "sueden = merge_datasets(yearly_summary_sa_filtered, emissions_filtered_na)\n",
    "sueden.head()"
   ]
  },
  {
   "cell_type": "code",
   "execution_count": 50,
   "metadata": {},
   "outputs": [
    {
     "data": {
      "text/html": [
       "<div>\n",
       "<style scoped>\n",
       "    .dataframe tbody tr th:only-of-type {\n",
       "        vertical-align: middle;\n",
       "    }\n",
       "\n",
       "    .dataframe tbody tr th {\n",
       "        vertical-align: top;\n",
       "    }\n",
       "\n",
       "    .dataframe thead th {\n",
       "        text-align: right;\n",
       "    }\n",
       "</style>\n",
       "<table border=\"1\" class=\"dataframe\">\n",
       "  <thead>\n",
       "    <tr style=\"text-align: right;\">\n",
       "      <th></th>\n",
       "      <th>Year</th>\n",
       "      <th>Temperature</th>\n",
       "      <th>emissions_total</th>\n",
       "    </tr>\n",
       "  </thead>\n",
       "  <tbody>\n",
       "    <tr>\n",
       "      <th>0</th>\n",
       "      <td>1950</td>\n",
       "      <td>19.933421</td>\n",
       "      <td>114035625.0</td>\n",
       "    </tr>\n",
       "    <tr>\n",
       "      <th>1</th>\n",
       "      <td>1951</td>\n",
       "      <td>20.239919</td>\n",
       "      <td>131914233.0</td>\n",
       "    </tr>\n",
       "    <tr>\n",
       "      <th>2</th>\n",
       "      <td>1952</td>\n",
       "      <td>20.264052</td>\n",
       "      <td>142109627.0</td>\n",
       "    </tr>\n",
       "    <tr>\n",
       "      <th>3</th>\n",
       "      <td>1953</td>\n",
       "      <td>20.444680</td>\n",
       "      <td>141313611.0</td>\n",
       "    </tr>\n",
       "    <tr>\n",
       "      <th>4</th>\n",
       "      <td>1954</td>\n",
       "      <td>19.866740</td>\n",
       "      <td>151785007.0</td>\n",
       "    </tr>\n",
       "  </tbody>\n",
       "</table>\n",
       "</div>"
      ],
      "text/plain": [
       "   Year  Temperature  emissions_total\n",
       "0  1950    19.933421      114035625.0\n",
       "1  1951    20.239919      131914233.0\n",
       "2  1952    20.264052      142109627.0\n",
       "3  1953    20.444680      141313611.0\n",
       "4  1954    19.866740      151785007.0"
      ]
     },
     "execution_count": 50,
     "metadata": {},
     "output_type": "execute_result"
    }
   ],
   "source": [
    "# Gruppieren nach Jahr und Entity, Berechnung der jährlichen Werte\n",
    "yearly_summarysouth = sueden.groupby( \"Year\").agg({\n",
    "    \"Temperature\": \"mean\",  # Durchschnittstemperatur über alle Monate\n",
    "    \"emissions_total\": \"sum\"  # Gesamtemissionen über alle Monate\n",
    "}).reset_index()\n",
    "\n",
    "yearly_summarysouth.head()"
   ]
  },
  {
   "cell_type": "code",
   "execution_count": 51,
   "metadata": {},
   "outputs": [
    {
     "name": "stdout",
     "output_type": "stream",
     "text": [
      "Die Grafik wurde erfolgreich als co2_emissions_large_graph.png gespeichert.\n"
     ]
    }
   ],
   "source": [
    "import plotly.graph_objects as go\n",
    "from plotly.subplots import make_subplots\n",
    "\n",
    "def plot_emissions_by_country_large_graph(emissions_data_na, countries_na, region_na, \n",
    "                                          emissions_data_sa, countries_sa, region_sa, output_file):\n",
    "    \"\"\"Erstellt eine große Grafik für CO2-Emissionen zweier Regionen nebeneinander und speichert sie als Bild.\"\"\"\n",
    "    # Daten filtern\n",
    "    region_data_na = emissions_data_na[emissions_data_na[\"Entity\"].isin(countries_na)]\n",
    "    region_data_sa = emissions_data_sa[emissions_data_sa[\"Entity\"].isin(countries_sa)]\n",
    "\n",
    "    # Subplots erstellen\n",
    "    fig = make_subplots(\n",
    "        rows=1, cols=2, \n",
    "        subplot_titles=(f\"CO2-Emissionen in {region_na}\", f\"CO2-Emissionen in {region_sa}\")\n",
    "    )\n",
    "\n",
    "    # Nordamerika-Daten hinzufügen\n",
    "    for country in countries_na:\n",
    "        country_data = region_data_na[region_data_na[\"Entity\"] == country]\n",
    "        fig.add_trace(\n",
    "            go.Scatter(x=country_data[\"Year\"], y=country_data[\"emissions_total\"], mode='lines', name=country),\n",
    "            row=1, col=1\n",
    "        )\n",
    "\n",
    "    # Südamerika-Daten hinzufügen\n",
    "    for country in countries_sa:\n",
    "        country_data = region_data_sa[region_data_sa[\"Entity\"] == country]\n",
    "        fig.add_trace(\n",
    "            go.Scatter(x=country_data[\"Year\"], y=country_data[\"emissions_total\"], mode='lines', name=country),\n",
    "            row=1, col=2\n",
    "        )\n",
    "\n",
    "    # Layout anpassen\n",
    "    fig.update_layout(\n",
    "        title_text=\"CO2-Emissionen nach Ländern: Nordamerika und Südamerika\",\n",
    "        title_font_size=20,\n",
    "        showlegend=True,\n",
    "        legend_title_text=\"Länder\",\n",
    "        xaxis=dict(title=\"Jahr\"),\n",
    "        yaxis=dict(title=\"CO2-Emissionen (Millionen Tonnen)\"),\n",
    "        height=800,  # Höhe der Grafik in Pixel\n",
    "        width=1600   # Breite der Grafik in Pixel\n",
    "    )\n",
    "\n",
    "    # Grafik speichern\n",
    "    fig.write_image(output_file)\n",
    "    print(f\"Die Grafik wurde erfolgreich als {output_file} gespeichert.\")\n",
    "\n",
    "# Beispielaufruf\n",
    "plot_emissions_by_country_large_graph(\n",
    "    combined_filtered_data_na, north_america_countries, \"Nordamerika\",\n",
    "    sueden, south_america_countries, \"Südamerika\",\n",
    "    \"co2_emissions_large_graph.png\"\n",
    ")\n"
   ]
  },
  {
   "cell_type": "code",
   "execution_count": 60,
   "metadata": {},
   "outputs": [
    {
     "name": "stdout",
     "output_type": "stream",
     "text": [
      "Die Grafik wurde erfolgreich als temperature_large_graph.png gespeichert.\n"
     ]
    }
   ],
   "source": [
    "import plotly.graph_objects as go\n",
    "from plotly.subplots import make_subplots\n",
    "\n",
    "def plot_temperature_by_region_large_graph(temp_data_na, countries_na, region_na, \n",
    "                                           temp_data_sa, countries_sa, region_sa, output_file):\n",
    "    \"\"\"Erstellt eine große Grafik für Temperaturen zweier Regionen nebeneinander und speichert sie als Bild.\"\"\"\n",
    "    # Daten filtern\n",
    "    region_data_na = temp_data_na[temp_data_na[\"Entity\"].isin(countries_na)]\n",
    "    region_data_sa = temp_data_sa[temp_data_sa[\"Entity\"].isin(countries_sa)]\n",
    "\n",
    "    # Subplots erstellen\n",
    "    fig = make_subplots(\n",
    "        rows=1, cols=2, \n",
    "        subplot_titles=(f\"Temperaturen in {region_na}\", f\"Temperaturen in {region_sa}\")\n",
    "    )\n",
    "\n",
    "    # Nordamerika-Daten hinzufügen\n",
    "    for country in countries_na:\n",
    "        country_data = region_data_na[region_data_na[\"Entity\"] == country]\n",
    "        fig.add_trace(\n",
    "            go.Scatter(x=country_data[\"Year\"], y=country_data[\"Temperature\"], mode='lines', name=country),\n",
    "            row=1, col=1\n",
    "        )\n",
    "\n",
    "    # Südamerika-Daten hinzufügen\n",
    "    for country in countries_sa:\n",
    "        country_data = region_data_sa[region_data_sa[\"Entity\"] == country]\n",
    "        fig.add_trace(\n",
    "            go.Scatter(x=country_data[\"Year\"], y=country_data[\"Temperature\"], mode='lines', name=country),\n",
    "            row=1, col=2\n",
    "        )\n",
    "\n",
    "    # Layout anpassen\n",
    "    fig.update_layout(\n",
    "        title_text=\"Temperaturen nach Ländern: Nordamerika und Südamerika\",\n",
    "        title_font_size=20,\n",
    "        showlegend=True,\n",
    "        legend_title_text=\"Länder\",\n",
    "        xaxis_title=\"Jahr\",\n",
    "        yaxis_title=\"Temperatur (°C)\",\n",
    "        height=800,  # Höhe der Grafik in Pixel\n",
    "        width=1600   # Breite der Grafik in Pixel\n",
    "    )\n",
    "\n",
    "    # Grafik speichern\n",
    "    fig.write_image(output_file)\n",
    "    print(f\"Die Grafik wurde erfolgreich als {output_file} gespeichert.\")\n",
    "\n",
    "# Beispielaufruf\n",
    "plot_temperature_by_region_large_graph(\n",
    "    combined_filtered_data_na, north_america_countries, \"Nordamerika\",\n",
    "    sueden, south_america_countries, \"Südamerika\",\n",
    "    \"temperature_large_graph.png\"\n",
    ")\n"
   ]
  },
  {
   "cell_type": "code",
   "execution_count": 52,
   "metadata": {},
   "outputs": [
    {
     "data": {
      "application/vnd.plotly.v1+json": {
       "config": {
        "plotlyServerURL": "https://plot.ly"
       },
       "data": [
        {
         "hovertemplate": "Entity=Antigua and Barbuda<br>Jahr=%{x}<br>Temperature=%{y}<extra></extra>",
         "legendgroup": "Antigua and Barbuda",
         "line": {
          "color": "#636efa",
          "dash": "solid"
         },
         "marker": {
          "symbol": "circle"
         },
         "mode": "lines",
         "name": "Antigua and Barbuda",
         "showlegend": true,
         "type": "scattergl",
         "x": [
          1950,
          1951,
          1952,
          1953,
          1954,
          1955,
          1956,
          1957,
          1958,
          1959,
          1960,
          1961,
          1962,
          1963,
          1964,
          1965,
          1966,
          1967,
          1968,
          1969,
          1970,
          1971,
          1972,
          1973,
          1974,
          1975,
          1976,
          1977,
          1978,
          1979,
          1980,
          1981,
          1982,
          1983,
          1984,
          1985,
          1986,
          1987,
          1988,
          1989,
          1990,
          1991,
          1992,
          1993,
          1994,
          1995,
          1996,
          1997,
          1998,
          1999,
          2000,
          2001,
          2002,
          2003,
          2004,
          2005,
          2006,
          2007,
          2008,
          2009,
          2010,
          2011,
          2012,
          2013,
          2014,
          2015,
          2016,
          2017,
          2018,
          2019,
          2020,
          2021,
          2022,
          2023
         ],
         "xaxis": "x",
         "y": [
          25.37790683333333,
          25.850763833333332,
          25.956604,
          25.9729945,
          25.597811250000003,
          25.529531083333335,
          25.606246833333334,
          25.732012583333333,
          26.275316916666668,
          25.959581916666668,
          26.083063666666664,
          25.824407166666663,
          25.87490075,
          25.997072833333334,
          25.839256333333335,
          25.656707666666666,
          25.92571275,
          25.75874075,
          25.805923500000002,
          26.34683216666667,
          26.049908916666666,
          25.6594595,
          25.750078833333333,
          25.841115416666668,
          25.295176416666667,
          25.4400535,
          25.355270416666666,
          25.739359583333336,
          25.881721499999998,
          25.853589333333332,
          26.157308,
          26.143277583333333,
          25.647865166666666,
          26.046819166666666,
          25.504440250000002,
          25.451001416666667,
          25.587114833333334,
          26.207255083333333,
          25.97937775,
          25.55746716666667,
          25.9175415,
          25.80711875,
          25.917724583333335,
          25.936352749999998,
          25.749977,
          26.24959325,
          25.867609916666666,
          26.194867333333335,
          26.57263175,
          26.06976308333333,
          25.88183091666667,
          26.136619666666665,
          26.220466333333334,
          26.29006716666667,
          26.112627583333335,
          26.579658499999997,
          26.335634833333334,
          26.325902166666665,
          25.884948833333336,
          26.10218808333333,
          26.771604083333333,
          26.225285833333334,
          26.259831833333333,
          26.134351083333332,
          26.079597500000002,
          26.28756466666667,
          26.41058608333333,
          26.290896166666666,
          26.011283833333334,
          26.305875166666667,
          26.460612083333334,
          26.280718583333336,
          26.170677083333334,
          26.69423408333333
         ],
         "yaxis": "y"
        },
        {
         "hovertemplate": "Entity=Bahamas<br>Jahr=%{x}<br>Temperature=%{y}<extra></extra>",
         "legendgroup": "Bahamas",
         "line": {
          "color": "#EF553B",
          "dash": "solid"
         },
         "marker": {
          "symbol": "circle"
         },
         "mode": "lines",
         "name": "Bahamas",
         "showlegend": true,
         "type": "scattergl",
         "x": [
          1950,
          1951,
          1952,
          1953,
          1954,
          1955,
          1956,
          1957,
          1958,
          1959,
          1960,
          1961,
          1962,
          1963,
          1964,
          1965,
          1966,
          1967,
          1968,
          1969,
          1970,
          1971,
          1972,
          1973,
          1974,
          1975,
          1976,
          1977,
          1978,
          1979,
          1980,
          1981,
          1982,
          1983,
          1984,
          1985,
          1986,
          1987,
          1988,
          1989,
          1990,
          1991,
          1992,
          1993,
          1994,
          1995,
          1996,
          1997,
          1998,
          1999,
          2000,
          2001,
          2002,
          2003,
          2004,
          2005,
          2006,
          2007,
          2008,
          2009,
          2010,
          2011,
          2012,
          2013,
          2014,
          2015,
          2016,
          2017,
          2018,
          2019,
          2020,
          2021,
          2022,
          2023
         ],
         "xaxis": "x",
         "y": [
          24.788460916666665,
          25.101925750000003,
          25.17910858333333,
          25.253847583333336,
          25.056749416666666,
          24.903876583333332,
          24.892666666666667,
          25.416558499999997,
          25.05942475,
          25.566851749999998,
          25.12830866666667,
          25.227130083333332,
          25.040397416666668,
          25.042012416666665,
          25.327926333333334,
          25.000889,
          24.786349333333334,
          24.89957191666667,
          24.6145985,
          24.85171241666667,
          24.79872041666667,
          24.993246916666667,
          25.3464225,
          25.06395275,
          24.97441591666667,
          25.35364291666667,
          24.840683249999998,
          25.0244545,
          25.139576666666667,
          25.115265250000004,
          25.163929416666665,
          24.804901916666665,
          25.403141916666666,
          25.177594916666667,
          24.864824166666665,
          24.958368333333336,
          25.211072416666667,
          25.151389249999998,
          25.09837758333333,
          25.299440166666667,
          25.57825025,
          25.510436166666665,
          25.106262666666666,
          25.331864166666666,
          25.64913233333333,
          25.378634333333334,
          24.879293750000002,
          25.589100083333335,
          25.740713416666665,
          25.1984415,
          25.062095166666666,
          25.278156,
          25.646551416666668,
          25.657974749999997,
          25.174104,
          25.28447608333333,
          25.29238325,
          25.571222000000002,
          25.468471249999997,
          25.31540166666667,
          24.985195333333333,
          25.493118,
          25.29099008333333,
          25.555409583333333,
          25.791246666666666,
          26.066776416666666,
          25.864193083333333,
          25.75322325,
          25.711816916666667,
          26.142889,
          26.11434841666667,
          25.907100416666665,
          26.016620833333334,
          26.371638583333333
         ],
         "yaxis": "y"
        },
        {
         "hovertemplate": "Entity=Belize<br>Jahr=%{x}<br>Temperature=%{y}<extra></extra>",
         "legendgroup": "Belize",
         "line": {
          "color": "#00cc96",
          "dash": "solid"
         },
         "marker": {
          "symbol": "circle"
         },
         "mode": "lines",
         "name": "Belize",
         "showlegend": true,
         "type": "scattergl",
         "x": [
          1950,
          1951,
          1952,
          1953,
          1954,
          1955,
          1956,
          1957,
          1958,
          1959,
          1960,
          1961,
          1962,
          1963,
          1964,
          1965,
          1966,
          1967,
          1968,
          1969,
          1970,
          1971,
          1972,
          1973,
          1974,
          1975,
          1976,
          1977,
          1978,
          1979,
          1980,
          1981,
          1982,
          1983,
          1984,
          1985,
          1986,
          1987,
          1988,
          1989,
          1990,
          1991,
          1992,
          1993,
          1994,
          1995,
          1996,
          1997,
          1998,
          1999,
          2000,
          2001,
          2002,
          2003,
          2004,
          2005,
          2006,
          2007,
          2008,
          2009,
          2010,
          2011,
          2012,
          2013,
          2014,
          2015,
          2016,
          2017,
          2018,
          2019,
          2020,
          2021,
          2022,
          2023
         ],
         "xaxis": "x",
         "y": [
          23.758216750000003,
          24.617744666666667,
          24.537857916666667,
          24.902223916666667,
          24.035824083333335,
          24.187715333333333,
          23.68437975,
          24.362587333333334,
          24.748234166666666,
          24.213509916666666,
          24.32815241666667,
          24.414729166666664,
          24.39158025,
          24.754161,
          25.144337250000003,
          24.616469499999997,
          24.357017666666668,
          24.736037166666666,
          24.336462083333334,
          24.881278,
          24.54028691666667,
          24.779847833333335,
          24.92255916666667,
          24.87920916666667,
          24.45118725,
          24.766372,
          24.161718333333337,
          24.587803416666663,
          24.727566083333333,
          24.838281,
          24.860255416666664,
          24.650498916666667,
          24.97738683333333,
          25.22879491666667,
          24.635286250000004,
          24.856892833333333,
          24.620144416666665,
          25.02817825,
          25.091644000000002,
          24.987694666666666,
          25.07225325,
          25.31455375,
          25.03850375,
          25.125784666666664,
          25.37185725,
          25.604464000000004,
          24.949971916666666,
          25.622652000000002,
          25.819055083333335,
          24.872476583333334,
          24.752950333333334,
          25.074530333333332,
          25.477884083333333,
          25.627114833333334,
          25.576443833333332,
          25.935078333333333,
          25.421850000000003,
          25.59187316666667,
          25.32773733333333,
          25.90087133333333,
          25.683560416666666,
          25.815450666666667,
          25.66079625,
          25.867960166666666,
          25.695107500000002,
          26.211740000000002,
          26.026832583333334,
          25.905440916666667,
          25.670460833333333,
          26.455143083333336,
          26.456218333333336,
          26.282145833333335,
          25.980943749999998,
          26.619013750000004
         ],
         "yaxis": "y"
        },
        {
         "hovertemplate": "Entity=Canada<br>Jahr=%{x}<br>Temperature=%{y}<extra></extra>",
         "legendgroup": "Canada",
         "line": {
          "color": "#ab63fa",
          "dash": "solid"
         },
         "marker": {
          "symbol": "circle"
         },
         "mode": "lines",
         "name": "Canada",
         "showlegend": true,
         "type": "scattergl",
         "x": [
          1950,
          1951,
          1952,
          1953,
          1954,
          1955,
          1956,
          1957,
          1958,
          1959,
          1960,
          1961,
          1962,
          1963,
          1964,
          1965,
          1966,
          1967,
          1968,
          1969,
          1970,
          1971,
          1972,
          1973,
          1974,
          1975,
          1976,
          1977,
          1978,
          1979,
          1980,
          1981,
          1982,
          1983,
          1984,
          1985,
          1986,
          1987,
          1988,
          1989,
          1990,
          1991,
          1992,
          1993,
          1994,
          1995,
          1996,
          1997,
          1998,
          1999,
          2000,
          2001,
          2002,
          2003,
          2004,
          2005,
          2006,
          2007,
          2008,
          2009,
          2010,
          2011,
          2012,
          2013,
          2014,
          2015,
          2016,
          2017,
          2018,
          2019,
          2020,
          2021,
          2022,
          2023
         ],
         "xaxis": "x",
         "y": [
          -5.975990400000001,
          -5.4247780500000005,
          -4.00750655,
          -4.004267,
          -4.695741091666666,
          -4.859531708333333,
          -5.617191119166667,
          -4.868425366666667,
          -4.243448191666667,
          -5.183948433333334,
          -4.348821775,
          -4.946919808333333,
          -4.82694855,
          -4.5802110825,
          -5.3163507,
          -5.4575703,
          -5.071497616666666,
          -5.3671988,
          -4.61745041,
          -4.32603685,
          -4.971914833333333,
          -4.778654441666667,
          -6.767322441666667,
          -4.010936,
          -5.585840830833334,
          -4.906508533333333,
          -4.775704891666667,
          -3.844605375,
          -5.319194416666667,
          -4.942273916666667,
          -4.3428411,
          -2.7425065916666664,
          -5.7385433416666665,
          -4.6194526641666664,
          -4.464080533333333,
          -4.783962225,
          -4.779742258333333,
          -3.231089375,
          -4.076150141666667,
          -4.940268816666666,
          -4.969122566666667,
          -4.312026025000001,
          -4.911989,
          -4.369841625,
          -4.2843619975000005,
          -4.1884500000000005,
          -4.826654466666667,
          -4.171003758333334,
          -2.5143545966666667,
          -3.228508983333333,
          -4.047199383333333,
          -3.030084066666667,
          -4.271506781666667,
          -3.7182094253333333,
          -4.764980691666667,
          -3.1651358175,
          -2.27251532,
          -3.9474850025,
          -4.148064679166667,
          -3.972043395833333,
          -1.6897381150000002,
          -3.3942097375,
          -2.937549616666667,
          -3.97737951,
          -4.110524183333333,
          -3.511013633333333,
          -2.6479040166666667,
          -3.214118608333333,
          -4.2081425999999995,
          -3.6194461666666666,
          -3.5554604666666663,
          -2.7537120583333334,
          -3.5735825275000006,
          -1.8058439000000002
         ],
         "yaxis": "y"
        },
        {
         "hovertemplate": "Entity=Costa Rica<br>Jahr=%{x}<br>Temperature=%{y}<extra></extra>",
         "legendgroup": "Costa Rica",
         "line": {
          "color": "#FFA15A",
          "dash": "solid"
         },
         "marker": {
          "symbol": "circle"
         },
         "mode": "lines",
         "name": "Costa Rica",
         "showlegend": true,
         "type": "scattergl",
         "x": [
          1950,
          1951,
          1952,
          1953,
          1954,
          1955,
          1956,
          1957,
          1958,
          1959,
          1960,
          1961,
          1962,
          1963,
          1964,
          1965,
          1966,
          1967,
          1968,
          1969,
          1970,
          1971,
          1972,
          1973,
          1974,
          1975,
          1976,
          1977,
          1978,
          1979,
          1980,
          1981,
          1982,
          1983,
          1984,
          1985,
          1986,
          1987,
          1988,
          1989,
          1990,
          1991,
          1992,
          1993,
          1994,
          1995,
          1996,
          1997,
          1998,
          1999,
          2000,
          2001,
          2002,
          2003,
          2004,
          2005,
          2006,
          2007,
          2008,
          2009,
          2010,
          2011,
          2012,
          2013,
          2014,
          2015,
          2016,
          2017,
          2018,
          2019,
          2020,
          2021,
          2022,
          2023
         ],
         "xaxis": "x",
         "y": [
          22.362807500000002,
          22.63327975,
          22.685928583333332,
          22.83653316666667,
          22.329778,
          22.520471,
          22.044944666666666,
          22.688119416666666,
          22.8733555,
          22.562796333333335,
          22.477563166666666,
          22.607863750000003,
          22.258683916666666,
          22.41626975,
          22.47041941666667,
          22.5048895,
          22.62891325,
          22.386355749999996,
          22.321758,
          23.016201083333332,
          22.48451258333333,
          22.146411083333334,
          22.71245625,
          22.629432249999997,
          22.159364583333332,
          22.288287916666665,
          22.36592933333333,
          22.832657083333334,
          22.718948,
          22.66908791666667,
          22.887101333333334,
          22.664412499999997,
          22.958917083333333,
          23.337400416666668,
          22.502629833333334,
          22.39387533333333,
          22.560383583333333,
          23.479795166666666,
          22.8914505,
          22.61668591666667,
          23.031893,
          22.931736416666666,
          22.98316266666667,
          22.76072566666667,
          22.926251750000002,
          22.806770999999998,
          22.459875666666665,
          22.87183466666667,
          23.20634533333333,
          22.102427833333333,
          22.37563316666667,
          22.635467000000002,
          23.100672,
          23.081511083333336,
          23.06442008333333,
          23.145203416666664,
          23.06263758333333,
          23.050199000000003,
          22.814640166666667,
          23.171867083333336,
          23.26502566666667,
          22.927143666666666,
          23.012988333333336,
          23.165054166666668,
          23.2813775,
          23.518651583333334,
          23.52037125,
          23.246163999999997,
          23.072385833333332,
          23.445279333333332,
          23.417012749999998,
          22.959911166666668,
          22.86474733333333,
          23.692706916666666
         ],
         "yaxis": "y"
        },
        {
         "hovertemplate": "Entity=Cuba<br>Jahr=%{x}<br>Temperature=%{y}<extra></extra>",
         "legendgroup": "Cuba",
         "line": {
          "color": "#19d3f3",
          "dash": "solid"
         },
         "marker": {
          "symbol": "circle"
         },
         "mode": "lines",
         "name": "Cuba",
         "showlegend": true,
         "type": "scattergl",
         "x": [
          1950,
          1951,
          1952,
          1953,
          1954,
          1955,
          1956,
          1957,
          1958,
          1959,
          1960,
          1961,
          1962,
          1963,
          1964,
          1965,
          1966,
          1967,
          1968,
          1969,
          1970,
          1971,
          1972,
          1973,
          1974,
          1975,
          1976,
          1977,
          1978,
          1979,
          1980,
          1981,
          1982,
          1983,
          1984,
          1985,
          1986,
          1987,
          1988,
          1989,
          1990,
          1991,
          1992,
          1993,
          1994,
          1995,
          1996,
          1997,
          1998,
          1999,
          2000,
          2001,
          2002,
          2003,
          2004,
          2005,
          2006,
          2007,
          2008,
          2009,
          2010,
          2011,
          2012,
          2013,
          2014,
          2015,
          2016,
          2017,
          2018,
          2019,
          2020,
          2021,
          2022,
          2023
         ],
         "xaxis": "x",
         "y": [
          24.515882666666666,
          24.951277166666667,
          24.9909985,
          25.340656666666664,
          24.861554166666664,
          24.967367916666664,
          25.051626416666664,
          25.331701999999996,
          25.220174083333333,
          25.527547499999997,
          24.83214741666667,
          25.282365,
          25.07230625,
          24.929934583333335,
          25.165562499999997,
          25.106445583333336,
          24.701669999999996,
          25.013899916666663,
          24.601765583333332,
          24.9650195,
          24.832603333333335,
          24.914743916666666,
          25.079456833333335,
          24.947355583333334,
          25.039370666666667,
          25.288922749999998,
          24.841058833333335,
          24.98656275,
          24.746344500000003,
          24.773958833333335,
          25.088342,
          24.6289625,
          25.343803583333337,
          25.086145916666666,
          24.901855416666667,
          24.918171666666666,
          25.146208333333334,
          25.18353325,
          25.17227391666667,
          25.261809333333332,
          25.52926325,
          25.48024225,
          25.043525416666668,
          25.06844225,
          25.463224166666667,
          25.423683916666665,
          24.987352583333333,
          25.949096416666666,
          26.128311666666665,
          25.118776166666667,
          25.155711,
          25.170510333333336,
          25.538435833333335,
          25.73872883333333,
          25.424390416666668,
          25.2198825,
          25.389505666666665,
          25.494525333333332,
          25.423832750000003,
          25.374090833333337,
          24.96891925,
          25.40478625,
          25.253246083333334,
          25.581884583333334,
          25.56113125,
          25.972837,
          25.728143333333332,
          25.664310583333332,
          25.622782583333333,
          26.083469833333336,
          26.1664535,
          25.887895333333333,
          25.84382558333333,
          26.295471083333336
         ],
         "yaxis": "y"
        },
        {
         "hovertemplate": "Entity=Dominican Republic<br>Jahr=%{x}<br>Temperature=%{y}<extra></extra>",
         "legendgroup": "Dominican Republic",
         "line": {
          "color": "#FF6692",
          "dash": "solid"
         },
         "marker": {
          "symbol": "circle"
         },
         "mode": "lines",
         "name": "Dominican Republic",
         "showlegend": true,
         "type": "scattergl",
         "x": [
          1950,
          1951,
          1952,
          1953,
          1954,
          1955,
          1956,
          1957,
          1958,
          1959,
          1960,
          1961,
          1962,
          1963,
          1964,
          1965,
          1966,
          1967,
          1968,
          1969,
          1970,
          1971,
          1972,
          1973,
          1974,
          1975,
          1976,
          1977,
          1978,
          1979,
          1980,
          1981,
          1982,
          1983,
          1984,
          1985,
          1986,
          1987,
          1988,
          1989,
          1990,
          1991,
          1992,
          1993,
          1994,
          1995,
          1996,
          1997,
          1998,
          1999,
          2000,
          2001,
          2002,
          2003,
          2004,
          2005,
          2006,
          2007,
          2008,
          2009,
          2010,
          2011,
          2012,
          2013,
          2014,
          2015,
          2016,
          2017,
          2018,
          2019,
          2020,
          2021,
          2022,
          2023
         ],
         "xaxis": "x",
         "y": [
          23.2156895,
          23.582218916666665,
          23.68823875,
          23.589729583333334,
          23.238186416666668,
          23.255073083333333,
          23.468528583333335,
          24.013298916666667,
          24.36910175,
          23.94908083333333,
          23.648701083333332,
          23.435834916666668,
          23.578701249999998,
          23.569023583333333,
          23.744231166666665,
          23.507884833333335,
          23.66078,
          23.6802485,
          23.574680999999998,
          24.175965333333334,
          23.8783555,
          23.610987833333336,
          23.865217583333333,
          24.033827666666667,
          23.572129166666667,
          23.67253375,
          23.586933333333334,
          24.084991,
          23.942055166666666,
          23.650181333333332,
          24.163971500000002,
          23.795487416666663,
          23.562942250000003,
          24.180249916666668,
          23.662021999999997,
          23.59869725,
          23.66749725,
          24.187442083333334,
          23.895842916666666,
          23.77984641666667,
          24.010816083333335,
          23.960776999999997,
          23.819784166666665,
          23.886690166666668,
          23.99922533333333,
          24.111085,
          23.599117333333336,
          24.48370575,
          24.393711333333332,
          23.667168,
          23.86218691666667,
          24.09041625,
          24.238823416666666,
          24.214772166666666,
          23.98311191666667,
          24.298852083333333,
          24.318640833333333,
          24.35079991666667,
          24.001292000000003,
          24.196814916666668,
          24.495263499999997,
          24.111661916666666,
          24.19164358333333,
          24.327754249999998,
          24.5016995,
          24.802795333333336,
          24.627990166666667,
          24.498322833333333,
          24.411760583333333,
          24.745372833333334,
          24.86859425,
          24.475752083333333,
          24.46111983333333,
          25.143886666666663
         ],
         "yaxis": "y"
        },
        {
         "hovertemplate": "Entity=El Salvador<br>Jahr=%{x}<br>Temperature=%{y}<extra></extra>",
         "legendgroup": "El Salvador",
         "line": {
          "color": "#B6E880",
          "dash": "solid"
         },
         "marker": {
          "symbol": "circle"
         },
         "mode": "lines",
         "name": "El Salvador",
         "showlegend": true,
         "type": "scattergl",
         "x": [
          1950,
          1951,
          1952,
          1953,
          1954,
          1955,
          1956,
          1957,
          1958,
          1959,
          1960,
          1961,
          1962,
          1963,
          1964,
          1965,
          1966,
          1967,
          1968,
          1969,
          1970,
          1971,
          1972,
          1973,
          1974,
          1975,
          1976,
          1977,
          1978,
          1979,
          1980,
          1981,
          1982,
          1983,
          1984,
          1985,
          1986,
          1987,
          1988,
          1989,
          1990,
          1991,
          1992,
          1993,
          1994,
          1995,
          1996,
          1997,
          1998,
          1999,
          2000,
          2001,
          2002,
          2003,
          2004,
          2005,
          2006,
          2007,
          2008,
          2009,
          2010,
          2011,
          2012,
          2013,
          2014,
          2015,
          2016,
          2017,
          2018,
          2019,
          2020,
          2021,
          2022,
          2023
         ],
         "xaxis": "x",
         "y": [
          24.280865000000002,
          25.171077,
          25.068798916666665,
          25.345115833333335,
          24.6931055,
          24.50781325,
          24.51139725,
          25.050771583333333,
          25.31563266666667,
          24.849748833333333,
          24.53399991666667,
          25.001531583333332,
          24.907126916666666,
          25.342931916666668,
          25.39239483333333,
          25.539640583333334,
          25.28670166666667,
          25.615231249999997,
          25.114589916666663,
          25.3098285,
          25.15327566666667,
          25.084232416666666,
          25.92121225,
          25.370152666666666,
          25.263169666666666,
          25.215098,
          25.328476416666664,
          25.74225608333333,
          25.503011916666665,
          25.675005416666664,
          25.79823616666667,
          25.46761641666667,
          25.927542250000002,
          26.126989750000003,
          25.15797275,
          25.500732416666665,
          25.545797833333335,
          26.335987,
          25.663208083333334,
          25.483637666666667,
          26.013072499999996,
          26.028943916666666,
          25.976016166666668,
          25.649408166666664,
          26.094511083333334,
          25.521669916666667,
          25.26326475,
          26.234015499999998,
          26.1121265,
          25.00593375,
          25.426702666666667,
          25.678634666666667,
          26.18580083333333,
          25.910535916666664,
          26.001591166666667,
          25.816839666666667,
          25.905925916666664,
          25.745026333333332,
          25.354349916666667,
          26.2379565,
          25.793702416666665,
          25.79550258333333,
          26.087760333333335,
          26.251602583333334,
          26.429585666666668,
          27.068467416666667,
          26.75727541666667,
          26.388757583333334,
          26.54463275,
          26.87471425,
          26.484449583333333,
          26.682385916666664,
          26.300439666666666,
          27.178143916666667
         ],
         "yaxis": "y"
        },
        {
         "hovertemplate": "Entity=Haiti<br>Jahr=%{x}<br>Temperature=%{y}<extra></extra>",
         "legendgroup": "Haiti",
         "line": {
          "color": "#FF97FF",
          "dash": "solid"
         },
         "marker": {
          "symbol": "circle"
         },
         "mode": "lines",
         "name": "Haiti",
         "showlegend": true,
         "type": "scattergl",
         "x": [
          1950,
          1951,
          1952,
          1953,
          1954,
          1955,
          1956,
          1957,
          1958,
          1959,
          1960,
          1961,
          1962,
          1963,
          1964,
          1965,
          1966,
          1967,
          1968,
          1969,
          1970,
          1971,
          1972,
          1973,
          1974,
          1975,
          1976,
          1977,
          1978,
          1979,
          1980,
          1981,
          1982,
          1983,
          1984,
          1985,
          1986,
          1987,
          1988,
          1989,
          1990,
          1991,
          1992,
          1993,
          1994,
          1995,
          1996,
          1997,
          1998,
          1999,
          2000,
          2001,
          2002,
          2003,
          2004,
          2005,
          2006,
          2007,
          2008,
          2009,
          2010,
          2011,
          2012,
          2013,
          2014,
          2015,
          2016,
          2017,
          2018,
          2019,
          2020,
          2021,
          2022,
          2023
         ],
         "xaxis": "x",
         "y": [
          23.791443083333334,
          24.200411083333332,
          24.433708666666664,
          24.463765499999997,
          24.025305,
          23.811625333333335,
          24.017749499999997,
          24.563983583333336,
          24.974140916666666,
          24.817888166666666,
          24.280421333333333,
          24.22922925,
          24.297321416666666,
          24.24253675,
          24.350527666666665,
          24.207927916666666,
          24.295538333333337,
          24.368822583333337,
          24.198911749999997,
          24.77739,
          24.542202500000002,
          23.9778965,
          24.29322325,
          24.315007583333337,
          23.99162766666667,
          24.120125916666666,
          24.095430583333336,
          24.64791325,
          24.43151358333333,
          24.175573,
          24.701444499999997,
          24.253269583333335,
          24.31085966666667,
          24.88563375,
          24.454242583333336,
          24.490521916666665,
          24.55693275,
          25.044112583333334,
          24.814478750000003,
          24.651778500000002,
          25.028012833333335,
          24.965543416666666,
          24.720208916666667,
          24.60616075,
          24.663098083333335,
          24.700554416666666,
          24.27244175,
          25.27088433333333,
          25.226067583333332,
          24.354675166666667,
          24.5850365,
          24.810722833333333,
          25.017779,
          24.995367583333334,
          24.652160749999997,
          24.934369,
          25.06829833333333,
          25.125029666666666,
          24.765685833333333,
          24.9340985,
          25.105067083333335,
          24.87866925,
          24.937206166666666,
          25.199525166666664,
          25.394705666666667,
          25.716512499999997,
          25.381342916666668,
          25.223775166666666,
          25.286075333333333,
          25.51912258333333,
          25.690557166666665,
          25.3042955,
          25.221204333333333,
          25.847712583333333
         ],
         "yaxis": "y"
        },
        {
         "hovertemplate": "Entity=Honduras<br>Jahr=%{x}<br>Temperature=%{y}<extra></extra>",
         "legendgroup": "Honduras",
         "line": {
          "color": "#FECB52",
          "dash": "solid"
         },
         "marker": {
          "symbol": "circle"
         },
         "mode": "lines",
         "name": "Honduras",
         "showlegend": true,
         "type": "scattergl",
         "x": [
          1950,
          1951,
          1952,
          1953,
          1954,
          1955,
          1956,
          1957,
          1958,
          1959,
          1960,
          1961,
          1962,
          1963,
          1964,
          1965,
          1966,
          1967,
          1968,
          1969,
          1970,
          1971,
          1972,
          1973,
          1974,
          1975,
          1976,
          1977,
          1978,
          1979,
          1980,
          1981,
          1982,
          1983,
          1984,
          1985,
          1986,
          1987,
          1988,
          1989,
          1990,
          1991,
          1992,
          1993,
          1994,
          1995,
          1996,
          1997,
          1998,
          1999,
          2000,
          2001,
          2002,
          2003,
          2004,
          2005,
          2006,
          2007,
          2008,
          2009,
          2010,
          2011,
          2012,
          2013,
          2014,
          2015,
          2016,
          2017,
          2018,
          2019,
          2020,
          2021,
          2022,
          2023
         ],
         "xaxis": "x",
         "y": [
          21.7031345,
          22.649529666666666,
          22.759429666666666,
          23.065061083333333,
          22.303774833333335,
          22.381430833333336,
          21.910883333333334,
          22.63448508333333,
          22.981593,
          22.3755285,
          22.233331916666668,
          22.523092000000002,
          22.451160416666667,
          22.74262908333333,
          23.129875666666667,
          23.006323,
          22.795083833333333,
          22.900280249999998,
          22.621490166666664,
          23.068186999999998,
          22.6811515,
          22.776718916666667,
          23.288870916666667,
          23.205923,
          22.663495083333334,
          22.9756325,
          22.511080583333335,
          23.095826416666668,
          23.094744666666667,
          23.195906583333336,
          23.13327341666667,
          22.976497416666664,
          23.240818416666666,
          23.698851083333334,
          22.945854583333332,
          23.019239416666668,
          22.633423250000003,
          23.259261,
          23.3343445,
          23.05216575,
          23.247152166666666,
          23.49109841666667,
          23.408618666666666,
          23.17005958333333,
          23.426846166666667,
          23.5143685,
          22.855753000000004,
          23.432563166666668,
          23.858447166666664,
          22.702809833333333,
          22.716697,
          22.948731749999997,
          23.428769916666667,
          23.5499575,
          23.425128583333333,
          23.683953333333335,
          23.521665249999998,
          23.45638575,
          23.265886416666664,
          23.520617083333335,
          23.397854166666665,
          23.47599608333333,
          23.37629816666667,
          23.732633916666668,
          23.67817375,
          24.084928416666667,
          24.10274241666667,
          23.760022666666668,
          23.576860999999997,
          24.29406075,
          24.247933083333333,
          24.099195249999998,
          23.793312916666665,
          24.61076425
         ],
         "yaxis": "y"
        },
        {
         "hovertemplate": "Entity=Jamaica<br>Jahr=%{x}<br>Temperature=%{y}<extra></extra>",
         "legendgroup": "Jamaica",
         "line": {
          "color": "#636efa",
          "dash": "solid"
         },
         "marker": {
          "symbol": "circle"
         },
         "mode": "lines",
         "name": "Jamaica",
         "showlegend": true,
         "type": "scattergl",
         "x": [
          1950,
          1951,
          1952,
          1953,
          1954,
          1955,
          1956,
          1957,
          1958,
          1959,
          1960,
          1961,
          1962,
          1963,
          1964,
          1965,
          1966,
          1967,
          1968,
          1969,
          1970,
          1971,
          1972,
          1973,
          1974,
          1975,
          1976,
          1977,
          1978,
          1979,
          1980,
          1981,
          1982,
          1983,
          1984,
          1985,
          1986,
          1987,
          1988,
          1989,
          1990,
          1991,
          1992,
          1993,
          1994,
          1995,
          1996,
          1997,
          1998,
          1999,
          2000,
          2001,
          2002,
          2003,
          2004,
          2005,
          2006,
          2007,
          2008,
          2009,
          2010,
          2011,
          2012,
          2013,
          2014,
          2015,
          2016,
          2017,
          2018,
          2019,
          2020,
          2021,
          2022,
          2023
         ],
         "xaxis": "x",
         "y": [
          24.036969416666665,
          24.471039166666667,
          24.723800583333333,
          24.764139416666666,
          24.4745065,
          24.25323441666667,
          24.358033250000002,
          24.819375750000003,
          25.091628666666665,
          24.921860916666663,
          24.634817249999998,
          24.66653225,
          24.571495416666664,
          24.566684666666664,
          24.67471516666667,
          24.644390666666666,
          24.732749,
          25.009139083333334,
          24.837996583333332,
          25.470414166666668,
          25.078969583333333,
          24.649999750000003,
          24.762351666666664,
          24.85867775,
          24.680825249999998,
          24.732345,
          24.771174583333334,
          25.2025565,
          24.941837916666667,
          24.678544,
          25.303267833333333,
          25.165950416666664,
          25.34657841666667,
          25.713964416666666,
          25.174489166666664,
          25.075272916666666,
          25.06615558333333,
          25.648235999999997,
          25.492207750000002,
          25.226560583333335,
          25.566723666666665,
          25.497739,
          25.424384333333332,
          25.25839675,
          25.481499083333333,
          25.43558075,
          24.85293125,
          25.43459125,
          25.911580916666665,
          25.094770083333334,
          25.12689333333333,
          25.445037833333334,
          25.63298525,
          25.720252333333335,
          25.595097666666664,
          25.5663275,
          25.82793608333333,
          25.68687975,
          25.336164,
          25.739925166666666,
          25.592307,
          25.470275083333334,
          25.60926883333333,
          25.850999083333335,
          25.96542925,
          26.23890283333333,
          26.147861833333334,
          26.14360741666667,
          26.155998916666665,
          26.503173416666666,
          26.533597333333333,
          26.27123966666667,
          26.128789666666666,
          26.734354333333332
         ],
         "yaxis": "y"
        },
        {
         "hovertemplate": "Entity=Mexico<br>Jahr=%{x}<br>Temperature=%{y}<extra></extra>",
         "legendgroup": "Mexico",
         "line": {
          "color": "#EF553B",
          "dash": "solid"
         },
         "marker": {
          "symbol": "circle"
         },
         "mode": "lines",
         "name": "Mexico",
         "showlegend": true,
         "type": "scattergl",
         "x": [
          1950,
          1951,
          1952,
          1953,
          1954,
          1955,
          1956,
          1957,
          1958,
          1959,
          1960,
          1961,
          1962,
          1963,
          1964,
          1965,
          1966,
          1967,
          1968,
          1969,
          1970,
          1971,
          1972,
          1973,
          1974,
          1975,
          1976,
          1977,
          1978,
          1979,
          1980,
          1981,
          1982,
          1983,
          1984,
          1985,
          1986,
          1987,
          1988,
          1989,
          1990,
          1991,
          1992,
          1993,
          1994,
          1995,
          1996,
          1997,
          1998,
          1999,
          2000,
          2001,
          2002,
          2003,
          2004,
          2005,
          2006,
          2007,
          2008,
          2009,
          2010,
          2011,
          2012,
          2013,
          2014,
          2015,
          2016,
          2017,
          2018,
          2019,
          2020,
          2021,
          2022,
          2023
         ],
         "xaxis": "x",
         "y": [
          20.273946083333332,
          20.301977166666667,
          19.930198166666667,
          20.106962416666665,
          20.25294175,
          19.847937833333333,
          19.93022625,
          20.352671166666667,
          19.887765583333334,
          19.705161083333333,
          19.761826666666668,
          19.79871825,
          20.14779833333333,
          20.019086416666667,
          19.712860250000002,
          19.80883508333333,
          19.45367775,
          19.954433583333334,
          19.56147483333333,
          20.186784416666665,
          19.850659333333333,
          19.9227945,
          20.227670666666665,
          19.580346833333333,
          19.847102250000002,
          19.745256166666667,
          19.41862525,
          20.145122875000002,
          20.06255833333333,
          20.10171325,
          20.483118916666665,
          20.115558166666666,
          20.529273666666665,
          20.01499825,
          19.873575833333334,
          19.929175750000002,
          20.1268245,
          19.793771083333333,
          20.18380525,
          20.406189916666666,
          20.39123875,
          20.18744033333333,
          20.057158416666667,
          20.45308783333333,
          20.939481666666666,
          20.97677,
          20.748924,
          20.3487435,
          20.98742175,
          20.64878883333333,
          20.787806166666666,
          20.657885916666668,
          20.80386916666667,
          20.857531666666667,
          20.353316666666668,
          20.954447166666665,
          21.017539291666665,
          20.676563124999998,
          20.72127658333333,
          21.17353375,
          20.442516916666666,
          21.245928083333332,
          21.23020525,
          20.791993,
          20.978829666666666,
          21.05150108333333,
          21.226394916666667,
          21.382256666666667,
          21.05803025,
          21.339910166666666,
          21.578613583333333,
          21.236758916666666,
          20.961473333333334,
          21.676766083333334
         ],
         "yaxis": "y"
        },
        {
         "hovertemplate": "Entity=Nicaragua<br>Jahr=%{x}<br>Temperature=%{y}<extra></extra>",
         "legendgroup": "Nicaragua",
         "line": {
          "color": "#00cc96",
          "dash": "solid"
         },
         "marker": {
          "symbol": "circle"
         },
         "mode": "lines",
         "name": "Nicaragua",
         "showlegend": true,
         "type": "scattergl",
         "x": [
          1950,
          1951,
          1952,
          1953,
          1954,
          1955,
          1956,
          1957,
          1958,
          1959,
          1960,
          1961,
          1962,
          1963,
          1964,
          1965,
          1966,
          1967,
          1968,
          1969,
          1970,
          1971,
          1972,
          1973,
          1974,
          1975,
          1976,
          1977,
          1978,
          1979,
          1980,
          1981,
          1982,
          1983,
          1984,
          1985,
          1986,
          1987,
          1988,
          1989,
          1990,
          1991,
          1992,
          1993,
          1994,
          1995,
          1996,
          1997,
          1998,
          1999,
          2000,
          2001,
          2002,
          2003,
          2004,
          2005,
          2006,
          2007,
          2008,
          2009,
          2010,
          2011,
          2012,
          2013,
          2014,
          2015,
          2016,
          2017,
          2018,
          2019,
          2020,
          2021,
          2022,
          2023
         ],
         "xaxis": "x",
         "y": [
          24.173282083333334,
          24.81798625,
          24.788817416666664,
          25.092419666666668,
          24.51956733333333,
          24.682532416666664,
          24.21512291666667,
          24.778816000000003,
          25.114301833333332,
          24.631742250000002,
          24.576631333333335,
          24.72555583333333,
          24.599621,
          24.882285083333333,
          25.09323275,
          25.02981683333333,
          25.05423675,
          24.927431916666666,
          24.657024250000003,
          25.223871916666667,
          24.71962875,
          24.59596775,
          25.110365833333333,
          24.950677916666667,
          24.464236666666665,
          24.71607675,
          24.68251508333333,
          25.147084083333336,
          25.069416083333333,
          25.06218216666667,
          25.05064775,
          24.82961908333333,
          25.03169733333333,
          25.579713416666667,
          24.801348833333336,
          24.703325250000002,
          24.685320083333334,
          25.691891416666667,
          25.22342575,
          24.84455791666667,
          25.164988416666663,
          25.24922583333333,
          25.29375475,
          25.056888916666665,
          25.211718833333332,
          25.284543416666665,
          24.857173083333333,
          25.17840766666667,
          25.612076666666667,
          24.593121083333333,
          24.78371325,
          25.045484833333333,
          25.445798999999997,
          25.503705416666666,
          25.339928166666667,
          25.59860775,
          25.429126166666666,
          25.426236083333333,
          25.18641725,
          25.39842025,
          25.479719666666668,
          25.253984666666668,
          25.265981083333333,
          25.506084416666667,
          25.606636750000003,
          25.881329833333336,
          25.93185975,
          25.586433416666665,
          25.48465358333333,
          25.916497833333334,
          25.862964416666667,
          25.6004275,
          25.396169333333333,
          26.176663333333334
         ],
         "yaxis": "y"
        },
        {
         "hovertemplate": "Entity=Panama<br>Jahr=%{x}<br>Temperature=%{y}<extra></extra>",
         "legendgroup": "Panama",
         "line": {
          "color": "#ab63fa",
          "dash": "solid"
         },
         "marker": {
          "symbol": "circle"
         },
         "mode": "lines",
         "name": "Panama",
         "showlegend": true,
         "type": "scattergl",
         "x": [
          1950,
          1951,
          1952,
          1953,
          1954,
          1955,
          1956,
          1957,
          1958,
          1959,
          1960,
          1961,
          1962,
          1963,
          1964,
          1965,
          1966,
          1967,
          1968,
          1969,
          1970,
          1971,
          1972,
          1973,
          1974,
          1975,
          1976,
          1977,
          1978,
          1979,
          1980,
          1981,
          1982,
          1983,
          1984,
          1985,
          1986,
          1987,
          1988,
          1989,
          1990,
          1991,
          1992,
          1993,
          1994,
          1995,
          1996,
          1997,
          1998,
          1999,
          2000,
          2001,
          2002,
          2003,
          2004,
          2005,
          2006,
          2007,
          2008,
          2009,
          2010,
          2011,
          2012,
          2013,
          2014,
          2015,
          2016,
          2017,
          2018,
          2019,
          2020,
          2021,
          2022,
          2023
         ],
         "xaxis": "x",
         "y": [
          23.898553000000003,
          24.37222675,
          24.454378083333335,
          24.528414666666666,
          24.108635250000003,
          23.933691083333333,
          23.78906908333333,
          24.7642865,
          24.952043916666668,
          24.80640083333333,
          24.52575075,
          24.641374916666667,
          24.053218916666665,
          24.16381416666667,
          24.126820166666665,
          24.253532250000003,
          24.411934666666667,
          24.180724833333333,
          24.25684,
          24.79155258333333,
          24.366550833333335,
          23.978251083333333,
          24.621490166666664,
          24.57016475,
          24.296983916666665,
          23.972284583333334,
          24.222919083333334,
          24.681402416666668,
          24.251510333333332,
          24.375220916666667,
          24.7385695,
          24.547571333333334,
          24.484482166666666,
          24.843431083333332,
          23.87972541666667,
          23.9809195,
          24.294857750000002,
          24.927224916666663,
          24.388259583333333,
          24.17432008333333,
          24.541204500000003,
          24.526449666666668,
          24.597506499999998,
          24.523831166666668,
          24.488223083333335,
          24.490172916666666,
          24.248388666666667,
          24.929409916666668,
          25.118859416666666,
          24.0306985,
          24.198938416666667,
          24.478169583333337,
          24.907094333333333,
          24.830282999999998,
          25.034993583333332,
          25.0804165,
          24.961726666666667,
          24.956033166666668,
          24.647248,
          25.1402045,
          25.228498083333335,
          24.821929083333334,
          25.036657833333333,
          25.153375083333334,
          25.322612916666667,
          25.70923575,
          25.492975666666666,
          25.25416058333333,
          25.031016750000003,
          25.385955749999997,
          25.28124716666667,
          24.949920333333335,
          24.784411083333335,
          25.6043785
         ],
         "yaxis": "y"
        },
        {
         "hovertemplate": "Entity=Trinidad and Tobago<br>Jahr=%{x}<br>Temperature=%{y}<extra></extra>",
         "legendgroup": "Trinidad and Tobago",
         "line": {
          "color": "#FFA15A",
          "dash": "solid"
         },
         "marker": {
          "symbol": "circle"
         },
         "mode": "lines",
         "name": "Trinidad and Tobago",
         "showlegend": true,
         "type": "scattergl",
         "x": [
          1950,
          1951,
          1952,
          1953,
          1954,
          1955,
          1956,
          1957,
          1958,
          1959,
          1960,
          1961,
          1962,
          1963,
          1964,
          1965,
          1966,
          1967,
          1968,
          1969,
          1970,
          1971,
          1972,
          1973,
          1974,
          1975,
          1976,
          1977,
          1978,
          1979,
          1980,
          1981,
          1982,
          1983,
          1984,
          1985,
          1986,
          1987,
          1988,
          1989,
          1990,
          1991,
          1992,
          1993,
          1994,
          1995,
          1996,
          1997,
          1998,
          1999,
          2000,
          2001,
          2002,
          2003,
          2004,
          2005,
          2006,
          2007,
          2008,
          2009,
          2010,
          2011,
          2012,
          2013,
          2014,
          2015,
          2016,
          2017,
          2018,
          2019,
          2020,
          2021,
          2022,
          2023
         ],
         "xaxis": "x",
         "y": [
          25.101102166666667,
          25.343733166666667,
          25.731216083333333,
          25.638613916666667,
          25.19736575,
          25.223805916666667,
          25.191580000000002,
          25.545093833333336,
          26.04929208333333,
          25.543697750000003,
          25.704856833333334,
          25.511509750000002,
          25.586492083333336,
          25.68877283333333,
          25.530694333333333,
          25.467940416666664,
          25.805166749999998,
          25.572012,
          25.58618733333333,
          26.162764499999998,
          25.8261025,
          25.445684916666664,
          25.582080833333332,
          25.670293333333333,
          25.30627733333333,
          25.27127575,
          25.294264583333334,
          25.695968583333336,
          25.71509491666667,
          25.79840683333333,
          25.76172875,
          25.910365833333334,
          25.53776458333333,
          25.805316833333336,
          25.224613,
          25.317772416666667,
          25.38105991666667,
          26.187842083333333,
          25.8794255,
          25.594906166666664,
          25.90811475,
          25.689261416666668,
          25.727138333333333,
          25.94303933333333,
          25.725255583333336,
          26.128719583333336,
          25.915722000000002,
          25.917351749999998,
          26.423963333333333,
          25.950923583333335,
          25.73183125,
          25.936494333333332,
          26.035916,
          26.210043833333334,
          26.189145166666666,
          26.566716833333334,
          26.28277266666667,
          26.223642333333334,
          26.119983916666666,
          26.337238083333332,
          26.851254666666666,
          26.39214708333333,
          26.29345358333333,
          26.388600999999998,
          26.26788325,
          26.420449583333333,
          26.653885666666667,
          26.371872,
          26.076955583333334,
          26.444839916666666,
          26.494140416666667,
          26.170089,
          26.083616250000002,
          26.695352666666665
         ],
         "yaxis": "y"
        },
        {
         "hovertemplate": "Entity=United States<br>Jahr=%{x}<br>Temperature=%{y}<extra></extra>",
         "legendgroup": "United States",
         "line": {
          "color": "#19d3f3",
          "dash": "solid"
         },
         "marker": {
          "symbol": "circle"
         },
         "mode": "lines",
         "name": "United States",
         "showlegend": true,
         "type": "scattergl",
         "x": [
          1950,
          1951,
          1952,
          1953,
          1954,
          1955,
          1956,
          1957,
          1958,
          1959,
          1960,
          1961,
          1962,
          1963,
          1964,
          1965,
          1966,
          1967,
          1968,
          1969,
          1970,
          1971,
          1972,
          1973,
          1974,
          1975,
          1976,
          1977,
          1978,
          1979,
          1980,
          1981,
          1982,
          1983,
          1984,
          1985,
          1986,
          1987,
          1988,
          1989,
          1990,
          1991,
          1992,
          1993,
          1994,
          1995,
          1996,
          1997,
          1998,
          1999,
          2000,
          2001,
          2002,
          2003,
          2004,
          2005,
          2006,
          2007,
          2008,
          2009,
          2010,
          2011,
          2012,
          2013,
          2014,
          2015,
          2016,
          2017,
          2018,
          2019,
          2020,
          2021,
          2022,
          2023
         ],
         "xaxis": "x",
         "y": [
          8.480050425,
          8.270714977166667,
          8.885125151666667,
          9.396109508333334,
          9.215505564999999,
          8.392660213333334,
          8.547059916666667,
          8.991127631666666,
          8.816709391666667,
          8.668213058333334,
          8.542514489166667,
          8.425588558333333,
          8.736434554166667,
          8.866146183333333,
          8.350939330833333,
          8.437188588333333,
          8.329983183333333,
          8.687113525,
          8.369660016666666,
          8.600342735833333,
          8.5402881875,
          8.2920505,
          8.239464391666667,
          8.80951165,
          8.73925035,
          8.316024433333334,
          8.497608206666667,
          9.136261775416667,
          8.607208708333333,
          8.52066335,
          9.018869208333333,
          9.588513725,
          8.4045321525,
          8.821347091666667,
          8.659365391666666,
          8.478723416666666,
          9.373372233333333,
          9.48945281,
          9.210197108333334,
          8.793193008333333,
          9.4674286,
          9.399899486666667,
          8.921976879166666,
          8.794298516666666,
          9.263077785833334,
          9.285534949666667,
          8.587979416666668,
          8.8886760255,
          9.862939791666667,
          9.379477334999999,
          9.43710585,
          9.535980083333333,
          9.616953553333333,
          9.544662066666667,
          9.543204741666667,
          9.853945145333332,
          9.965973934166668,
          9.864370325,
          8.9905198,
          9.107008789166667,
          9.511647550000001,
          9.549898,
          10.389627294166667,
          9.196250075,
          9.448188085,
          10.3403721525,
          10.816186433333334,
          10.4599793975,
          10.083268125375,
          9.849836256666668,
          10.273097868333332,
          10.219086358333334,
          9.86712175,
          10.353624758333334
         ],
         "yaxis": "y"
        }
       ],
       "layout": {
        "legend": {
         "title": {
          "text": "Länder"
         },
         "tracegroupgap": 0
        },
        "template": {
         "data": {
          "bar": [
           {
            "error_x": {
             "color": "#2a3f5f"
            },
            "error_y": {
             "color": "#2a3f5f"
            },
            "marker": {
             "line": {
              "color": "#E5ECF6",
              "width": 0.5
             },
             "pattern": {
              "fillmode": "overlay",
              "size": 10,
              "solidity": 0.2
             }
            },
            "type": "bar"
           }
          ],
          "barpolar": [
           {
            "marker": {
             "line": {
              "color": "#E5ECF6",
              "width": 0.5
             },
             "pattern": {
              "fillmode": "overlay",
              "size": 10,
              "solidity": 0.2
             }
            },
            "type": "barpolar"
           }
          ],
          "carpet": [
           {
            "aaxis": {
             "endlinecolor": "#2a3f5f",
             "gridcolor": "white",
             "linecolor": "white",
             "minorgridcolor": "white",
             "startlinecolor": "#2a3f5f"
            },
            "baxis": {
             "endlinecolor": "#2a3f5f",
             "gridcolor": "white",
             "linecolor": "white",
             "minorgridcolor": "white",
             "startlinecolor": "#2a3f5f"
            },
            "type": "carpet"
           }
          ],
          "choropleth": [
           {
            "colorbar": {
             "outlinewidth": 0,
             "ticks": ""
            },
            "type": "choropleth"
           }
          ],
          "contour": [
           {
            "colorbar": {
             "outlinewidth": 0,
             "ticks": ""
            },
            "colorscale": [
             [
              0,
              "#0d0887"
             ],
             [
              0.1111111111111111,
              "#46039f"
             ],
             [
              0.2222222222222222,
              "#7201a8"
             ],
             [
              0.3333333333333333,
              "#9c179e"
             ],
             [
              0.4444444444444444,
              "#bd3786"
             ],
             [
              0.5555555555555556,
              "#d8576b"
             ],
             [
              0.6666666666666666,
              "#ed7953"
             ],
             [
              0.7777777777777778,
              "#fb9f3a"
             ],
             [
              0.8888888888888888,
              "#fdca26"
             ],
             [
              1,
              "#f0f921"
             ]
            ],
            "type": "contour"
           }
          ],
          "contourcarpet": [
           {
            "colorbar": {
             "outlinewidth": 0,
             "ticks": ""
            },
            "type": "contourcarpet"
           }
          ],
          "heatmap": [
           {
            "colorbar": {
             "outlinewidth": 0,
             "ticks": ""
            },
            "colorscale": [
             [
              0,
              "#0d0887"
             ],
             [
              0.1111111111111111,
              "#46039f"
             ],
             [
              0.2222222222222222,
              "#7201a8"
             ],
             [
              0.3333333333333333,
              "#9c179e"
             ],
             [
              0.4444444444444444,
              "#bd3786"
             ],
             [
              0.5555555555555556,
              "#d8576b"
             ],
             [
              0.6666666666666666,
              "#ed7953"
             ],
             [
              0.7777777777777778,
              "#fb9f3a"
             ],
             [
              0.8888888888888888,
              "#fdca26"
             ],
             [
              1,
              "#f0f921"
             ]
            ],
            "type": "heatmap"
           }
          ],
          "heatmapgl": [
           {
            "colorbar": {
             "outlinewidth": 0,
             "ticks": ""
            },
            "colorscale": [
             [
              0,
              "#0d0887"
             ],
             [
              0.1111111111111111,
              "#46039f"
             ],
             [
              0.2222222222222222,
              "#7201a8"
             ],
             [
              0.3333333333333333,
              "#9c179e"
             ],
             [
              0.4444444444444444,
              "#bd3786"
             ],
             [
              0.5555555555555556,
              "#d8576b"
             ],
             [
              0.6666666666666666,
              "#ed7953"
             ],
             [
              0.7777777777777778,
              "#fb9f3a"
             ],
             [
              0.8888888888888888,
              "#fdca26"
             ],
             [
              1,
              "#f0f921"
             ]
            ],
            "type": "heatmapgl"
           }
          ],
          "histogram": [
           {
            "marker": {
             "pattern": {
              "fillmode": "overlay",
              "size": 10,
              "solidity": 0.2
             }
            },
            "type": "histogram"
           }
          ],
          "histogram2d": [
           {
            "colorbar": {
             "outlinewidth": 0,
             "ticks": ""
            },
            "colorscale": [
             [
              0,
              "#0d0887"
             ],
             [
              0.1111111111111111,
              "#46039f"
             ],
             [
              0.2222222222222222,
              "#7201a8"
             ],
             [
              0.3333333333333333,
              "#9c179e"
             ],
             [
              0.4444444444444444,
              "#bd3786"
             ],
             [
              0.5555555555555556,
              "#d8576b"
             ],
             [
              0.6666666666666666,
              "#ed7953"
             ],
             [
              0.7777777777777778,
              "#fb9f3a"
             ],
             [
              0.8888888888888888,
              "#fdca26"
             ],
             [
              1,
              "#f0f921"
             ]
            ],
            "type": "histogram2d"
           }
          ],
          "histogram2dcontour": [
           {
            "colorbar": {
             "outlinewidth": 0,
             "ticks": ""
            },
            "colorscale": [
             [
              0,
              "#0d0887"
             ],
             [
              0.1111111111111111,
              "#46039f"
             ],
             [
              0.2222222222222222,
              "#7201a8"
             ],
             [
              0.3333333333333333,
              "#9c179e"
             ],
             [
              0.4444444444444444,
              "#bd3786"
             ],
             [
              0.5555555555555556,
              "#d8576b"
             ],
             [
              0.6666666666666666,
              "#ed7953"
             ],
             [
              0.7777777777777778,
              "#fb9f3a"
             ],
             [
              0.8888888888888888,
              "#fdca26"
             ],
             [
              1,
              "#f0f921"
             ]
            ],
            "type": "histogram2dcontour"
           }
          ],
          "mesh3d": [
           {
            "colorbar": {
             "outlinewidth": 0,
             "ticks": ""
            },
            "type": "mesh3d"
           }
          ],
          "parcoords": [
           {
            "line": {
             "colorbar": {
              "outlinewidth": 0,
              "ticks": ""
             }
            },
            "type": "parcoords"
           }
          ],
          "pie": [
           {
            "automargin": true,
            "type": "pie"
           }
          ],
          "scatter": [
           {
            "fillpattern": {
             "fillmode": "overlay",
             "size": 10,
             "solidity": 0.2
            },
            "type": "scatter"
           }
          ],
          "scatter3d": [
           {
            "line": {
             "colorbar": {
              "outlinewidth": 0,
              "ticks": ""
             }
            },
            "marker": {
             "colorbar": {
              "outlinewidth": 0,
              "ticks": ""
             }
            },
            "type": "scatter3d"
           }
          ],
          "scattercarpet": [
           {
            "marker": {
             "colorbar": {
              "outlinewidth": 0,
              "ticks": ""
             }
            },
            "type": "scattercarpet"
           }
          ],
          "scattergeo": [
           {
            "marker": {
             "colorbar": {
              "outlinewidth": 0,
              "ticks": ""
             }
            },
            "type": "scattergeo"
           }
          ],
          "scattergl": [
           {
            "marker": {
             "colorbar": {
              "outlinewidth": 0,
              "ticks": ""
             }
            },
            "type": "scattergl"
           }
          ],
          "scattermapbox": [
           {
            "marker": {
             "colorbar": {
              "outlinewidth": 0,
              "ticks": ""
             }
            },
            "type": "scattermapbox"
           }
          ],
          "scatterpolar": [
           {
            "marker": {
             "colorbar": {
              "outlinewidth": 0,
              "ticks": ""
             }
            },
            "type": "scatterpolar"
           }
          ],
          "scatterpolargl": [
           {
            "marker": {
             "colorbar": {
              "outlinewidth": 0,
              "ticks": ""
             }
            },
            "type": "scatterpolargl"
           }
          ],
          "scatterternary": [
           {
            "marker": {
             "colorbar": {
              "outlinewidth": 0,
              "ticks": ""
             }
            },
            "type": "scatterternary"
           }
          ],
          "surface": [
           {
            "colorbar": {
             "outlinewidth": 0,
             "ticks": ""
            },
            "colorscale": [
             [
              0,
              "#0d0887"
             ],
             [
              0.1111111111111111,
              "#46039f"
             ],
             [
              0.2222222222222222,
              "#7201a8"
             ],
             [
              0.3333333333333333,
              "#9c179e"
             ],
             [
              0.4444444444444444,
              "#bd3786"
             ],
             [
              0.5555555555555556,
              "#d8576b"
             ],
             [
              0.6666666666666666,
              "#ed7953"
             ],
             [
              0.7777777777777778,
              "#fb9f3a"
             ],
             [
              0.8888888888888888,
              "#fdca26"
             ],
             [
              1,
              "#f0f921"
             ]
            ],
            "type": "surface"
           }
          ],
          "table": [
           {
            "cells": {
             "fill": {
              "color": "#EBF0F8"
             },
             "line": {
              "color": "white"
             }
            },
            "header": {
             "fill": {
              "color": "#C8D4E3"
             },
             "line": {
              "color": "white"
             }
            },
            "type": "table"
           }
          ]
         },
         "layout": {
          "annotationdefaults": {
           "arrowcolor": "#2a3f5f",
           "arrowhead": 0,
           "arrowwidth": 1
          },
          "autotypenumbers": "strict",
          "coloraxis": {
           "colorbar": {
            "outlinewidth": 0,
            "ticks": ""
           }
          },
          "colorscale": {
           "diverging": [
            [
             0,
             "#8e0152"
            ],
            [
             0.1,
             "#c51b7d"
            ],
            [
             0.2,
             "#de77ae"
            ],
            [
             0.3,
             "#f1b6da"
            ],
            [
             0.4,
             "#fde0ef"
            ],
            [
             0.5,
             "#f7f7f7"
            ],
            [
             0.6,
             "#e6f5d0"
            ],
            [
             0.7,
             "#b8e186"
            ],
            [
             0.8,
             "#7fbc41"
            ],
            [
             0.9,
             "#4d9221"
            ],
            [
             1,
             "#276419"
            ]
           ],
           "sequential": [
            [
             0,
             "#0d0887"
            ],
            [
             0.1111111111111111,
             "#46039f"
            ],
            [
             0.2222222222222222,
             "#7201a8"
            ],
            [
             0.3333333333333333,
             "#9c179e"
            ],
            [
             0.4444444444444444,
             "#bd3786"
            ],
            [
             0.5555555555555556,
             "#d8576b"
            ],
            [
             0.6666666666666666,
             "#ed7953"
            ],
            [
             0.7777777777777778,
             "#fb9f3a"
            ],
            [
             0.8888888888888888,
             "#fdca26"
            ],
            [
             1,
             "#f0f921"
            ]
           ],
           "sequentialminus": [
            [
             0,
             "#0d0887"
            ],
            [
             0.1111111111111111,
             "#46039f"
            ],
            [
             0.2222222222222222,
             "#7201a8"
            ],
            [
             0.3333333333333333,
             "#9c179e"
            ],
            [
             0.4444444444444444,
             "#bd3786"
            ],
            [
             0.5555555555555556,
             "#d8576b"
            ],
            [
             0.6666666666666666,
             "#ed7953"
            ],
            [
             0.7777777777777778,
             "#fb9f3a"
            ],
            [
             0.8888888888888888,
             "#fdca26"
            ],
            [
             1,
             "#f0f921"
            ]
           ]
          },
          "colorway": [
           "#636efa",
           "#EF553B",
           "#00cc96",
           "#ab63fa",
           "#FFA15A",
           "#19d3f3",
           "#FF6692",
           "#B6E880",
           "#FF97FF",
           "#FECB52"
          ],
          "font": {
           "color": "#2a3f5f"
          },
          "geo": {
           "bgcolor": "white",
           "lakecolor": "white",
           "landcolor": "#E5ECF6",
           "showlakes": true,
           "showland": true,
           "subunitcolor": "white"
          },
          "hoverlabel": {
           "align": "left"
          },
          "hovermode": "closest",
          "mapbox": {
           "style": "light"
          },
          "paper_bgcolor": "white",
          "plot_bgcolor": "#E5ECF6",
          "polar": {
           "angularaxis": {
            "gridcolor": "white",
            "linecolor": "white",
            "ticks": ""
           },
           "bgcolor": "#E5ECF6",
           "radialaxis": {
            "gridcolor": "white",
            "linecolor": "white",
            "ticks": ""
           }
          },
          "scene": {
           "xaxis": {
            "backgroundcolor": "#E5ECF6",
            "gridcolor": "white",
            "gridwidth": 2,
            "linecolor": "white",
            "showbackground": true,
            "ticks": "",
            "zerolinecolor": "white"
           },
           "yaxis": {
            "backgroundcolor": "#E5ECF6",
            "gridcolor": "white",
            "gridwidth": 2,
            "linecolor": "white",
            "showbackground": true,
            "ticks": "",
            "zerolinecolor": "white"
           },
           "zaxis": {
            "backgroundcolor": "#E5ECF6",
            "gridcolor": "white",
            "gridwidth": 2,
            "linecolor": "white",
            "showbackground": true,
            "ticks": "",
            "zerolinecolor": "white"
           }
          },
          "shapedefaults": {
           "line": {
            "color": "#2a3f5f"
           }
          },
          "ternary": {
           "aaxis": {
            "gridcolor": "white",
            "linecolor": "white",
            "ticks": ""
           },
           "baxis": {
            "gridcolor": "white",
            "linecolor": "white",
            "ticks": ""
           },
           "bgcolor": "#E5ECF6",
           "caxis": {
            "gridcolor": "white",
            "linecolor": "white",
            "ticks": ""
           }
          },
          "title": {
           "x": 0.05
          },
          "xaxis": {
           "automargin": true,
           "gridcolor": "white",
           "linecolor": "white",
           "ticks": "",
           "title": {
            "standoff": 15
           },
           "zerolinecolor": "white",
           "zerolinewidth": 2
          },
          "yaxis": {
           "automargin": true,
           "gridcolor": "white",
           "linecolor": "white",
           "ticks": "",
           "title": {
            "standoff": 15
           },
           "zerolinecolor": "white",
           "zerolinewidth": 2
          }
         }
        },
        "title": {
         "font": {
          "size": 16
         },
         "text": "Temperature in Nordamerika nach Ländern"
        },
        "xaxis": {
         "anchor": "y",
         "domain": [
          0,
          1
         ],
         "title": {
          "font": {
           "size": 12
          },
          "text": "Jahr"
         }
        },
        "yaxis": {
         "anchor": "x",
         "domain": [
          0,
          1
         ],
         "title": {
          "font": {
           "size": 12
          },
          "text": "Temperature"
         }
        }
       }
      }
     },
     "metadata": {},
     "output_type": "display_data"
    }
   ],
   "source": [
    "plot_temp_by_country(combined_filtered_data_na, north_america_countries, \"Nordamerika\")"
   ]
  },
  {
   "cell_type": "code",
   "execution_count": 53,
   "metadata": {},
   "outputs": [
    {
     "data": {
      "application/vnd.plotly.v1+json": {
       "config": {
        "plotlyServerURL": "https://plot.ly"
       },
       "data": [
        {
         "hovertemplate": "Entity=Argentina<br>Jahr=%{x}<br>Temperature=%{y}<extra></extra>",
         "legendgroup": "Argentina",
         "line": {
          "color": "#636efa",
          "dash": "solid"
         },
         "marker": {
          "symbol": "circle"
         },
         "mode": "lines",
         "name": "Argentina",
         "orientation": "v",
         "showlegend": true,
         "type": "scatter",
         "x": [
          1950,
          1951,
          1952,
          1953,
          1954,
          1955,
          1956,
          1957,
          1958,
          1959,
          1960,
          1961,
          1962,
          1963,
          1964,
          1965,
          1966,
          1967,
          1968,
          1969,
          1970,
          1971,
          1972,
          1973,
          1974,
          1975,
          1976,
          1977,
          1978,
          1979,
          1980,
          1981,
          1982,
          1983,
          1984,
          1985,
          1986,
          1987,
          1988,
          1989,
          1990,
          1991,
          1992,
          1993,
          1994,
          1995,
          1996,
          1997,
          1998,
          1999,
          2000,
          2001,
          2002,
          2003,
          2004,
          2005,
          2006,
          2007,
          2008,
          2009,
          2010,
          2011,
          2012,
          2013,
          2014,
          2015,
          2016,
          2017,
          2018,
          2019,
          2020,
          2021,
          2022,
          2023
         ],
         "xaxis": "x",
         "y": [
          14.214174858333335,
          14.407666333333333,
          14.316194916666667,
          14.520419491666667,
          13.677546508333334,
          13.864246016666668,
          13.948819833333333,
          14.0240557,
          14.252161466666665,
          13.867242383333334,
          14.380507791666666,
          14.464839041666666,
          14.280749049999999,
          14.222747,
          13.919243891666667,
          14.322663499999999,
          14.107662333333332,
          14.411484791666666,
          14.68216625,
          14.712116775,
          14.599533749999999,
          14.118107875,
          14.202064491666667,
          14.0378155,
          14.017509333333335,
          14.218832658333334,
          13.652226375,
          14.73122075,
          14.6529047,
          14.436294583333334,
          14.647993641666666,
          14.5779304,
          14.601873424999999,
          14.275761025,
          13.669974000000002,
          14.612827616666666,
          14.633635333333332,
          14.432655416666668,
          14.245676708333335,
          14.888010775,
          14.515321125,
          14.2405159,
          13.771958258333333,
          14.249767416666666,
          14.876725116666668,
          14.531971866666666,
          14.541870533333332,
          14.858323458333333,
          14.614740375000002,
          14.326524175000001,
          13.845886974999999,
          14.54815115,
          14.346805991666665,
          14.864838274999999,
          14.817495166666667,
          14.473484966666668,
          15.045752499999999,
          14.090085641666667,
          14.989705641666667,
          15.0817606,
          14.48529525,
          14.761898100000002,
          15.185525458333332,
          15.062550891666667,
          14.981773083333332,
          15.12271,
          14.622075058333335,
          15.129823250000001,
          14.94397495,
          15.001052041666666,
          15.251496666666666,
          15.2343543,
          14.760688100000001,
          15.652064083333334
         ],
         "yaxis": "y"
        },
        {
         "hovertemplate": "Entity=Bolivia<br>Jahr=%{x}<br>Temperature=%{y}<extra></extra>",
         "legendgroup": "Bolivia",
         "line": {
          "color": "#EF553B",
          "dash": "solid"
         },
         "marker": {
          "symbol": "circle"
         },
         "mode": "lines",
         "name": "Bolivia",
         "orientation": "v",
         "showlegend": true,
         "type": "scatter",
         "x": [
          1950,
          1951,
          1952,
          1953,
          1954,
          1955,
          1956,
          1957,
          1958,
          1959,
          1960,
          1961,
          1962,
          1963,
          1964,
          1965,
          1966,
          1967,
          1968,
          1969,
          1970,
          1971,
          1972,
          1973,
          1974,
          1975,
          1976,
          1977,
          1978,
          1979,
          1980,
          1981,
          1982,
          1983,
          1984,
          1985,
          1986,
          1987,
          1988,
          1989,
          1990,
          1991,
          1992,
          1993,
          1994,
          1995,
          1996,
          1997,
          1998,
          1999,
          2000,
          2001,
          2002,
          2003,
          2004,
          2005,
          2006,
          2007,
          2008,
          2009,
          2010,
          2011,
          2012,
          2013,
          2014,
          2015,
          2016,
          2017,
          2018,
          2019,
          2020,
          2021,
          2022,
          2023
         ],
         "xaxis": "x",
         "y": [
          18.741353833333335,
          19.06251275,
          18.883826583333335,
          19.246040333333333,
          19.012908749999998,
          18.850351916666664,
          18.204583,
          19.074138916666666,
          19.306377666666666,
          19.447334583333333,
          19.132061083333333,
          20.454987083333332,
          18.964828,
          19.95853575,
          18.992185250000002,
          19.187470416666667,
          19.44799108333333,
          19.62655583333333,
          19.268222583333333,
          20.08482025,
          19.55841716666667,
          18.801110833333333,
          19.7654655,
          19.676152416666667,
          18.961461333333332,
          19.23695675,
          19.02669908333333,
          19.685976666666665,
          19.766276833333333,
          19.601733083333333,
          19.71461325,
          19.49581225,
          19.683903,
          19.768477333333333,
          19.491802583333335,
          19.536450249999998,
          19.653526916666667,
          19.929884083333334,
          19.775109750000002,
          19.613158000000002,
          19.62502758333333,
          19.894601166666664,
          19.382257083333332,
          19.742064,
          20.282312833333332,
          20.149081833333334,
          19.67884675,
          20.208393666666666,
          20.192465000000002,
          19.732999500000002,
          19.720096666666667,
          20.0064115,
          20.523144833333333,
          20.205251916666665,
          20.1245655,
          20.202131166666664,
          20.39837975,
          20.26720475,
          20.089358833333332,
          20.416994583333334,
          20.732382166666667,
          20.523801249999998,
          20.499733250000002,
          20.244785083333333,
          20.513966,
          20.933418749999998,
          20.647768250000002,
          20.689132333333333,
          20.248932583333332,
          20.83984141666667,
          21.083227416666666,
          20.47364525,
          20.415647083333333,
          21.484539916666666
         ],
         "yaxis": "y"
        },
        {
         "hovertemplate": "Entity=Brazil<br>Jahr=%{x}<br>Temperature=%{y}<extra></extra>",
         "legendgroup": "Brazil",
         "line": {
          "color": "#00cc96",
          "dash": "solid"
         },
         "marker": {
          "symbol": "circle"
         },
         "mode": "lines",
         "name": "Brazil",
         "orientation": "v",
         "showlegend": true,
         "type": "scatter",
         "x": [
          1950,
          1951,
          1952,
          1953,
          1954,
          1955,
          1956,
          1957,
          1958,
          1959,
          1960,
          1961,
          1962,
          1963,
          1964,
          1965,
          1966,
          1967,
          1968,
          1969,
          1970,
          1971,
          1972,
          1973,
          1974,
          1975,
          1976,
          1977,
          1978,
          1979,
          1980,
          1981,
          1982,
          1983,
          1984,
          1985,
          1986,
          1987,
          1988,
          1989,
          1990,
          1991,
          1992,
          1993,
          1994,
          1995,
          1996,
          1997,
          1998,
          1999,
          2000,
          2001,
          2002,
          2003,
          2004,
          2005,
          2006,
          2007,
          2008,
          2009,
          2010,
          2011,
          2012,
          2013,
          2014,
          2015,
          2016,
          2017,
          2018,
          2019,
          2020,
          2021,
          2022,
          2023
         ],
         "xaxis": "x",
         "y": [
          24.291019000000002,
          24.3835045,
          24.294643249999996,
          24.44103391666667,
          24.350061416666666,
          24.263953,
          23.726849833333333,
          24.56224041666667,
          25.010586916666668,
          24.590725000000003,
          24.288165916666667,
          24.961047750000002,
          24.236344083333332,
          24.887417499999998,
          24.002936083333335,
          24.18407275,
          24.189989333333333,
          24.244874666666664,
          23.895582583333333,
          24.77164925,
          24.463674416666667,
          23.952878833333333,
          24.452177416666668,
          24.51932591666667,
          23.835920333333334,
          23.9916715,
          24.03089183333333,
          24.35203608333333,
          24.188025666666665,
          24.233806333333334,
          24.495900833333334,
          24.372344833333333,
          24.493780916666665,
          24.779866416666668,
          24.384746833333335,
          24.154212166666667,
          24.336821166666667,
          24.945021999999998,
          24.560498083333332,
          24.235071083333334,
          24.647756833333332,
          24.552992583333335,
          24.503749833333334,
          24.67689891666667,
          24.69606475,
          24.78067941666667,
          24.550445916666664,
          24.866337833333333,
          25.356539916666666,
          24.581002083333335,
          24.468049249999996,
          24.788581833333335,
          25.19069025,
          24.97486125,
          24.848555,
          25.171261916666666,
          24.939946250000002,
          25.1351775,
          24.786935333333332,
          25.011077166666666,
          25.333454333333336,
          24.892648833333336,
          25.170886999999997,
          25.060375583333336,
          25.171837583333332,
          25.683661666666666,
          25.56419825,
          25.381369000000003,
          25.092574833333334,
          25.529652666666667,
          25.193412,
          24.974846666666668,
          24.793738833333332,
          25.54220525
         ],
         "yaxis": "y"
        },
        {
         "hovertemplate": "Entity=Chile<br>Jahr=%{x}<br>Temperature=%{y}<extra></extra>",
         "legendgroup": "Chile",
         "line": {
          "color": "#ab63fa",
          "dash": "solid"
         },
         "marker": {
          "symbol": "circle"
         },
         "mode": "lines",
         "name": "Chile",
         "orientation": "v",
         "showlegend": true,
         "type": "scatter",
         "x": [
          1950,
          1951,
          1952,
          1953,
          1954,
          1955,
          1956,
          1957,
          1958,
          1959,
          1960,
          1961,
          1962,
          1963,
          1964,
          1965,
          1966,
          1967,
          1968,
          1969,
          1970,
          1971,
          1972,
          1973,
          1974,
          1975,
          1976,
          1977,
          1978,
          1979,
          1980,
          1981,
          1982,
          1983,
          1984,
          1985,
          1986,
          1987,
          1988,
          1989,
          1990,
          1991,
          1992,
          1993,
          1994,
          1995,
          1996,
          1997,
          1998,
          1999,
          2000,
          2001,
          2002,
          2003,
          2004,
          2005,
          2006,
          2007,
          2008,
          2009,
          2010,
          2011,
          2012,
          2013,
          2014,
          2015,
          2016,
          2017,
          2018,
          2019,
          2020,
          2021,
          2022,
          2023
         ],
         "xaxis": "x",
         "y": [
          7.863507200000001,
          8.244500933333333,
          8.530483383333333,
          8.318352158333333,
          7.6437137250000005,
          7.739971241666667,
          8.047766091666666,
          8.489103558333333,
          8.721698341666666,
          8.427384416666667,
          8.8944005,
          8.798326333333334,
          8.990788775,
          8.613483391666668,
          8.51430525,
          8.480965825,
          8.404385591666667,
          8.326351516666668,
          8.751806975,
          8.673374766666667,
          8.506144558333334,
          8.057838183333333,
          8.512006266666667,
          8.475122016666667,
          8.260606708333333,
          8.224296058333334,
          8.106472958333333,
          9.001694733333332,
          9.085612883333333,
          9.103750183333334,
          8.819972591666668,
          8.878740966666667,
          8.979051725,
          9.008078025,
          8.299895041666668,
          8.860903591666666,
          8.594563158333333,
          8.990874441666667,
          8.737968666666667,
          8.823709816666666,
          8.791786525000001,
          8.614708375000001,
          8.44671035,
          8.909178683333334,
          9.176356,
          8.960922391666667,
          8.848542766666666,
          9.153532441666666,
          9.598261208333334,
          9.019911666666667,
          8.526405783333333,
          8.858943091666667,
          8.663656183333334,
          9.312663891666666,
          9.37341565,
          8.925216458333333,
          9.333676008333333,
          8.584369666666667,
          9.145244958333334,
          9.0147671,
          8.74388575,
          8.963441416666667,
          9.202353675,
          9.271552791666666,
          9.088833658333334,
          9.477003266666665,
          9.781247575,
          9.2913914,
          9.208193549999999,
          9.559365525,
          9.541282583333333,
          9.495732208333333,
          8.847732458333333,
          9.614678491666666
         ],
         "yaxis": "y"
        },
        {
         "hovertemplate": "Entity=Colombia<br>Jahr=%{x}<br>Temperature=%{y}<extra></extra>",
         "legendgroup": "Colombia",
         "line": {
          "color": "#FFA15A",
          "dash": "solid"
         },
         "marker": {
          "symbol": "circle"
         },
         "mode": "lines",
         "name": "Colombia",
         "orientation": "v",
         "showlegend": true,
         "type": "scatter",
         "x": [
          1950,
          1951,
          1952,
          1953,
          1954,
          1955,
          1956,
          1957,
          1958,
          1959,
          1960,
          1961,
          1962,
          1963,
          1964,
          1965,
          1966,
          1967,
          1968,
          1969,
          1970,
          1971,
          1972,
          1973,
          1974,
          1975,
          1976,
          1977,
          1978,
          1979,
          1980,
          1981,
          1982,
          1983,
          1984,
          1985,
          1986,
          1987,
          1988,
          1989,
          1990,
          1991,
          1992,
          1993,
          1994,
          1995,
          1996,
          1997,
          1998,
          1999,
          2000,
          2001,
          2002,
          2003,
          2004,
          2005,
          2006,
          2007,
          2008,
          2009,
          2010,
          2011,
          2012,
          2013,
          2014,
          2015,
          2016,
          2017,
          2018,
          2019,
          2020,
          2021,
          2022,
          2023
         ],
         "xaxis": "x",
         "y": [
          22.60731266666667,
          22.78369825,
          23.102722583333332,
          23.287591916666667,
          22.730544,
          22.554547833333334,
          22.345317249999997,
          23.51147183333333,
          23.833097249999998,
          23.375748416666667,
          23.259171749999997,
          23.34799525,
          23.331549166666665,
          23.62268416666667,
          23.49641191666667,
          23.561699166666667,
          23.634024416666666,
          23.35703983333333,
          23.350669,
          23.800123083333332,
          23.47286375,
          22.913640083333334,
          23.47773408333333,
          23.601336333333332,
          23.148787083333332,
          23.017605583333335,
          23.21730775,
          23.58185175,
          23.512390083333333,
          23.618120833333332,
          23.852003916666664,
          23.514122,
          23.43149658333333,
          23.77343025,
          22.996207916666666,
          23.218082749999997,
          23.14595466666667,
          23.78681883333333,
          23.54202925,
          23.126951666666667,
          23.419175416666665,
          23.612426499999998,
          23.620002916666664,
          23.387668083333335,
          23.397465583333332,
          23.665868083333333,
          23.202283750000003,
          23.74749291666667,
          23.96849725,
          23.090140333333334,
          23.288392666666667,
          23.490864166666668,
          23.73933658333333,
          23.74391125,
          23.79355133333333,
          24.0097675,
          23.814885333333333,
          23.927516083333334,
          23.743735833333332,
          24.025813749999998,
          24.279852416666667,
          23.87806175,
          23.880835916666665,
          24.043953833333333,
          24.186118500000003,
          24.41789625,
          24.54842825,
          24.293609166666666,
          24.105978083333337,
          24.3904335,
          24.522578083333332,
          24.100453416666667,
          23.94464041666667,
          24.677922749999997
         ],
         "yaxis": "y"
        },
        {
         "hovertemplate": "Entity=Ecuador<br>Jahr=%{x}<br>Temperature=%{y}<extra></extra>",
         "legendgroup": "Ecuador",
         "line": {
          "color": "#19d3f3",
          "dash": "solid"
         },
         "marker": {
          "symbol": "circle"
         },
         "mode": "lines",
         "name": "Ecuador",
         "orientation": "v",
         "showlegend": true,
         "type": "scatter",
         "x": [
          1950,
          1951,
          1952,
          1953,
          1954,
          1955,
          1956,
          1957,
          1958,
          1959,
          1960,
          1961,
          1962,
          1963,
          1964,
          1965,
          1966,
          1967,
          1968,
          1969,
          1970,
          1971,
          1972,
          1973,
          1974,
          1975,
          1976,
          1977,
          1978,
          1979,
          1980,
          1981,
          1982,
          1983,
          1984,
          1985,
          1986,
          1987,
          1988,
          1989,
          1990,
          1991,
          1992,
          1993,
          1994,
          1995,
          1996,
          1997,
          1998,
          1999,
          2000,
          2001,
          2002,
          2003,
          2004,
          2005,
          2006,
          2007,
          2008,
          2009,
          2010,
          2011,
          2012,
          2013,
          2014,
          2015,
          2016,
          2017,
          2018,
          2019,
          2020,
          2021,
          2022,
          2023
         ],
         "xaxis": "x",
         "y": [
          19.259303833333334,
          19.654567166666666,
          19.595251416666667,
          19.88057125,
          19.270462166666665,
          19.243394916666666,
          19.069287166666665,
          19.890631166666665,
          20.300954,
          20.030603333333335,
          19.936756666666668,
          19.74079491666667,
          19.760858833333334,
          20.23386616666667,
          20.04144966666667,
          20.176161333333333,
          20.1607615,
          19.844687833333335,
          19.9058335,
          20.404726999999998,
          20.166364916666666,
          19.699831083333333,
          20.577365583333332,
          20.129875333333334,
          19.489987666666668,
          19.654724666666667,
          20.050298333333334,
          20.632597083333334,
          20.587404333333335,
          20.605888833333335,
          20.767864416666665,
          20.577442916666666,
          20.744984,
          20.962027583333334,
          19.964639916666666,
          19.755401916666667,
          19.9316545,
          20.75759783333333,
          20.233113833333334,
          19.9955545,
          20.360476416666668,
          20.55147075,
          20.602874583333335,
          20.457665416666668,
          20.296950416666665,
          20.316526333333332,
          19.801345083333334,
          20.562006416666666,
          20.614450416666667,
          19.526333416666667,
          19.645793083333334,
          19.79923116666667,
          20.062910666666667,
          19.941587000000002,
          20.42006183333333,
          20.705494166666664,
          20.76432433333333,
          20.608500916666667,
          20.638541166666666,
          20.88979325,
          21.034963833333332,
          20.782256083333333,
          20.762463416666666,
          20.756718166666666,
          20.8938475,
          21.470566583333333,
          21.4871495,
          21.129102749999998,
          20.924254833333332,
          21.149625750000002,
          21.277850083333334,
          20.979349333333335,
          20.849030916666667,
          21.71157325
         ],
         "yaxis": "y"
        },
        {
         "hovertemplate": "Entity=Guatemala<br>Jahr=%{x}<br>Temperature=%{y}<extra></extra>",
         "legendgroup": "Guatemala",
         "line": {
          "color": "#FF6692",
          "dash": "solid"
         },
         "marker": {
          "symbol": "circle"
         },
         "mode": "lines",
         "name": "Guatemala",
         "orientation": "v",
         "showlegend": true,
         "type": "scatter",
         "x": [
          1950,
          1951,
          1952,
          1953,
          1954,
          1955,
          1956,
          1957,
          1958,
          1959,
          1960,
          1961,
          1962,
          1963,
          1964,
          1965,
          1966,
          1967,
          1968,
          1969,
          1970,
          1971,
          1972,
          1973,
          1974,
          1975,
          1976,
          1977,
          1978,
          1979,
          1980,
          1981,
          1982,
          1983,
          1984,
          1985,
          1986,
          1987,
          1988,
          1989,
          1990,
          1991,
          1992,
          1993,
          1994,
          1995,
          1996,
          1997,
          1998,
          1999,
          2000,
          2001,
          2002,
          2003,
          2004,
          2005,
          2006,
          2007,
          2008,
          2009,
          2010,
          2011,
          2012,
          2013,
          2014,
          2015,
          2016,
          2017,
          2018,
          2019,
          2020,
          2021,
          2022,
          2023
         ],
         "xaxis": "x",
         "y": [
          21.069838416666666,
          21.955918916666665,
          21.790747416666665,
          22.151154833333333,
          21.188338583333334,
          21.496195,
          20.927506,
          21.639759416666667,
          21.974270583333336,
          21.453615083333332,
          21.568878166666668,
          21.56639291666667,
          21.577848,
          21.941674916666667,
          22.015894,
          21.840561583333336,
          21.570533416666667,
          21.791427833333334,
          21.553984749999998,
          22.293906916666668,
          21.856136666666668,
          22.010114166666668,
          22.28815566666667,
          22.26642341666667,
          21.8397465,
          22.18475241666667,
          21.580031083333335,
          22.046234666666667,
          22.17286525,
          22.138454749999998,
          22.144504916666666,
          21.9242005,
          22.281391666666668,
          22.526173416666666,
          21.952216250000003,
          22.050504333333333,
          21.991305666666666,
          22.430962583333336,
          22.427599083333334,
          22.012521000000003,
          22.231510749999998,
          22.52850475,
          22.366276499999998,
          22.4464315,
          22.60000691666667,
          22.822438333333334,
          22.274679833333334,
          22.91539025,
          23.276102750000003,
          22.125389333333334,
          22.264854749999998,
          22.335819,
          22.813979583333335,
          22.98754633333333,
          22.611608,
          23.06354125,
          22.68924625,
          22.882982916666666,
          22.561043833333333,
          23.280499083333336,
          23.181941416666664,
          23.261624333333334,
          23.06532866666667,
          23.290479666666666,
          23.11530325,
          23.603158750000002,
          23.565137916666668,
          23.339104083333336,
          23.20826775,
          23.939681833333335,
          23.830987500000003,
          23.635123250000003,
          23.385367083333335,
          24.117209250000002
         ],
         "yaxis": "y"
        },
        {
         "hovertemplate": "Entity=Guyana<br>Jahr=%{x}<br>Temperature=%{y}<extra></extra>",
         "legendgroup": "Guyana",
         "line": {
          "color": "#B6E880",
          "dash": "solid"
         },
         "marker": {
          "symbol": "circle"
         },
         "mode": "lines",
         "name": "Guyana",
         "orientation": "v",
         "showlegend": true,
         "type": "scatter",
         "x": [
          1950,
          1951,
          1952,
          1953,
          1954,
          1955,
          1956,
          1957,
          1958,
          1959,
          1960,
          1961,
          1962,
          1963,
          1964,
          1965,
          1966,
          1967,
          1968,
          1969,
          1970,
          1971,
          1972,
          1973,
          1974,
          1975,
          1976,
          1977,
          1978,
          1979,
          1980,
          1981,
          1982,
          1983,
          1984,
          1985,
          1986,
          1987,
          1988,
          1989,
          1990,
          1991,
          1992,
          1993,
          1994,
          1995,
          1996,
          1997,
          1998,
          1999,
          2000,
          2001,
          2002,
          2003,
          2004,
          2005,
          2006,
          2007,
          2008,
          2009,
          2010,
          2011,
          2012,
          2013,
          2014,
          2015,
          2016,
          2017,
          2018,
          2019,
          2020,
          2021,
          2022,
          2023
         ],
         "xaxis": "x",
         "y": [
          24.468131666666665,
          24.561945499999997,
          24.81944916666667,
          24.690708,
          24.061913666666666,
          24.022882666666664,
          23.88611125,
          24.953177583333332,
          25.186716583333332,
          24.520533583333332,
          24.54355275,
          24.597151999999998,
          24.56833275,
          24.763481916666667,
          25.207243333333334,
          24.998555999999997,
          25.38426975,
          24.697850250000002,
          24.723994583333333,
          24.935252416666668,
          24.5627925,
          24.16928125,
          24.651281666666666,
          24.730907916666666,
          24.183907916666666,
          24.188270916666667,
          24.505415666666668,
          24.653142916666667,
          24.665376249999998,
          24.77893308333333,
          24.796638333333334,
          24.772648083333333,
          24.882220666666665,
          25.17354208333333,
          24.37581908333333,
          24.365590333333333,
          24.628629916666668,
          25.438637583333332,
          25.033870500000003,
          24.641572333333333,
          25.050759916666667,
          24.959621583333334,
          25.122116583333334,
          24.87970208333333,
          24.891679333333332,
          25.354858500000002,
          25.137912333333333,
          25.477877833333334,
          25.75281575,
          24.96045775,
          24.768437333333335,
          25.03071783333333,
          25.28689175,
          25.42111841666667,
          25.352095833333333,
          25.63534,
          25.196954833333333,
          25.07462825,
          24.89354075,
          25.43236416666667,
          25.40673633333333,
          25.2811055,
          25.3156705,
          25.166159750000002,
          25.252398833333334,
          25.491303,
          25.755157999999998,
          25.644700333333333,
          25.299377250000003,
          25.594980666666668,
          25.67666325,
          25.28585341666667,
          25.142968749999998,
          26.035323333333334
         ],
         "yaxis": "y"
        },
        {
         "hovertemplate": "Entity=Paraguay<br>Jahr=%{x}<br>Temperature=%{y}<extra></extra>",
         "legendgroup": "Paraguay",
         "line": {
          "color": "#FF97FF",
          "dash": "solid"
         },
         "marker": {
          "symbol": "circle"
         },
         "mode": "lines",
         "name": "Paraguay",
         "orientation": "v",
         "showlegend": true,
         "type": "scatter",
         "x": [
          1950,
          1951,
          1952,
          1953,
          1954,
          1955,
          1956,
          1957,
          1958,
          1959,
          1960,
          1961,
          1962,
          1963,
          1964,
          1965,
          1966,
          1967,
          1968,
          1969,
          1970,
          1971,
          1972,
          1973,
          1974,
          1975,
          1976,
          1977,
          1978,
          1979,
          1980,
          1981,
          1982,
          1983,
          1984,
          1985,
          1986,
          1987,
          1988,
          1989,
          1990,
          1991,
          1992,
          1993,
          1994,
          1995,
          1996,
          1997,
          1998,
          1999,
          2000,
          2001,
          2002,
          2003,
          2004,
          2005,
          2006,
          2007,
          2008,
          2009,
          2010,
          2011,
          2012,
          2013,
          2014,
          2015,
          2016,
          2017,
          2018,
          2019,
          2020,
          2021,
          2022,
          2023
         ],
         "xaxis": "x",
         "y": [
          22.66753808333333,
          23.250112583333333,
          22.85419404166667,
          23.444447583333332,
          22.76106941666667,
          22.420880333333333,
          21.94220175,
          22.72297633333333,
          23.099919166666666,
          23.266101250000002,
          22.827296416666666,
          24.350921833333334,
          22.188021833333334,
          24.2050625,
          22.89355125,
          22.71064525,
          23.425880250000002,
          23.766465999999998,
          23.510257333333332,
          24.00265441666667,
          23.72237416666667,
          22.58310908333333,
          23.804056166666665,
          23.491946166666665,
          22.730503249999998,
          23.108819,
          22.52840541666667,
          23.953822583333334,
          24.0147025,
          23.244159083333333,
          23.23663566666667,
          23.325785666666665,
          23.340898166666666,
          22.603992166666668,
          23.33640216666667,
          23.493970666666666,
          23.801990416666666,
          23.199690166666667,
          23.101818833333336,
          22.895201,
          23.212891916666667,
          23.776249250000003,
          22.695847583333332,
          23.452263333333335,
          24.314505083333334,
          23.757280166666664,
          23.267838833333332,
          24.15230708333333,
          23.202571000000002,
          23.47574391666667,
          23.4314565,
          24.07599258333333,
          24.59848716666667,
          24.009803416666667,
          23.614983166666665,
          23.739699166666668,
          24.388740583333334,
          23.790628333333334,
          23.620263583333337,
          24.119175583333334,
          23.563595666666668,
          23.747297166666666,
          24.366987249999998,
          23.79152725,
          24.43790416666667,
          24.723950666666667,
          23.441450833333334,
          24.507623749999997,
          23.713156166666668,
          24.503633249999996,
          24.855933250000003,
          24.115557666666664,
          24.039297833333332,
          25.3221735
         ],
         "yaxis": "y"
        },
        {
         "hovertemplate": "Entity=Peru<br>Jahr=%{x}<br>Temperature=%{y}<extra></extra>",
         "legendgroup": "Peru",
         "line": {
          "color": "#FECB52",
          "dash": "solid"
         },
         "marker": {
          "symbol": "circle"
         },
         "mode": "lines",
         "name": "Peru",
         "orientation": "v",
         "showlegend": true,
         "type": "scatter",
         "x": [
          1950,
          1951,
          1952,
          1953,
          1954,
          1955,
          1956,
          1957,
          1958,
          1959,
          1960,
          1961,
          1962,
          1963,
          1964,
          1965,
          1966,
          1967,
          1968,
          1969,
          1970,
          1971,
          1972,
          1973,
          1974,
          1975,
          1976,
          1977,
          1978,
          1979,
          1980,
          1981,
          1982,
          1983,
          1984,
          1985,
          1986,
          1987,
          1988,
          1989,
          1990,
          1991,
          1992,
          1993,
          1994,
          1995,
          1996,
          1997,
          1998,
          1999,
          2000,
          2001,
          2002,
          2003,
          2004,
          2005,
          2006,
          2007,
          2008,
          2009,
          2010,
          2011,
          2012,
          2013,
          2014,
          2015,
          2016,
          2017,
          2018,
          2019,
          2020,
          2021,
          2022,
          2023
         ],
         "xaxis": "x",
         "y": [
          17.406901333333334,
          17.708197333333334,
          17.687662166666666,
          17.874748999999998,
          17.477073083333334,
          17.468657750000002,
          17.118876833333335,
          18.148506666666666,
          18.357020583333334,
          18.17760875,
          18.18429275,
          18.159336666666665,
          18.045246000000002,
          18.31058425,
          18.100093583333333,
          18.239438583333335,
          18.316782333333332,
          17.877685166666666,
          17.814517416666668,
          18.560281666666665,
          18.22323366666667,
          17.707550416666667,
          18.54742166666667,
          18.277403083333333,
          17.775098500000002,
          17.68126666666667,
          17.936024083333333,
          18.285334666666667,
          18.18251975,
          18.45312375,
          18.487711166666667,
          18.2082405,
          18.427791,
          19.18719475,
          18.011204833333334,
          17.930669416666664,
          18.027916166666667,
          18.775459166666668,
          18.495289166666666,
          18.14229166666667,
          18.324065833333332,
          18.509136083333335,
          18.646507916666668,
          18.418647166666666,
          18.474486333333335,
          18.814226666666666,
          18.34866825,
          19.024513666666667,
          19.367989583333333,
          18.275997,
          18.390786333333335,
          18.421082333333334,
          18.718609333333333,
          18.737223833333335,
          18.673503583333332,
          18.941236416666666,
          18.784288666666665,
          18.675330916666667,
          18.6742085,
          18.922940166666667,
          19.182796,
          18.657546083333333,
          18.801350166666666,
          18.791767083333333,
          18.904871416666666,
          19.293927916666664,
          19.416102499999997,
          19.032689083333334,
          18.69677875,
          19.03266425,
          19.365339916666667,
          19.011148583333334,
          18.88991366666667,
          19.673395
         ],
         "yaxis": "y"
        },
        {
         "hovertemplate": "Entity=Suriname<br>Jahr=%{x}<br>Temperature=%{y}<extra></extra>",
         "legendgroup": "Suriname",
         "line": {
          "color": "#636efa",
          "dash": "solid"
         },
         "marker": {
          "symbol": "circle"
         },
         "mode": "lines",
         "name": "Suriname",
         "orientation": "v",
         "showlegend": true,
         "type": "scatter",
         "x": [
          1950,
          1951,
          1952,
          1953,
          1954,
          1955,
          1956,
          1957,
          1958,
          1959,
          1960,
          1961,
          1962,
          1963,
          1964,
          1965,
          1966,
          1967,
          1968,
          1969,
          1970,
          1971,
          1972,
          1973,
          1974,
          1975,
          1976,
          1977,
          1978,
          1979,
          1980,
          1981,
          1982,
          1983,
          1984,
          1985,
          1986,
          1987,
          1988,
          1989,
          1990,
          1991,
          1992,
          1993,
          1994,
          1995,
          1996,
          1997,
          1998,
          1999,
          2000,
          2001,
          2002,
          2003,
          2004,
          2005,
          2006,
          2007,
          2008,
          2009,
          2010,
          2011,
          2012,
          2013,
          2014,
          2015,
          2016,
          2017,
          2018,
          2019,
          2020,
          2021,
          2022,
          2023
         ],
         "xaxis": "x",
         "y": [
          25.171768666666665,
          25.34929766666667,
          25.494542166666665,
          25.45600775,
          24.64853666666667,
          24.648047916666666,
          24.487323833333335,
          25.521773999999997,
          26.13144675,
          24.978346583333334,
          25.110023666666667,
          24.995728,
          25.025779,
          25.192104916666665,
          25.54795808333333,
          25.808616416666666,
          26.005259499999998,
          25.25090833333333,
          25.238258666666667,
          25.57012125,
          25.128085,
          24.638744583333335,
          25.347256083333335,
          25.21020291666667,
          24.799143,
          24.71681525,
          25.064504,
          25.267172833333333,
          25.207128,
          25.323995749999998,
          25.457126916666667,
          25.475631250000003,
          25.509246666666666,
          25.947202333333333,
          24.985118333333332,
          24.983575833333333,
          25.372613416666667,
          26.48606875,
          25.811794916666667,
          25.32352225,
          25.837592416666666,
          25.833599083333336,
          26.190946999999998,
          25.775420583333332,
          25.650887166666667,
          25.999821416666666,
          25.73951316666667,
          25.963393999999997,
          26.37778316666667,
          25.50814075,
          25.34682066666667,
          25.526539666666665,
          25.886733833333334,
          26.0672375,
          26.134113666666668,
          26.168758916666665,
          25.7897145,
          25.688209333333333,
          25.516769333333333,
          26.120481916666666,
          26.0208695,
          25.8877205,
          26.146489666666668,
          25.68358041666667,
          26.094637416666668,
          26.237696916666664,
          26.319813166666666,
          26.193036916666667,
          25.811119666666666,
          26.22853716666667,
          26.23335475,
          25.76122583333333,
          25.610168333333334,
          26.640158416666665
         ],
         "yaxis": "y"
        },
        {
         "hovertemplate": "Entity=Uruguay<br>Jahr=%{x}<br>Temperature=%{y}<extra></extra>",
         "legendgroup": "Uruguay",
         "line": {
          "color": "#EF553B",
          "dash": "solid"
         },
         "marker": {
          "symbol": "circle"
         },
         "mode": "lines",
         "name": "Uruguay",
         "orientation": "v",
         "showlegend": true,
         "type": "scatter",
         "x": [
          1950,
          1951,
          1952,
          1953,
          1954,
          1955,
          1956,
          1957,
          1958,
          1959,
          1960,
          1961,
          1962,
          1963,
          1964,
          1965,
          1966,
          1967,
          1968,
          1969,
          1970,
          1971,
          1972,
          1973,
          1974,
          1975,
          1976,
          1977,
          1978,
          1979,
          1980,
          1981,
          1982,
          1983,
          1984,
          1985,
          1986,
          1987,
          1988,
          1989,
          1990,
          1991,
          1992,
          1993,
          1994,
          1995,
          1996,
          1997,
          1998,
          1999,
          2000,
          2001,
          2002,
          2003,
          2004,
          2005,
          2006,
          2007,
          2008,
          2009,
          2010,
          2011,
          2012,
          2013,
          2014,
          2015,
          2016,
          2017,
          2018,
          2019,
          2020,
          2021,
          2022,
          2023
         ],
         "xaxis": "x",
         "y": [
          17.34462425,
          17.47440475,
          17.302041791666667,
          17.68239266666667,
          17.148702958333335,
          16.749936875,
          17.186423833333333,
          16.960810166666665,
          17.0282085,
          16.759039583333333,
          17.204921833333334,
          17.197457833333335,
          16.510729041666668,
          17.05386,
          16.213767166666667,
          17.24191725,
          16.462599083333334,
          17.50642708333333,
          17.230082291666665,
          17.347891333333333,
          17.40833925,
          16.862646916666666,
          17.30742625,
          17.049031208333332,
          16.930520458333334,
          17.135163583333334,
          16.4713645,
          17.659239666666668,
          17.119811000000002,
          17.055963291666668,
          17.716185208333332,
          17.41858825,
          17.676783,
          17.011372458333334,
          16.856467583333334,
          17.703773416666667,
          17.77064066666667,
          17.26151625,
          16.60203733333333,
          17.886881791666667,
          17.22181725,
          17.434258625000002,
          16.97071925,
          17.084277458333336,
          17.617486791666668,
          17.089874916666666,
          17.270503166666668,
          17.806955166666665,
          16.895346166666666,
          17.109684583333333,
          17.256318375,
          18.0404865,
          17.493967333333334,
          17.0244785,
          17.615594166666668,
          17.724875666666666,
          17.903762958333335,
          17.152611750000002,
          17.774629208333334,
          17.371795583333334,
          17.37541525,
          17.32585741666667,
          18.054081416666666,
          17.251895541666666,
          17.811280749999998,
          17.879152333333334,
          17.249021833333334,
          18.429832083333334,
          17.97695675,
          17.705372999999998,
          17.608069833333335,
          17.672289666666668,
          17.20146216666667,
          18.117233916666667
         ],
         "yaxis": "y"
        },
        {
         "hovertemplate": "Entity=Venezuela<br>Jahr=%{x}<br>Temperature=%{y}<extra></extra>",
         "legendgroup": "Venezuela",
         "line": {
          "color": "#00cc96",
          "dash": "solid"
         },
         "marker": {
          "symbol": "circle"
         },
         "mode": "lines",
         "name": "Venezuela",
         "orientation": "v",
         "showlegend": true,
         "type": "scatter",
         "x": [
          1950,
          1951,
          1952,
          1953,
          1954,
          1955,
          1956,
          1957,
          1958,
          1959,
          1960,
          1961,
          1962,
          1963,
          1964,
          1965,
          1966,
          1967,
          1968,
          1969,
          1970,
          1971,
          1972,
          1973,
          1974,
          1975,
          1976,
          1977,
          1978,
          1979,
          1980,
          1981,
          1982,
          1983,
          1984,
          1985,
          1986,
          1987,
          1988,
          1989,
          1990,
          1991,
          1992,
          1993,
          1994,
          1995,
          1996,
          1997,
          1998,
          1999,
          2000,
          2001,
          2002,
          2003,
          2004,
          2005,
          2006,
          2007,
          2008,
          2009,
          2010,
          2011,
          2012,
          2013,
          2014,
          2015,
          2016,
          2017,
          2018,
          2019,
          2020,
          2021,
          2022,
          2023
         ],
         "xaxis": "x",
         "y": [
          24.028993,
          24.28262091666667,
          24.76091116666667,
          24.7873775,
          24.29675325,
          24.002202166666667,
          23.931174166666665,
          24.843855666666666,
          25.233631250000002,
          25.08334933333333,
          25.120156499999997,
          25.04887791666667,
          25.00706083333333,
          25.155884166666667,
          25.10560225,
          24.945111166666667,
          25.275126,
          24.789244333333333,
          24.825860583333334,
          24.956149749999998,
          24.639575333333337,
          24.30686341666667,
          24.59180075,
          24.733818499999998,
          24.34860516666667,
          24.433988833333334,
          24.407140249999998,
          24.963501833333336,
          24.96796375,
          25.07959,
          25.034202333333337,
          24.926322916666667,
          24.778969333333333,
          25.321424750000002,
          24.788169916666664,
          24.568960166666667,
          24.680089249999998,
          25.463283166666667,
          25.184360833333333,
          24.612574833333337,
          24.95361766666667,
          24.91350925,
          24.987604333333334,
          25.006700749999997,
          25.102013416666665,
          25.292991999999998,
          24.927713666666666,
          25.125670083333333,
          25.6367915,
          24.77631716666667,
          24.796112166666664,
          25.10507275,
          25.28604625,
          25.451155749999998,
          25.373238333333333,
          25.720182833333336,
          25.557072083333335,
          25.642774583333335,
          25.357942750000003,
          25.873202083333336,
          25.967966416666666,
          25.462538,
          25.488215333333333,
          25.827150166666666,
          25.90628633333333,
          26.274064666666664,
          26.164762166666666,
          25.55154475,
          25.579935416666668,
          25.807573,
          25.976387416666668,
          25.226400416666667,
          25.28292808333333,
          26.164381916666667
         ],
         "yaxis": "y"
        }
       ],
       "layout": {
        "legend": {
         "title": {
          "text": "Länder"
         },
         "tracegroupgap": 0
        },
        "template": {
         "data": {
          "bar": [
           {
            "error_x": {
             "color": "#2a3f5f"
            },
            "error_y": {
             "color": "#2a3f5f"
            },
            "marker": {
             "line": {
              "color": "#E5ECF6",
              "width": 0.5
             },
             "pattern": {
              "fillmode": "overlay",
              "size": 10,
              "solidity": 0.2
             }
            },
            "type": "bar"
           }
          ],
          "barpolar": [
           {
            "marker": {
             "line": {
              "color": "#E5ECF6",
              "width": 0.5
             },
             "pattern": {
              "fillmode": "overlay",
              "size": 10,
              "solidity": 0.2
             }
            },
            "type": "barpolar"
           }
          ],
          "carpet": [
           {
            "aaxis": {
             "endlinecolor": "#2a3f5f",
             "gridcolor": "white",
             "linecolor": "white",
             "minorgridcolor": "white",
             "startlinecolor": "#2a3f5f"
            },
            "baxis": {
             "endlinecolor": "#2a3f5f",
             "gridcolor": "white",
             "linecolor": "white",
             "minorgridcolor": "white",
             "startlinecolor": "#2a3f5f"
            },
            "type": "carpet"
           }
          ],
          "choropleth": [
           {
            "colorbar": {
             "outlinewidth": 0,
             "ticks": ""
            },
            "type": "choropleth"
           }
          ],
          "contour": [
           {
            "colorbar": {
             "outlinewidth": 0,
             "ticks": ""
            },
            "colorscale": [
             [
              0,
              "#0d0887"
             ],
             [
              0.1111111111111111,
              "#46039f"
             ],
             [
              0.2222222222222222,
              "#7201a8"
             ],
             [
              0.3333333333333333,
              "#9c179e"
             ],
             [
              0.4444444444444444,
              "#bd3786"
             ],
             [
              0.5555555555555556,
              "#d8576b"
             ],
             [
              0.6666666666666666,
              "#ed7953"
             ],
             [
              0.7777777777777778,
              "#fb9f3a"
             ],
             [
              0.8888888888888888,
              "#fdca26"
             ],
             [
              1,
              "#f0f921"
             ]
            ],
            "type": "contour"
           }
          ],
          "contourcarpet": [
           {
            "colorbar": {
             "outlinewidth": 0,
             "ticks": ""
            },
            "type": "contourcarpet"
           }
          ],
          "heatmap": [
           {
            "colorbar": {
             "outlinewidth": 0,
             "ticks": ""
            },
            "colorscale": [
             [
              0,
              "#0d0887"
             ],
             [
              0.1111111111111111,
              "#46039f"
             ],
             [
              0.2222222222222222,
              "#7201a8"
             ],
             [
              0.3333333333333333,
              "#9c179e"
             ],
             [
              0.4444444444444444,
              "#bd3786"
             ],
             [
              0.5555555555555556,
              "#d8576b"
             ],
             [
              0.6666666666666666,
              "#ed7953"
             ],
             [
              0.7777777777777778,
              "#fb9f3a"
             ],
             [
              0.8888888888888888,
              "#fdca26"
             ],
             [
              1,
              "#f0f921"
             ]
            ],
            "type": "heatmap"
           }
          ],
          "heatmapgl": [
           {
            "colorbar": {
             "outlinewidth": 0,
             "ticks": ""
            },
            "colorscale": [
             [
              0,
              "#0d0887"
             ],
             [
              0.1111111111111111,
              "#46039f"
             ],
             [
              0.2222222222222222,
              "#7201a8"
             ],
             [
              0.3333333333333333,
              "#9c179e"
             ],
             [
              0.4444444444444444,
              "#bd3786"
             ],
             [
              0.5555555555555556,
              "#d8576b"
             ],
             [
              0.6666666666666666,
              "#ed7953"
             ],
             [
              0.7777777777777778,
              "#fb9f3a"
             ],
             [
              0.8888888888888888,
              "#fdca26"
             ],
             [
              1,
              "#f0f921"
             ]
            ],
            "type": "heatmapgl"
           }
          ],
          "histogram": [
           {
            "marker": {
             "pattern": {
              "fillmode": "overlay",
              "size": 10,
              "solidity": 0.2
             }
            },
            "type": "histogram"
           }
          ],
          "histogram2d": [
           {
            "colorbar": {
             "outlinewidth": 0,
             "ticks": ""
            },
            "colorscale": [
             [
              0,
              "#0d0887"
             ],
             [
              0.1111111111111111,
              "#46039f"
             ],
             [
              0.2222222222222222,
              "#7201a8"
             ],
             [
              0.3333333333333333,
              "#9c179e"
             ],
             [
              0.4444444444444444,
              "#bd3786"
             ],
             [
              0.5555555555555556,
              "#d8576b"
             ],
             [
              0.6666666666666666,
              "#ed7953"
             ],
             [
              0.7777777777777778,
              "#fb9f3a"
             ],
             [
              0.8888888888888888,
              "#fdca26"
             ],
             [
              1,
              "#f0f921"
             ]
            ],
            "type": "histogram2d"
           }
          ],
          "histogram2dcontour": [
           {
            "colorbar": {
             "outlinewidth": 0,
             "ticks": ""
            },
            "colorscale": [
             [
              0,
              "#0d0887"
             ],
             [
              0.1111111111111111,
              "#46039f"
             ],
             [
              0.2222222222222222,
              "#7201a8"
             ],
             [
              0.3333333333333333,
              "#9c179e"
             ],
             [
              0.4444444444444444,
              "#bd3786"
             ],
             [
              0.5555555555555556,
              "#d8576b"
             ],
             [
              0.6666666666666666,
              "#ed7953"
             ],
             [
              0.7777777777777778,
              "#fb9f3a"
             ],
             [
              0.8888888888888888,
              "#fdca26"
             ],
             [
              1,
              "#f0f921"
             ]
            ],
            "type": "histogram2dcontour"
           }
          ],
          "mesh3d": [
           {
            "colorbar": {
             "outlinewidth": 0,
             "ticks": ""
            },
            "type": "mesh3d"
           }
          ],
          "parcoords": [
           {
            "line": {
             "colorbar": {
              "outlinewidth": 0,
              "ticks": ""
             }
            },
            "type": "parcoords"
           }
          ],
          "pie": [
           {
            "automargin": true,
            "type": "pie"
           }
          ],
          "scatter": [
           {
            "fillpattern": {
             "fillmode": "overlay",
             "size": 10,
             "solidity": 0.2
            },
            "type": "scatter"
           }
          ],
          "scatter3d": [
           {
            "line": {
             "colorbar": {
              "outlinewidth": 0,
              "ticks": ""
             }
            },
            "marker": {
             "colorbar": {
              "outlinewidth": 0,
              "ticks": ""
             }
            },
            "type": "scatter3d"
           }
          ],
          "scattercarpet": [
           {
            "marker": {
             "colorbar": {
              "outlinewidth": 0,
              "ticks": ""
             }
            },
            "type": "scattercarpet"
           }
          ],
          "scattergeo": [
           {
            "marker": {
             "colorbar": {
              "outlinewidth": 0,
              "ticks": ""
             }
            },
            "type": "scattergeo"
           }
          ],
          "scattergl": [
           {
            "marker": {
             "colorbar": {
              "outlinewidth": 0,
              "ticks": ""
             }
            },
            "type": "scattergl"
           }
          ],
          "scattermapbox": [
           {
            "marker": {
             "colorbar": {
              "outlinewidth": 0,
              "ticks": ""
             }
            },
            "type": "scattermapbox"
           }
          ],
          "scatterpolar": [
           {
            "marker": {
             "colorbar": {
              "outlinewidth": 0,
              "ticks": ""
             }
            },
            "type": "scatterpolar"
           }
          ],
          "scatterpolargl": [
           {
            "marker": {
             "colorbar": {
              "outlinewidth": 0,
              "ticks": ""
             }
            },
            "type": "scatterpolargl"
           }
          ],
          "scatterternary": [
           {
            "marker": {
             "colorbar": {
              "outlinewidth": 0,
              "ticks": ""
             }
            },
            "type": "scatterternary"
           }
          ],
          "surface": [
           {
            "colorbar": {
             "outlinewidth": 0,
             "ticks": ""
            },
            "colorscale": [
             [
              0,
              "#0d0887"
             ],
             [
              0.1111111111111111,
              "#46039f"
             ],
             [
              0.2222222222222222,
              "#7201a8"
             ],
             [
              0.3333333333333333,
              "#9c179e"
             ],
             [
              0.4444444444444444,
              "#bd3786"
             ],
             [
              0.5555555555555556,
              "#d8576b"
             ],
             [
              0.6666666666666666,
              "#ed7953"
             ],
             [
              0.7777777777777778,
              "#fb9f3a"
             ],
             [
              0.8888888888888888,
              "#fdca26"
             ],
             [
              1,
              "#f0f921"
             ]
            ],
            "type": "surface"
           }
          ],
          "table": [
           {
            "cells": {
             "fill": {
              "color": "#EBF0F8"
             },
             "line": {
              "color": "white"
             }
            },
            "header": {
             "fill": {
              "color": "#C8D4E3"
             },
             "line": {
              "color": "white"
             }
            },
            "type": "table"
           }
          ]
         },
         "layout": {
          "annotationdefaults": {
           "arrowcolor": "#2a3f5f",
           "arrowhead": 0,
           "arrowwidth": 1
          },
          "autotypenumbers": "strict",
          "coloraxis": {
           "colorbar": {
            "outlinewidth": 0,
            "ticks": ""
           }
          },
          "colorscale": {
           "diverging": [
            [
             0,
             "#8e0152"
            ],
            [
             0.1,
             "#c51b7d"
            ],
            [
             0.2,
             "#de77ae"
            ],
            [
             0.3,
             "#f1b6da"
            ],
            [
             0.4,
             "#fde0ef"
            ],
            [
             0.5,
             "#f7f7f7"
            ],
            [
             0.6,
             "#e6f5d0"
            ],
            [
             0.7,
             "#b8e186"
            ],
            [
             0.8,
             "#7fbc41"
            ],
            [
             0.9,
             "#4d9221"
            ],
            [
             1,
             "#276419"
            ]
           ],
           "sequential": [
            [
             0,
             "#0d0887"
            ],
            [
             0.1111111111111111,
             "#46039f"
            ],
            [
             0.2222222222222222,
             "#7201a8"
            ],
            [
             0.3333333333333333,
             "#9c179e"
            ],
            [
             0.4444444444444444,
             "#bd3786"
            ],
            [
             0.5555555555555556,
             "#d8576b"
            ],
            [
             0.6666666666666666,
             "#ed7953"
            ],
            [
             0.7777777777777778,
             "#fb9f3a"
            ],
            [
             0.8888888888888888,
             "#fdca26"
            ],
            [
             1,
             "#f0f921"
            ]
           ],
           "sequentialminus": [
            [
             0,
             "#0d0887"
            ],
            [
             0.1111111111111111,
             "#46039f"
            ],
            [
             0.2222222222222222,
             "#7201a8"
            ],
            [
             0.3333333333333333,
             "#9c179e"
            ],
            [
             0.4444444444444444,
             "#bd3786"
            ],
            [
             0.5555555555555556,
             "#d8576b"
            ],
            [
             0.6666666666666666,
             "#ed7953"
            ],
            [
             0.7777777777777778,
             "#fb9f3a"
            ],
            [
             0.8888888888888888,
             "#fdca26"
            ],
            [
             1,
             "#f0f921"
            ]
           ]
          },
          "colorway": [
           "#636efa",
           "#EF553B",
           "#00cc96",
           "#ab63fa",
           "#FFA15A",
           "#19d3f3",
           "#FF6692",
           "#B6E880",
           "#FF97FF",
           "#FECB52"
          ],
          "font": {
           "color": "#2a3f5f"
          },
          "geo": {
           "bgcolor": "white",
           "lakecolor": "white",
           "landcolor": "#E5ECF6",
           "showlakes": true,
           "showland": true,
           "subunitcolor": "white"
          },
          "hoverlabel": {
           "align": "left"
          },
          "hovermode": "closest",
          "mapbox": {
           "style": "light"
          },
          "paper_bgcolor": "white",
          "plot_bgcolor": "#E5ECF6",
          "polar": {
           "angularaxis": {
            "gridcolor": "white",
            "linecolor": "white",
            "ticks": ""
           },
           "bgcolor": "#E5ECF6",
           "radialaxis": {
            "gridcolor": "white",
            "linecolor": "white",
            "ticks": ""
           }
          },
          "scene": {
           "xaxis": {
            "backgroundcolor": "#E5ECF6",
            "gridcolor": "white",
            "gridwidth": 2,
            "linecolor": "white",
            "showbackground": true,
            "ticks": "",
            "zerolinecolor": "white"
           },
           "yaxis": {
            "backgroundcolor": "#E5ECF6",
            "gridcolor": "white",
            "gridwidth": 2,
            "linecolor": "white",
            "showbackground": true,
            "ticks": "",
            "zerolinecolor": "white"
           },
           "zaxis": {
            "backgroundcolor": "#E5ECF6",
            "gridcolor": "white",
            "gridwidth": 2,
            "linecolor": "white",
            "showbackground": true,
            "ticks": "",
            "zerolinecolor": "white"
           }
          },
          "shapedefaults": {
           "line": {
            "color": "#2a3f5f"
           }
          },
          "ternary": {
           "aaxis": {
            "gridcolor": "white",
            "linecolor": "white",
            "ticks": ""
           },
           "baxis": {
            "gridcolor": "white",
            "linecolor": "white",
            "ticks": ""
           },
           "bgcolor": "#E5ECF6",
           "caxis": {
            "gridcolor": "white",
            "linecolor": "white",
            "ticks": ""
           }
          },
          "title": {
           "x": 0.05
          },
          "xaxis": {
           "automargin": true,
           "gridcolor": "white",
           "linecolor": "white",
           "ticks": "",
           "title": {
            "standoff": 15
           },
           "zerolinecolor": "white",
           "zerolinewidth": 2
          },
          "yaxis": {
           "automargin": true,
           "gridcolor": "white",
           "linecolor": "white",
           "ticks": "",
           "title": {
            "standoff": 15
           },
           "zerolinecolor": "white",
           "zerolinewidth": 2
          }
         }
        },
        "title": {
         "font": {
          "size": 16
         },
         "text": "Temperature in Südamerika nach Ländern"
        },
        "xaxis": {
         "anchor": "y",
         "domain": [
          0,
          1
         ],
         "title": {
          "font": {
           "size": 12
          },
          "text": "Jahr"
         }
        },
        "yaxis": {
         "anchor": "x",
         "domain": [
          0,
          1
         ],
         "title": {
          "font": {
           "size": 12
          },
          "text": "Temperature"
         }
        }
       }
      }
     },
     "metadata": {},
     "output_type": "display_data"
    }
   ],
   "source": [
    "plot_temp_by_country(sueden, south_america_countries, \"Südamerika\")"
   ]
  },
  {
   "cell_type": "code",
   "execution_count": 54,
   "metadata": {},
   "outputs": [],
   "source": [
    "def plot_temperature_vs_emissions(df_combined):\n",
    "    \"\"\"\n",
    "    Erstellt ein Streudiagramm, das die Temperatur in Abhängigkeit der Emissionen zeigt,\n",
    "    inklusive einer Regressionslinie.\n",
    "    \"\"\"\n",
    "    # Regressionslinie berechnen\n",
    "    x = df_combined[\"emissions_total\"]\n",
    "    y = df_combined[\"Temperature\"]\n",
    "\n",
    "    coeffs = np.polyfit(x, y, deg=1)  # lineare Regression\n",
    "    trendline = np.polyval(coeffs, x)\n",
    "\n",
    "    # Streudiagramm erstellen\n",
    "    fig = px.scatter(\n",
    "        df_combined,\n",
    "        x=\"emissions_total\",\n",
    "        y=\"Temperature\",\n",
    "        color=\"Region\",\n",
    "        title=\"Temperatur in Abhängigkeit von CO2-Emissionen\",\n",
    "        labels={\"Gesamtemissionen\": \"CO2-Emissionen (Millionen Tonnen)\", \"Durchschnittstemperatur\": \"Temperatur (°C)\"},\n",
    "        hover_data=[\"Year\"]\n",
    "    )\n",
    "\n",
    "    # Grafik anzeigen\n",
    "    fig.show()"
   ]
  },
  {
   "cell_type": "code",
   "execution_count": 55,
   "metadata": {},
   "outputs": [
    {
     "data": {
      "application/vnd.plotly.v1+json": {
       "config": {
        "plotlyServerURL": "https://plot.ly"
       },
       "data": [
        {
         "customdata": [
          [
           1950
          ],
          [
           1951
          ],
          [
           1952
          ],
          [
           1953
          ],
          [
           1954
          ],
          [
           1955
          ],
          [
           1956
          ],
          [
           1957
          ],
          [
           1958
          ],
          [
           1959
          ],
          [
           1960
          ],
          [
           1961
          ],
          [
           1962
          ],
          [
           1963
          ],
          [
           1964
          ],
          [
           1965
          ],
          [
           1966
          ],
          [
           1967
          ],
          [
           1968
          ],
          [
           1969
          ],
          [
           1970
          ],
          [
           1971
          ],
          [
           1972
          ],
          [
           1973
          ],
          [
           1974
          ],
          [
           1975
          ],
          [
           1976
          ],
          [
           1977
          ],
          [
           1978
          ],
          [
           1979
          ],
          [
           1980
          ],
          [
           1981
          ],
          [
           1982
          ],
          [
           1983
          ],
          [
           1984
          ],
          [
           1985
          ],
          [
           1986
          ],
          [
           1987
          ],
          [
           1988
          ],
          [
           1989
          ],
          [
           1990
          ],
          [
           1991
          ],
          [
           1992
          ],
          [
           1993
          ],
          [
           1994
          ],
          [
           1995
          ],
          [
           1996
          ],
          [
           1997
          ],
          [
           1998
          ],
          [
           1999
          ],
          [
           2000
          ],
          [
           2001
          ],
          [
           2002
          ],
          [
           2003
          ],
          [
           2004
          ],
          [
           2005
          ],
          [
           2006
          ],
          [
           2007
          ],
          [
           2008
          ],
          [
           2009
          ],
          [
           2010
          ],
          [
           2011
          ],
          [
           2012
          ],
          [
           2013
          ],
          [
           2014
          ],
          [
           2015
          ],
          [
           2016
          ],
          [
           2017
          ],
          [
           2018
          ],
          [
           2019
          ],
          [
           2020
          ],
          [
           2021
          ],
          [
           2022
          ],
          [
           2023
          ]
         ],
         "hovertemplate": "Region=Nordamerika<br>emissions_total=%{x}<br>Temperature=%{y}<br>Year=%{customdata[0]}<extra></extra>",
         "legendgroup": "Nordamerika",
         "marker": {
          "color": "#636efa",
          "symbol": "circle"
         },
         "mode": "markers",
         "name": "Nordamerika",
         "orientation": "v",
         "showlegend": true,
         "type": "scatter",
         "x": [
          2736695436,
          2828319342,
          2760658134,
          2823216131,
          2701530049,
          2951921933.01,
          3105933582,
          3090374499.04,
          3011037941,
          3100337472.02,
          3176154199,
          3170677083,
          3294600987,
          3428158898,
          3607139442.2,
          3758346232,
          3943739271.8,
          4111690151.02,
          4274684407.14,
          4483133159,
          4842233046,
          4897530499.5,
          5143517141.5,
          5376832216.9,
          5232330800,
          5112733348.5,
          5408088411,
          5574033991,
          5661737776,
          5775791842,
          5603321392.9,
          5478636177,
          5245773251,
          5191470466.1,
          5440144473,
          5441084170,
          5439263535.5,
          5644989055,
          5893700671,
          6003145389.059999,
          5974949943.9,
          5921657056,
          6047708912,
          6151112738.52,
          6273393414,
          6332833423,
          6553918772,
          6669424182,
          6744686044,
          6837611523,
          7076749794,
          6987040736,
          7038077593,
          7151639629.9,
          7250493271,
          7296358652,
          7233510549.97,
          7337234367.5,
          7106463280,
          6623916771.97,
          6840040124,
          6741359359.5,
          6557206828.1,
          6691808183,
          6727743423.9,
          6574448642,
          6437558410,
          6389214325,
          6568377361.5,
          6465336836,
          5801687713,
          6164818484,
          6240387892,
          6094895502.5
         ],
         "xaxis": "x",
         "y": [
          20.8613949703125,
          21.30694545378125,
          21.487918907395834,
          21.6432700265625,
          21.200929357708333,
          21.096202161770833,
          20.97514520609375,
          21.5110290321875,
          21.717829189583334,
          21.432228825520834,
          21.308954070677082,
          21.335533916666666,
          21.296268146093748,
          21.415196886510415,
          21.421090154010418,
          21.333206945104166,
          21.322126082291668,
          21.3951777640625,
          21.240119569166666,
          21.718881716822917,
          21.39820635546875,
          21.2531024359375,
          21.43472491875,
          21.544669519791668,
          21.19742320953125,
          21.3104639625,
          21.199873936354166,
          21.68160093388021,
          21.469619622395832,
          21.471331579166666,
          21.747951413020832,
          21.674999763541667,
          21.560566384010418,
          21.870487391302085,
          21.361135308854166,
          21.368045475520834,
          21.479776404687502,
          22.024017662604166,
          21.76513555,
          21.549374027604166,
          21.843676934375,
          21.8580274871875,
          21.69523357578125,
          21.699699316145832,
          21.8855635753125,
          21.920230996854166,
          21.469946538541667,
          22.01093097503125,
          22.403743569479165,
          21.597608896979168,
          21.614870784375,
          21.868297334375,
          22.0641433346875,
          22.125893670291667,
          21.919042727083333,
          22.20960237465625,
          22.22056882223958,
          22.099825194635418,
          21.822524335677084,
          22.104887071458332,
          22.2426498553125,
          22.09172290703125,
          22.184900318385417,
          22.170381165520833,
          22.2432300459375,
          22.616315683489585,
          22.62754609375,
          22.419694002447915,
          22.224365017210935,
          22.605418375416665,
          22.6483987178125,
          22.4733256125,
          22.26880563890625,
          22.993054225520833
         ],
         "yaxis": "y"
        },
        {
         "customdata": [
          [
           1950
          ],
          [
           1951
          ],
          [
           1952
          ],
          [
           1953
          ],
          [
           1954
          ],
          [
           1955
          ],
          [
           1956
          ],
          [
           1957
          ],
          [
           1958
          ],
          [
           1959
          ],
          [
           1960
          ],
          [
           1961
          ],
          [
           1962
          ],
          [
           1963
          ],
          [
           1964
          ],
          [
           1965
          ],
          [
           1966
          ],
          [
           1967
          ],
          [
           1968
          ],
          [
           1969
          ],
          [
           1970
          ],
          [
           1971
          ],
          [
           1972
          ],
          [
           1973
          ],
          [
           1974
          ],
          [
           1975
          ],
          [
           1976
          ],
          [
           1977
          ],
          [
           1978
          ],
          [
           1979
          ],
          [
           1980
          ],
          [
           1981
          ],
          [
           1982
          ],
          [
           1983
          ],
          [
           1984
          ],
          [
           1985
          ],
          [
           1986
          ],
          [
           1987
          ],
          [
           1988
          ],
          [
           1989
          ],
          [
           1990
          ],
          [
           1991
          ],
          [
           1992
          ],
          [
           1993
          ],
          [
           1994
          ],
          [
           1995
          ],
          [
           1996
          ],
          [
           1997
          ],
          [
           1998
          ],
          [
           1999
          ],
          [
           2000
          ],
          [
           2001
          ],
          [
           2002
          ],
          [
           2003
          ],
          [
           2004
          ],
          [
           2005
          ],
          [
           2006
          ],
          [
           2007
          ],
          [
           2008
          ],
          [
           2009
          ],
          [
           2010
          ],
          [
           2011
          ],
          [
           2012
          ],
          [
           2013
          ],
          [
           2014
          ],
          [
           2015
          ],
          [
           2016
          ],
          [
           2017
          ],
          [
           2018
          ],
          [
           2019
          ],
          [
           2020
          ],
          [
           2021
          ],
          [
           2022
          ],
          [
           2023
          ]
         ],
         "hovertemplate": "Region=Südamerika<br>emissions_total=%{x}<br>Temperature=%{y}<br>Year=%{customdata[0]}<extra></extra>",
         "legendgroup": "Südamerika",
         "marker": {
          "color": "#EF553B",
          "symbol": "circle"
         },
         "mode": "markers",
         "name": "Südamerika",
         "orientation": "v",
         "showlegend": true,
         "type": "scatter",
         "x": [
          114035625,
          131914233,
          142109627,
          141313611,
          151785007,
          170981418.97,
          185145679.2,
          193888532,
          179864532,
          198212181,
          200484790.56,
          203162880.2,
          217010818.2,
          220899134,
          231916554,
          242066623,
          253728992,
          269309425,
          289744050,
          313513391.97,
          340122581,
          348978468,
          365263328,
          395600991,
          419595812,
          415177177.8,
          422633868.56,
          438612807,
          466227254.3,
          499014163,
          512846471,
          493668537,
          494476446,
          488996278,
          494864150.2,
          505299549,
          533423205,
          561170319.8,
          584342093.8,
          583946361.2,
          603183233,
          610923781.1,
          623931598,
          658223489.9,
          662247727,
          696528415.9,
          726315922,
          774318754.2,
          799643071,
          821790186,
          822198242,
          802235921,
          830667109,
          830983612,
          868039186,
          893606450,
          921282972,
          956035636,
          998592097.5,
          972692239,
          1083320397,
          1100253556,
          1155513219,
          1221197360,
          1238072896,
          1211090943,
          1163100359,
          1147356843,
          1096232266,
          1103929669.5,
          996605768,
          1099536200.5,
          1115266509,
          1129347297
         ],
         "xaxis": "x",
         "y": [
          19.93342052371795,
          20.239919046153847,
          20.264051542307694,
          20.44468049230769,
          19.866740322435895,
          19.794251356410257,
          19.60171083397436,
          20.334038571153844,
          20.6489299275641,
          20.305971715384615,
          20.34232198397436,
          20.59106596474359,
          20.19139502820513,
          20.6277989724359,
          20.311587825,
          20.438298403205128,
          20.491174199358973,
          20.42238488269231,
          20.36547973205128,
          20.777928375000002,
          20.485195010897435,
          19.986285901923075,
          20.578785507051286,
          20.476873901923078,
          20.024753634615386,
          20.137935683333335,
          20.044367794871793,
          20.677986633333333,
          20.62484469230769,
          20.590293350641026,
          20.70548870705128,
          20.574446964102563,
          20.679414626923077,
          20.795272507051283,
          20.239435727564107,
          20.402686342948716,
          20.505333941666667,
          20.915266944230773,
          20.596243612179485,
          20.47669390128205,
          20.630138434615386,
          20.72473799230769,
          20.562120937820513,
          20.652821953205127,
          20.875149210897437,
          20.887426301923078,
          20.583858773076923,
          21.06632267820513,
          21.142642621794874,
          20.50066474423077,
          20.44226235,
          20.771376428846153,
          20.970096904487182,
          20.980129025641023,
          20.980983171794872,
          21.113922340384615,
          21.123595696153846,
          20.88615543397436,
          20.907070748076926,
          21.196974233333336,
          21.177627256410254,
          21.032753571794874,
          21.226147824358975,
          21.09557663269231,
          21.258389114743586,
          21.58527005897436,
          21.427870253846155,
          21.431766069230772,
          21.139192352564102,
          21.48326262051282,
          21.570506365384617,
          21.228152308333335,
          21.01258336346154,
          21.904066082692307
         ],
         "yaxis": "y"
        }
       ],
       "layout": {
        "legend": {
         "title": {
          "text": "Region"
         },
         "tracegroupgap": 0
        },
        "template": {
         "data": {
          "bar": [
           {
            "error_x": {
             "color": "#2a3f5f"
            },
            "error_y": {
             "color": "#2a3f5f"
            },
            "marker": {
             "line": {
              "color": "#E5ECF6",
              "width": 0.5
             },
             "pattern": {
              "fillmode": "overlay",
              "size": 10,
              "solidity": 0.2
             }
            },
            "type": "bar"
           }
          ],
          "barpolar": [
           {
            "marker": {
             "line": {
              "color": "#E5ECF6",
              "width": 0.5
             },
             "pattern": {
              "fillmode": "overlay",
              "size": 10,
              "solidity": 0.2
             }
            },
            "type": "barpolar"
           }
          ],
          "carpet": [
           {
            "aaxis": {
             "endlinecolor": "#2a3f5f",
             "gridcolor": "white",
             "linecolor": "white",
             "minorgridcolor": "white",
             "startlinecolor": "#2a3f5f"
            },
            "baxis": {
             "endlinecolor": "#2a3f5f",
             "gridcolor": "white",
             "linecolor": "white",
             "minorgridcolor": "white",
             "startlinecolor": "#2a3f5f"
            },
            "type": "carpet"
           }
          ],
          "choropleth": [
           {
            "colorbar": {
             "outlinewidth": 0,
             "ticks": ""
            },
            "type": "choropleth"
           }
          ],
          "contour": [
           {
            "colorbar": {
             "outlinewidth": 0,
             "ticks": ""
            },
            "colorscale": [
             [
              0,
              "#0d0887"
             ],
             [
              0.1111111111111111,
              "#46039f"
             ],
             [
              0.2222222222222222,
              "#7201a8"
             ],
             [
              0.3333333333333333,
              "#9c179e"
             ],
             [
              0.4444444444444444,
              "#bd3786"
             ],
             [
              0.5555555555555556,
              "#d8576b"
             ],
             [
              0.6666666666666666,
              "#ed7953"
             ],
             [
              0.7777777777777778,
              "#fb9f3a"
             ],
             [
              0.8888888888888888,
              "#fdca26"
             ],
             [
              1,
              "#f0f921"
             ]
            ],
            "type": "contour"
           }
          ],
          "contourcarpet": [
           {
            "colorbar": {
             "outlinewidth": 0,
             "ticks": ""
            },
            "type": "contourcarpet"
           }
          ],
          "heatmap": [
           {
            "colorbar": {
             "outlinewidth": 0,
             "ticks": ""
            },
            "colorscale": [
             [
              0,
              "#0d0887"
             ],
             [
              0.1111111111111111,
              "#46039f"
             ],
             [
              0.2222222222222222,
              "#7201a8"
             ],
             [
              0.3333333333333333,
              "#9c179e"
             ],
             [
              0.4444444444444444,
              "#bd3786"
             ],
             [
              0.5555555555555556,
              "#d8576b"
             ],
             [
              0.6666666666666666,
              "#ed7953"
             ],
             [
              0.7777777777777778,
              "#fb9f3a"
             ],
             [
              0.8888888888888888,
              "#fdca26"
             ],
             [
              1,
              "#f0f921"
             ]
            ],
            "type": "heatmap"
           }
          ],
          "heatmapgl": [
           {
            "colorbar": {
             "outlinewidth": 0,
             "ticks": ""
            },
            "colorscale": [
             [
              0,
              "#0d0887"
             ],
             [
              0.1111111111111111,
              "#46039f"
             ],
             [
              0.2222222222222222,
              "#7201a8"
             ],
             [
              0.3333333333333333,
              "#9c179e"
             ],
             [
              0.4444444444444444,
              "#bd3786"
             ],
             [
              0.5555555555555556,
              "#d8576b"
             ],
             [
              0.6666666666666666,
              "#ed7953"
             ],
             [
              0.7777777777777778,
              "#fb9f3a"
             ],
             [
              0.8888888888888888,
              "#fdca26"
             ],
             [
              1,
              "#f0f921"
             ]
            ],
            "type": "heatmapgl"
           }
          ],
          "histogram": [
           {
            "marker": {
             "pattern": {
              "fillmode": "overlay",
              "size": 10,
              "solidity": 0.2
             }
            },
            "type": "histogram"
           }
          ],
          "histogram2d": [
           {
            "colorbar": {
             "outlinewidth": 0,
             "ticks": ""
            },
            "colorscale": [
             [
              0,
              "#0d0887"
             ],
             [
              0.1111111111111111,
              "#46039f"
             ],
             [
              0.2222222222222222,
              "#7201a8"
             ],
             [
              0.3333333333333333,
              "#9c179e"
             ],
             [
              0.4444444444444444,
              "#bd3786"
             ],
             [
              0.5555555555555556,
              "#d8576b"
             ],
             [
              0.6666666666666666,
              "#ed7953"
             ],
             [
              0.7777777777777778,
              "#fb9f3a"
             ],
             [
              0.8888888888888888,
              "#fdca26"
             ],
             [
              1,
              "#f0f921"
             ]
            ],
            "type": "histogram2d"
           }
          ],
          "histogram2dcontour": [
           {
            "colorbar": {
             "outlinewidth": 0,
             "ticks": ""
            },
            "colorscale": [
             [
              0,
              "#0d0887"
             ],
             [
              0.1111111111111111,
              "#46039f"
             ],
             [
              0.2222222222222222,
              "#7201a8"
             ],
             [
              0.3333333333333333,
              "#9c179e"
             ],
             [
              0.4444444444444444,
              "#bd3786"
             ],
             [
              0.5555555555555556,
              "#d8576b"
             ],
             [
              0.6666666666666666,
              "#ed7953"
             ],
             [
              0.7777777777777778,
              "#fb9f3a"
             ],
             [
              0.8888888888888888,
              "#fdca26"
             ],
             [
              1,
              "#f0f921"
             ]
            ],
            "type": "histogram2dcontour"
           }
          ],
          "mesh3d": [
           {
            "colorbar": {
             "outlinewidth": 0,
             "ticks": ""
            },
            "type": "mesh3d"
           }
          ],
          "parcoords": [
           {
            "line": {
             "colorbar": {
              "outlinewidth": 0,
              "ticks": ""
             }
            },
            "type": "parcoords"
           }
          ],
          "pie": [
           {
            "automargin": true,
            "type": "pie"
           }
          ],
          "scatter": [
           {
            "fillpattern": {
             "fillmode": "overlay",
             "size": 10,
             "solidity": 0.2
            },
            "type": "scatter"
           }
          ],
          "scatter3d": [
           {
            "line": {
             "colorbar": {
              "outlinewidth": 0,
              "ticks": ""
             }
            },
            "marker": {
             "colorbar": {
              "outlinewidth": 0,
              "ticks": ""
             }
            },
            "type": "scatter3d"
           }
          ],
          "scattercarpet": [
           {
            "marker": {
             "colorbar": {
              "outlinewidth": 0,
              "ticks": ""
             }
            },
            "type": "scattercarpet"
           }
          ],
          "scattergeo": [
           {
            "marker": {
             "colorbar": {
              "outlinewidth": 0,
              "ticks": ""
             }
            },
            "type": "scattergeo"
           }
          ],
          "scattergl": [
           {
            "marker": {
             "colorbar": {
              "outlinewidth": 0,
              "ticks": ""
             }
            },
            "type": "scattergl"
           }
          ],
          "scattermapbox": [
           {
            "marker": {
             "colorbar": {
              "outlinewidth": 0,
              "ticks": ""
             }
            },
            "type": "scattermapbox"
           }
          ],
          "scatterpolar": [
           {
            "marker": {
             "colorbar": {
              "outlinewidth": 0,
              "ticks": ""
             }
            },
            "type": "scatterpolar"
           }
          ],
          "scatterpolargl": [
           {
            "marker": {
             "colorbar": {
              "outlinewidth": 0,
              "ticks": ""
             }
            },
            "type": "scatterpolargl"
           }
          ],
          "scatterternary": [
           {
            "marker": {
             "colorbar": {
              "outlinewidth": 0,
              "ticks": ""
             }
            },
            "type": "scatterternary"
           }
          ],
          "surface": [
           {
            "colorbar": {
             "outlinewidth": 0,
             "ticks": ""
            },
            "colorscale": [
             [
              0,
              "#0d0887"
             ],
             [
              0.1111111111111111,
              "#46039f"
             ],
             [
              0.2222222222222222,
              "#7201a8"
             ],
             [
              0.3333333333333333,
              "#9c179e"
             ],
             [
              0.4444444444444444,
              "#bd3786"
             ],
             [
              0.5555555555555556,
              "#d8576b"
             ],
             [
              0.6666666666666666,
              "#ed7953"
             ],
             [
              0.7777777777777778,
              "#fb9f3a"
             ],
             [
              0.8888888888888888,
              "#fdca26"
             ],
             [
              1,
              "#f0f921"
             ]
            ],
            "type": "surface"
           }
          ],
          "table": [
           {
            "cells": {
             "fill": {
              "color": "#EBF0F8"
             },
             "line": {
              "color": "white"
             }
            },
            "header": {
             "fill": {
              "color": "#C8D4E3"
             },
             "line": {
              "color": "white"
             }
            },
            "type": "table"
           }
          ]
         },
         "layout": {
          "annotationdefaults": {
           "arrowcolor": "#2a3f5f",
           "arrowhead": 0,
           "arrowwidth": 1
          },
          "autotypenumbers": "strict",
          "coloraxis": {
           "colorbar": {
            "outlinewidth": 0,
            "ticks": ""
           }
          },
          "colorscale": {
           "diverging": [
            [
             0,
             "#8e0152"
            ],
            [
             0.1,
             "#c51b7d"
            ],
            [
             0.2,
             "#de77ae"
            ],
            [
             0.3,
             "#f1b6da"
            ],
            [
             0.4,
             "#fde0ef"
            ],
            [
             0.5,
             "#f7f7f7"
            ],
            [
             0.6,
             "#e6f5d0"
            ],
            [
             0.7,
             "#b8e186"
            ],
            [
             0.8,
             "#7fbc41"
            ],
            [
             0.9,
             "#4d9221"
            ],
            [
             1,
             "#276419"
            ]
           ],
           "sequential": [
            [
             0,
             "#0d0887"
            ],
            [
             0.1111111111111111,
             "#46039f"
            ],
            [
             0.2222222222222222,
             "#7201a8"
            ],
            [
             0.3333333333333333,
             "#9c179e"
            ],
            [
             0.4444444444444444,
             "#bd3786"
            ],
            [
             0.5555555555555556,
             "#d8576b"
            ],
            [
             0.6666666666666666,
             "#ed7953"
            ],
            [
             0.7777777777777778,
             "#fb9f3a"
            ],
            [
             0.8888888888888888,
             "#fdca26"
            ],
            [
             1,
             "#f0f921"
            ]
           ],
           "sequentialminus": [
            [
             0,
             "#0d0887"
            ],
            [
             0.1111111111111111,
             "#46039f"
            ],
            [
             0.2222222222222222,
             "#7201a8"
            ],
            [
             0.3333333333333333,
             "#9c179e"
            ],
            [
             0.4444444444444444,
             "#bd3786"
            ],
            [
             0.5555555555555556,
             "#d8576b"
            ],
            [
             0.6666666666666666,
             "#ed7953"
            ],
            [
             0.7777777777777778,
             "#fb9f3a"
            ],
            [
             0.8888888888888888,
             "#fdca26"
            ],
            [
             1,
             "#f0f921"
            ]
           ]
          },
          "colorway": [
           "#636efa",
           "#EF553B",
           "#00cc96",
           "#ab63fa",
           "#FFA15A",
           "#19d3f3",
           "#FF6692",
           "#B6E880",
           "#FF97FF",
           "#FECB52"
          ],
          "font": {
           "color": "#2a3f5f"
          },
          "geo": {
           "bgcolor": "white",
           "lakecolor": "white",
           "landcolor": "#E5ECF6",
           "showlakes": true,
           "showland": true,
           "subunitcolor": "white"
          },
          "hoverlabel": {
           "align": "left"
          },
          "hovermode": "closest",
          "mapbox": {
           "style": "light"
          },
          "paper_bgcolor": "white",
          "plot_bgcolor": "#E5ECF6",
          "polar": {
           "angularaxis": {
            "gridcolor": "white",
            "linecolor": "white",
            "ticks": ""
           },
           "bgcolor": "#E5ECF6",
           "radialaxis": {
            "gridcolor": "white",
            "linecolor": "white",
            "ticks": ""
           }
          },
          "scene": {
           "xaxis": {
            "backgroundcolor": "#E5ECF6",
            "gridcolor": "white",
            "gridwidth": 2,
            "linecolor": "white",
            "showbackground": true,
            "ticks": "",
            "zerolinecolor": "white"
           },
           "yaxis": {
            "backgroundcolor": "#E5ECF6",
            "gridcolor": "white",
            "gridwidth": 2,
            "linecolor": "white",
            "showbackground": true,
            "ticks": "",
            "zerolinecolor": "white"
           },
           "zaxis": {
            "backgroundcolor": "#E5ECF6",
            "gridcolor": "white",
            "gridwidth": 2,
            "linecolor": "white",
            "showbackground": true,
            "ticks": "",
            "zerolinecolor": "white"
           }
          },
          "shapedefaults": {
           "line": {
            "color": "#2a3f5f"
           }
          },
          "ternary": {
           "aaxis": {
            "gridcolor": "white",
            "linecolor": "white",
            "ticks": ""
           },
           "baxis": {
            "gridcolor": "white",
            "linecolor": "white",
            "ticks": ""
           },
           "bgcolor": "#E5ECF6",
           "caxis": {
            "gridcolor": "white",
            "linecolor": "white",
            "ticks": ""
           }
          },
          "title": {
           "x": 0.05
          },
          "xaxis": {
           "automargin": true,
           "gridcolor": "white",
           "linecolor": "white",
           "ticks": "",
           "title": {
            "standoff": 15
           },
           "zerolinecolor": "white",
           "zerolinewidth": 2
          },
          "yaxis": {
           "automargin": true,
           "gridcolor": "white",
           "linecolor": "white",
           "ticks": "",
           "title": {
            "standoff": 15
           },
           "zerolinecolor": "white",
           "zerolinewidth": 2
          }
         }
        },
        "title": {
         "text": "Temperatur in Abhängigkeit von CO2-Emissionen"
        },
        "xaxis": {
         "anchor": "y",
         "domain": [
          0,
          1
         ],
         "title": {
          "text": "emissions_total"
         }
        },
        "yaxis": {
         "anchor": "x",
         "domain": [
          0,
          1
         ],
         "title": {
          "text": "Temperature"
         }
        }
       }
      }
     },
     "metadata": {},
     "output_type": "display_data"
    }
   ],
   "source": [
    "    # Region hinzufügen, um die Daten zu unterscheiden\n",
    "yearly_summarynorden[\"Region\"] = \"Nordamerika\"\n",
    "yearly_summarysouth[\"Region\"] = \"Südamerika\"\n",
    "\n",
    "df_combined = pd.concat([yearly_summarynorden, yearly_summarysouth], ignore_index=True)\n",
    "\n",
    "plot_temperature_vs_emissions(df_combined)"
   ]
  },
  {
   "cell_type": "code",
   "execution_count": 56,
   "metadata": {},
   "outputs": [],
   "source": [
    "def plot_temperature_with_trendlines(df_combined, p_values_df):\n",
    "    \"\"\"Erstellt eine Plotly-Grafik, die Temperaturdaten mit Trendlinien und P-Werten anzeigt.\"\"\"\n",
    "    fig = go.Figure()\n",
    "\n",
    "    # Durch Regionen iterieren und Temperaturdaten mit Trendlinien hinzufügen\n",
    "    for region in df_combined[\"Region\"].unique():\n",
    "        region_data = df_combined[df_combined[\"Region\"] == region]\n",
    "        x = region_data[\"Year\"]\n",
    "        y = region_data[\"Temperature\"]\n",
    "\n",
    "        # Plot Temperaturdaten\n",
    "        fig.add_trace(go.Scatter(\n",
    "            x=x,\n",
    "            y=y,\n",
    "            mode=\"lines\",\n",
    "            name=f\"{region} Temperature\",\n",
    "            line=dict(width=2),\n",
    "            hovertemplate=\"Jahr: %{x}<br>Temperature: %{y:.2f}°C<extra></extra>\"\n",
    "        ))\n",
    "\n",
    "        # Lineare Regression berechnen\n",
    "        coeffs = np.polyfit(x, y, deg=4)\n",
    "        trendline = np.polyval(coeffs, x)\n",
    "\n",
    "        # Trendlinie hinzufügen\n",
    "        fig.add_trace(go.Scatter(\n",
    "            x=x,\n",
    "            y=trendline,\n",
    "            mode=\"lines\",\n",
    "            name=f\"{region} Trendlinie\",\n",
    "            line=dict(dash=\"dash\"),\n",
    "            hovertemplate=\"Jahr: %{x}<br>Trendlinie: %{y:.2f}°C<extra></extra>\"\n",
    "        ))\n",
    "\n",
    "    # Layout anpassen\n",
    "    fig.update_layout(\n",
    "        title=\"Temperaturänderungen in Nord- und Südamerika mit Trendlinien\",\n",
    "        xaxis_title=\"Jahr\",\n",
    "        yaxis_title=\"Temperature (°C)\",\n",
    "        legend_title=\"Regionen\",\n",
    "        template=\"plotly_white\"\n",
    "    )\n",
    "\n",
    "    # Grafik anzeigen\n",
    "    fig.show()"
   ]
  },
  {
   "cell_type": "code",
   "execution_count": 57,
   "metadata": {},
   "outputs": [],
   "source": [
    "def calculate_p_values(df_combined):\n",
    "    \"\"\"Berechnet die lineare Regression und die p-Werte für jede Region.\"\"\"\n",
    "    results = []\n",
    "    \n",
    "    for region in df_combined[\"Region\"].unique():\n",
    "        region_data = df_combined[df_combined[\"Region\"] == region]\n",
    "        x = region_data[\"Year\"].values\n",
    "        y = region_data[\"emissions_total\"].values\n",
    "\n",
    "        # Lineare Regression\n",
    "        slope, intercept, r_value, p_value, std_err = linregress(x, y)\n",
    "\n",
    "        # Ergebnisse speichern\n",
    "        results.append({\n",
    "            \"Region\": region,\n",
    "            \"Slope\": slope,\n",
    "            \"Intercept\": intercept,\n",
    "            \"R-squared\": r_value**2,\n",
    "            \"P-value\": p_value\n",
    "        })\n",
    "\n",
    "    return pd.DataFrame(results)\n"
   ]
  },
  {
   "cell_type": "code",
   "execution_count": 58,
   "metadata": {},
   "outputs": [
    {
     "name": "stdout",
     "output_type": "stream",
     "text": [
      "\n",
      "P-Werte und Regressionsergebnisse:\n",
      "        Region         Slope     Intercept  R-squared       P-value\n",
      "0  Nordamerika  5.990640e+07 -1.136031e+11    0.80692  2.011357e-27\n",
      "1   Südamerika  1.580106e+07 -3.077868e+10    0.96686  5.146013e-55\n"
     ]
    }
   ],
   "source": [
    "# P-Wert-Berechnung\n",
    "p_values_df = calculate_p_values(df_combined)\n",
    "print(\"\\nP-Werte und Regressionsergebnisse:\")\n",
    "print(p_values_df)"
   ]
  },
  {
   "cell_type": "code",
   "execution_count": 59,
   "metadata": {},
   "outputs": [
    {
     "data": {
      "application/vnd.plotly.v1+json": {
       "config": {
        "plotlyServerURL": "https://plot.ly"
       },
       "data": [
        {
         "hovertemplate": "Jahr: %{x}<br>Temperature: %{y:.2f}°C<extra></extra>",
         "line": {
          "width": 2
         },
         "mode": "lines",
         "name": "Nordamerika Temperature",
         "type": "scatter",
         "x": [
          1950,
          1951,
          1952,
          1953,
          1954,
          1955,
          1956,
          1957,
          1958,
          1959,
          1960,
          1961,
          1962,
          1963,
          1964,
          1965,
          1966,
          1967,
          1968,
          1969,
          1970,
          1971,
          1972,
          1973,
          1974,
          1975,
          1976,
          1977,
          1978,
          1979,
          1980,
          1981,
          1982,
          1983,
          1984,
          1985,
          1986,
          1987,
          1988,
          1989,
          1990,
          1991,
          1992,
          1993,
          1994,
          1995,
          1996,
          1997,
          1998,
          1999,
          2000,
          2001,
          2002,
          2003,
          2004,
          2005,
          2006,
          2007,
          2008,
          2009,
          2010,
          2011,
          2012,
          2013,
          2014,
          2015,
          2016,
          2017,
          2018,
          2019,
          2020,
          2021,
          2022,
          2023
         ],
         "y": [
          20.8613949703125,
          21.30694545378125,
          21.487918907395834,
          21.6432700265625,
          21.200929357708333,
          21.096202161770833,
          20.97514520609375,
          21.5110290321875,
          21.717829189583334,
          21.432228825520834,
          21.308954070677082,
          21.335533916666666,
          21.296268146093748,
          21.415196886510415,
          21.421090154010418,
          21.333206945104166,
          21.322126082291668,
          21.3951777640625,
          21.240119569166666,
          21.718881716822917,
          21.39820635546875,
          21.2531024359375,
          21.43472491875,
          21.544669519791668,
          21.19742320953125,
          21.3104639625,
          21.199873936354166,
          21.68160093388021,
          21.469619622395832,
          21.471331579166666,
          21.747951413020832,
          21.674999763541667,
          21.560566384010418,
          21.870487391302085,
          21.361135308854166,
          21.368045475520834,
          21.479776404687502,
          22.024017662604166,
          21.76513555,
          21.549374027604166,
          21.843676934375,
          21.8580274871875,
          21.69523357578125,
          21.699699316145832,
          21.8855635753125,
          21.920230996854166,
          21.469946538541667,
          22.01093097503125,
          22.403743569479165,
          21.597608896979168,
          21.614870784375,
          21.868297334375,
          22.0641433346875,
          22.125893670291667,
          21.919042727083333,
          22.20960237465625,
          22.22056882223958,
          22.099825194635418,
          21.822524335677084,
          22.104887071458332,
          22.2426498553125,
          22.09172290703125,
          22.184900318385417,
          22.170381165520833,
          22.2432300459375,
          22.616315683489585,
          22.62754609375,
          22.419694002447915,
          22.224365017210935,
          22.605418375416665,
          22.6483987178125,
          22.4733256125,
          22.26880563890625,
          22.993054225520833
         ]
        },
        {
         "hovertemplate": "Jahr: %{x}<br>Trendlinie: %{y:.2f}°C<extra></extra>",
         "line": {
          "dash": "dash"
         },
         "mode": "lines",
         "name": "Nordamerika Trendlinie",
         "type": "scatter",
         "x": [
          1950,
          1951,
          1952,
          1953,
          1954,
          1955,
          1956,
          1957,
          1958,
          1959,
          1960,
          1961,
          1962,
          1963,
          1964,
          1965,
          1966,
          1967,
          1968,
          1969,
          1970,
          1971,
          1972,
          1973,
          1974,
          1975,
          1976,
          1977,
          1978,
          1979,
          1980,
          1981,
          1982,
          1983,
          1984,
          1985,
          1986,
          1987,
          1988,
          1989,
          1990,
          1991,
          1992,
          1993,
          1994,
          1995,
          1996,
          1997,
          1998,
          1999,
          2000,
          2001,
          2002,
          2003,
          2004,
          2005,
          2006,
          2007,
          2008,
          2009,
          2010,
          2011,
          2012,
          2013,
          2014,
          2015,
          2016,
          2017,
          2018,
          2019,
          2020,
          2021,
          2022,
          2023
         ],
         "y": [
          21.25980651967984,
          21.267301971820416,
          21.274786885565845,
          21.28227777137363,
          21.289791005357984,
          21.29734282993013,
          21.30494935325987,
          21.312626549624838,
          21.320390259337728,
          21.32825618838251,
          21.336239909083815,
          21.344356859612162,
          21.35262234399852,
          21.361051532410784,
          21.369659461051924,
          21.378461031912593,
          21.387471013062168,
          21.396704038619646,
          21.40617460847716,
          21.41589708875108,
          21.42588571147644,
          21.436154574519605,
          21.44671764195664,
          21.457588743563974,
          21.468781575385947,
          21.480309699327336,
          21.492186543138814,
          21.504425400897162,
          21.517039432248566,
          21.530041663121665,
          21.543444985276437,
          21.55726215656614,
          21.571505800733576,
          21.58618840748386,
          21.601322332557174,
          21.61691979780153,
          21.632992890721653,
          21.64955356514838,
          21.66661364067113,
          21.684184802827076,
          21.702278603508603,
          21.72090646009019,
          21.740079656272428,
          21.759809341514483,
          21.78010653144156,
          21.800982107568416,
          21.82244681743032,
          21.84451127445209,
          21.867185958239133,
          21.89048121412634,
          21.914407253585523,
          21.93897415405081,
          21.96419185886043,
          21.990070177431335,
          22.01661878521554,
          22.04384722346731,
          22.07176489943231,
          22.100381086638663,
          22.129704924227553,
          22.159745417389786,
          22.190511437598616,
          22.22201172192581,
          22.254254873507307,
          22.287249361761496,
          22.32100352177804,
          22.355525554696214,
          22.390823527632165,
          22.4269053737371,
          22.463778892095434,
          22.50145174782665,
          22.539931472041644,
          22.579225461624446,
          22.619340979712433,
          22.660285155361635
         ]
        },
        {
         "hovertemplate": "Jahr: %{x}<br>Temperature: %{y:.2f}°C<extra></extra>",
         "line": {
          "width": 2
         },
         "mode": "lines",
         "name": "Südamerika Temperature",
         "type": "scatter",
         "x": [
          1950,
          1951,
          1952,
          1953,
          1954,
          1955,
          1956,
          1957,
          1958,
          1959,
          1960,
          1961,
          1962,
          1963,
          1964,
          1965,
          1966,
          1967,
          1968,
          1969,
          1970,
          1971,
          1972,
          1973,
          1974,
          1975,
          1976,
          1977,
          1978,
          1979,
          1980,
          1981,
          1982,
          1983,
          1984,
          1985,
          1986,
          1987,
          1988,
          1989,
          1990,
          1991,
          1992,
          1993,
          1994,
          1995,
          1996,
          1997,
          1998,
          1999,
          2000,
          2001,
          2002,
          2003,
          2004,
          2005,
          2006,
          2007,
          2008,
          2009,
          2010,
          2011,
          2012,
          2013,
          2014,
          2015,
          2016,
          2017,
          2018,
          2019,
          2020,
          2021,
          2022,
          2023
         ],
         "y": [
          19.93342052371795,
          20.239919046153847,
          20.264051542307694,
          20.44468049230769,
          19.866740322435895,
          19.794251356410257,
          19.60171083397436,
          20.334038571153844,
          20.6489299275641,
          20.305971715384615,
          20.34232198397436,
          20.59106596474359,
          20.19139502820513,
          20.6277989724359,
          20.311587825,
          20.438298403205128,
          20.491174199358973,
          20.42238488269231,
          20.36547973205128,
          20.777928375000002,
          20.485195010897435,
          19.986285901923075,
          20.578785507051286,
          20.476873901923078,
          20.024753634615386,
          20.137935683333335,
          20.044367794871793,
          20.677986633333333,
          20.62484469230769,
          20.590293350641026,
          20.70548870705128,
          20.574446964102563,
          20.679414626923077,
          20.795272507051283,
          20.239435727564107,
          20.402686342948716,
          20.505333941666667,
          20.915266944230773,
          20.596243612179485,
          20.47669390128205,
          20.630138434615386,
          20.72473799230769,
          20.562120937820513,
          20.652821953205127,
          20.875149210897437,
          20.887426301923078,
          20.583858773076923,
          21.06632267820513,
          21.142642621794874,
          20.50066474423077,
          20.44226235,
          20.771376428846153,
          20.970096904487182,
          20.980129025641023,
          20.980983171794872,
          21.113922340384615,
          21.123595696153846,
          20.88615543397436,
          20.907070748076926,
          21.196974233333336,
          21.177627256410254,
          21.032753571794874,
          21.226147824358975,
          21.09557663269231,
          21.258389114743586,
          21.58527005897436,
          21.427870253846155,
          21.431766069230772,
          21.139192352564102,
          21.48326262051282,
          21.570506365384617,
          21.228152308333335,
          21.01258336346154,
          21.904066082692307
         ]
        },
        {
         "hovertemplate": "Jahr: %{x}<br>Trendlinie: %{y:.2f}°C<extra></extra>",
         "line": {
          "dash": "dash"
         },
         "mode": "lines",
         "name": "Südamerika Trendlinie",
         "type": "scatter",
         "x": [
          1950,
          1951,
          1952,
          1953,
          1954,
          1955,
          1956,
          1957,
          1958,
          1959,
          1960,
          1961,
          1962,
          1963,
          1964,
          1965,
          1966,
          1967,
          1968,
          1969,
          1970,
          1971,
          1972,
          1973,
          1974,
          1975,
          1976,
          1977,
          1978,
          1979,
          1980,
          1981,
          1982,
          1983,
          1984,
          1985,
          1986,
          1987,
          1988,
          1989,
          1990,
          1991,
          1992,
          1993,
          1994,
          1995,
          1996,
          1997,
          1998,
          1999,
          2000,
          2001,
          2002,
          2003,
          2004,
          2005,
          2006,
          2007,
          2008,
          2009,
          2010,
          2011,
          2012,
          2013,
          2014,
          2015,
          2016,
          2017,
          2018,
          2019,
          2020,
          2021,
          2022,
          2023
         ],
         "y": [
          20.02039248077199,
          20.06152160000056,
          20.099369996692985,
          20.134138284251094,
          20.16602213261649,
          20.195212265942246,
          20.22189445933327,
          20.246249542571604,
          20.268453400582075,
          20.288676973897964,
          20.307086245622486,
          20.32384226610884,
          20.33910113107413,
          20.353013995103538,
          20.365727060008794,
          20.37738158321008,
          20.388113882392645,
          20.398055320605636,
          20.407332320231944,
          20.416066351812333,
          20.42437394009903,
          20.43236666917801,
          20.440151173621416,
          20.447829138487577,
          20.455497305840254,
          20.463247471489012,
          20.471166481263936,
          20.479336242657155,
          20.48783370666206,
          20.496730881743133,
          20.50609483430162,
          20.51598767703399,
          20.526466585230082,
          20.537583777215332,
          20.5493865320459,
          20.56191718298942,
          20.575213108211756,
          20.589306751731783,
          20.60422560106963,
          20.619992207735777,
          20.636624162551016,
          20.654134123586118,
          20.672529793344438,
          20.69181393366307,
          20.711984358727932,
          20.73303393041715,
          20.754950573202223,
          20.777717262040824,
          20.801312019582838,
          20.82570793060586,
          20.85087312804535,
          20.87677080417052,
          20.903359197080135,
          20.930591602809727,
          20.958416369743645,
          20.98677690513432,
          21.015611661132425,
          21.044854145962745,
          21.074432929046452,
          21.104271621908993,
          21.134288899134845,
          21.164398483000696,
          21.194509151391685,
          21.224524737801403,
          21.25434412388131,
          21.283861252013594,
          21.31296511273831,
          21.34153975220397,
          21.36946426751092,
          21.396612817421556,
          21.422854605596513,
          21.448053888510913,
          21.472069984767586,
          21.49475725973025
         ]
        }
       ],
       "layout": {
        "legend": {
         "title": {
          "text": "Regionen"
         }
        },
        "template": {
         "data": {
          "bar": [
           {
            "error_x": {
             "color": "#2a3f5f"
            },
            "error_y": {
             "color": "#2a3f5f"
            },
            "marker": {
             "line": {
              "color": "white",
              "width": 0.5
             },
             "pattern": {
              "fillmode": "overlay",
              "size": 10,
              "solidity": 0.2
             }
            },
            "type": "bar"
           }
          ],
          "barpolar": [
           {
            "marker": {
             "line": {
              "color": "white",
              "width": 0.5
             },
             "pattern": {
              "fillmode": "overlay",
              "size": 10,
              "solidity": 0.2
             }
            },
            "type": "barpolar"
           }
          ],
          "carpet": [
           {
            "aaxis": {
             "endlinecolor": "#2a3f5f",
             "gridcolor": "#C8D4E3",
             "linecolor": "#C8D4E3",
             "minorgridcolor": "#C8D4E3",
             "startlinecolor": "#2a3f5f"
            },
            "baxis": {
             "endlinecolor": "#2a3f5f",
             "gridcolor": "#C8D4E3",
             "linecolor": "#C8D4E3",
             "minorgridcolor": "#C8D4E3",
             "startlinecolor": "#2a3f5f"
            },
            "type": "carpet"
           }
          ],
          "choropleth": [
           {
            "colorbar": {
             "outlinewidth": 0,
             "ticks": ""
            },
            "type": "choropleth"
           }
          ],
          "contour": [
           {
            "colorbar": {
             "outlinewidth": 0,
             "ticks": ""
            },
            "colorscale": [
             [
              0,
              "#0d0887"
             ],
             [
              0.1111111111111111,
              "#46039f"
             ],
             [
              0.2222222222222222,
              "#7201a8"
             ],
             [
              0.3333333333333333,
              "#9c179e"
             ],
             [
              0.4444444444444444,
              "#bd3786"
             ],
             [
              0.5555555555555556,
              "#d8576b"
             ],
             [
              0.6666666666666666,
              "#ed7953"
             ],
             [
              0.7777777777777778,
              "#fb9f3a"
             ],
             [
              0.8888888888888888,
              "#fdca26"
             ],
             [
              1,
              "#f0f921"
             ]
            ],
            "type": "contour"
           }
          ],
          "contourcarpet": [
           {
            "colorbar": {
             "outlinewidth": 0,
             "ticks": ""
            },
            "type": "contourcarpet"
           }
          ],
          "heatmap": [
           {
            "colorbar": {
             "outlinewidth": 0,
             "ticks": ""
            },
            "colorscale": [
             [
              0,
              "#0d0887"
             ],
             [
              0.1111111111111111,
              "#46039f"
             ],
             [
              0.2222222222222222,
              "#7201a8"
             ],
             [
              0.3333333333333333,
              "#9c179e"
             ],
             [
              0.4444444444444444,
              "#bd3786"
             ],
             [
              0.5555555555555556,
              "#d8576b"
             ],
             [
              0.6666666666666666,
              "#ed7953"
             ],
             [
              0.7777777777777778,
              "#fb9f3a"
             ],
             [
              0.8888888888888888,
              "#fdca26"
             ],
             [
              1,
              "#f0f921"
             ]
            ],
            "type": "heatmap"
           }
          ],
          "heatmapgl": [
           {
            "colorbar": {
             "outlinewidth": 0,
             "ticks": ""
            },
            "colorscale": [
             [
              0,
              "#0d0887"
             ],
             [
              0.1111111111111111,
              "#46039f"
             ],
             [
              0.2222222222222222,
              "#7201a8"
             ],
             [
              0.3333333333333333,
              "#9c179e"
             ],
             [
              0.4444444444444444,
              "#bd3786"
             ],
             [
              0.5555555555555556,
              "#d8576b"
             ],
             [
              0.6666666666666666,
              "#ed7953"
             ],
             [
              0.7777777777777778,
              "#fb9f3a"
             ],
             [
              0.8888888888888888,
              "#fdca26"
             ],
             [
              1,
              "#f0f921"
             ]
            ],
            "type": "heatmapgl"
           }
          ],
          "histogram": [
           {
            "marker": {
             "pattern": {
              "fillmode": "overlay",
              "size": 10,
              "solidity": 0.2
             }
            },
            "type": "histogram"
           }
          ],
          "histogram2d": [
           {
            "colorbar": {
             "outlinewidth": 0,
             "ticks": ""
            },
            "colorscale": [
             [
              0,
              "#0d0887"
             ],
             [
              0.1111111111111111,
              "#46039f"
             ],
             [
              0.2222222222222222,
              "#7201a8"
             ],
             [
              0.3333333333333333,
              "#9c179e"
             ],
             [
              0.4444444444444444,
              "#bd3786"
             ],
             [
              0.5555555555555556,
              "#d8576b"
             ],
             [
              0.6666666666666666,
              "#ed7953"
             ],
             [
              0.7777777777777778,
              "#fb9f3a"
             ],
             [
              0.8888888888888888,
              "#fdca26"
             ],
             [
              1,
              "#f0f921"
             ]
            ],
            "type": "histogram2d"
           }
          ],
          "histogram2dcontour": [
           {
            "colorbar": {
             "outlinewidth": 0,
             "ticks": ""
            },
            "colorscale": [
             [
              0,
              "#0d0887"
             ],
             [
              0.1111111111111111,
              "#46039f"
             ],
             [
              0.2222222222222222,
              "#7201a8"
             ],
             [
              0.3333333333333333,
              "#9c179e"
             ],
             [
              0.4444444444444444,
              "#bd3786"
             ],
             [
              0.5555555555555556,
              "#d8576b"
             ],
             [
              0.6666666666666666,
              "#ed7953"
             ],
             [
              0.7777777777777778,
              "#fb9f3a"
             ],
             [
              0.8888888888888888,
              "#fdca26"
             ],
             [
              1,
              "#f0f921"
             ]
            ],
            "type": "histogram2dcontour"
           }
          ],
          "mesh3d": [
           {
            "colorbar": {
             "outlinewidth": 0,
             "ticks": ""
            },
            "type": "mesh3d"
           }
          ],
          "parcoords": [
           {
            "line": {
             "colorbar": {
              "outlinewidth": 0,
              "ticks": ""
             }
            },
            "type": "parcoords"
           }
          ],
          "pie": [
           {
            "automargin": true,
            "type": "pie"
           }
          ],
          "scatter": [
           {
            "fillpattern": {
             "fillmode": "overlay",
             "size": 10,
             "solidity": 0.2
            },
            "type": "scatter"
           }
          ],
          "scatter3d": [
           {
            "line": {
             "colorbar": {
              "outlinewidth": 0,
              "ticks": ""
             }
            },
            "marker": {
             "colorbar": {
              "outlinewidth": 0,
              "ticks": ""
             }
            },
            "type": "scatter3d"
           }
          ],
          "scattercarpet": [
           {
            "marker": {
             "colorbar": {
              "outlinewidth": 0,
              "ticks": ""
             }
            },
            "type": "scattercarpet"
           }
          ],
          "scattergeo": [
           {
            "marker": {
             "colorbar": {
              "outlinewidth": 0,
              "ticks": ""
             }
            },
            "type": "scattergeo"
           }
          ],
          "scattergl": [
           {
            "marker": {
             "colorbar": {
              "outlinewidth": 0,
              "ticks": ""
             }
            },
            "type": "scattergl"
           }
          ],
          "scattermapbox": [
           {
            "marker": {
             "colorbar": {
              "outlinewidth": 0,
              "ticks": ""
             }
            },
            "type": "scattermapbox"
           }
          ],
          "scatterpolar": [
           {
            "marker": {
             "colorbar": {
              "outlinewidth": 0,
              "ticks": ""
             }
            },
            "type": "scatterpolar"
           }
          ],
          "scatterpolargl": [
           {
            "marker": {
             "colorbar": {
              "outlinewidth": 0,
              "ticks": ""
             }
            },
            "type": "scatterpolargl"
           }
          ],
          "scatterternary": [
           {
            "marker": {
             "colorbar": {
              "outlinewidth": 0,
              "ticks": ""
             }
            },
            "type": "scatterternary"
           }
          ],
          "surface": [
           {
            "colorbar": {
             "outlinewidth": 0,
             "ticks": ""
            },
            "colorscale": [
             [
              0,
              "#0d0887"
             ],
             [
              0.1111111111111111,
              "#46039f"
             ],
             [
              0.2222222222222222,
              "#7201a8"
             ],
             [
              0.3333333333333333,
              "#9c179e"
             ],
             [
              0.4444444444444444,
              "#bd3786"
             ],
             [
              0.5555555555555556,
              "#d8576b"
             ],
             [
              0.6666666666666666,
              "#ed7953"
             ],
             [
              0.7777777777777778,
              "#fb9f3a"
             ],
             [
              0.8888888888888888,
              "#fdca26"
             ],
             [
              1,
              "#f0f921"
             ]
            ],
            "type": "surface"
           }
          ],
          "table": [
           {
            "cells": {
             "fill": {
              "color": "#EBF0F8"
             },
             "line": {
              "color": "white"
             }
            },
            "header": {
             "fill": {
              "color": "#C8D4E3"
             },
             "line": {
              "color": "white"
             }
            },
            "type": "table"
           }
          ]
         },
         "layout": {
          "annotationdefaults": {
           "arrowcolor": "#2a3f5f",
           "arrowhead": 0,
           "arrowwidth": 1
          },
          "autotypenumbers": "strict",
          "coloraxis": {
           "colorbar": {
            "outlinewidth": 0,
            "ticks": ""
           }
          },
          "colorscale": {
           "diverging": [
            [
             0,
             "#8e0152"
            ],
            [
             0.1,
             "#c51b7d"
            ],
            [
             0.2,
             "#de77ae"
            ],
            [
             0.3,
             "#f1b6da"
            ],
            [
             0.4,
             "#fde0ef"
            ],
            [
             0.5,
             "#f7f7f7"
            ],
            [
             0.6,
             "#e6f5d0"
            ],
            [
             0.7,
             "#b8e186"
            ],
            [
             0.8,
             "#7fbc41"
            ],
            [
             0.9,
             "#4d9221"
            ],
            [
             1,
             "#276419"
            ]
           ],
           "sequential": [
            [
             0,
             "#0d0887"
            ],
            [
             0.1111111111111111,
             "#46039f"
            ],
            [
             0.2222222222222222,
             "#7201a8"
            ],
            [
             0.3333333333333333,
             "#9c179e"
            ],
            [
             0.4444444444444444,
             "#bd3786"
            ],
            [
             0.5555555555555556,
             "#d8576b"
            ],
            [
             0.6666666666666666,
             "#ed7953"
            ],
            [
             0.7777777777777778,
             "#fb9f3a"
            ],
            [
             0.8888888888888888,
             "#fdca26"
            ],
            [
             1,
             "#f0f921"
            ]
           ],
           "sequentialminus": [
            [
             0,
             "#0d0887"
            ],
            [
             0.1111111111111111,
             "#46039f"
            ],
            [
             0.2222222222222222,
             "#7201a8"
            ],
            [
             0.3333333333333333,
             "#9c179e"
            ],
            [
             0.4444444444444444,
             "#bd3786"
            ],
            [
             0.5555555555555556,
             "#d8576b"
            ],
            [
             0.6666666666666666,
             "#ed7953"
            ],
            [
             0.7777777777777778,
             "#fb9f3a"
            ],
            [
             0.8888888888888888,
             "#fdca26"
            ],
            [
             1,
             "#f0f921"
            ]
           ]
          },
          "colorway": [
           "#636efa",
           "#EF553B",
           "#00cc96",
           "#ab63fa",
           "#FFA15A",
           "#19d3f3",
           "#FF6692",
           "#B6E880",
           "#FF97FF",
           "#FECB52"
          ],
          "font": {
           "color": "#2a3f5f"
          },
          "geo": {
           "bgcolor": "white",
           "lakecolor": "white",
           "landcolor": "white",
           "showlakes": true,
           "showland": true,
           "subunitcolor": "#C8D4E3"
          },
          "hoverlabel": {
           "align": "left"
          },
          "hovermode": "closest",
          "mapbox": {
           "style": "light"
          },
          "paper_bgcolor": "white",
          "plot_bgcolor": "white",
          "polar": {
           "angularaxis": {
            "gridcolor": "#EBF0F8",
            "linecolor": "#EBF0F8",
            "ticks": ""
           },
           "bgcolor": "white",
           "radialaxis": {
            "gridcolor": "#EBF0F8",
            "linecolor": "#EBF0F8",
            "ticks": ""
           }
          },
          "scene": {
           "xaxis": {
            "backgroundcolor": "white",
            "gridcolor": "#DFE8F3",
            "gridwidth": 2,
            "linecolor": "#EBF0F8",
            "showbackground": true,
            "ticks": "",
            "zerolinecolor": "#EBF0F8"
           },
           "yaxis": {
            "backgroundcolor": "white",
            "gridcolor": "#DFE8F3",
            "gridwidth": 2,
            "linecolor": "#EBF0F8",
            "showbackground": true,
            "ticks": "",
            "zerolinecolor": "#EBF0F8"
           },
           "zaxis": {
            "backgroundcolor": "white",
            "gridcolor": "#DFE8F3",
            "gridwidth": 2,
            "linecolor": "#EBF0F8",
            "showbackground": true,
            "ticks": "",
            "zerolinecolor": "#EBF0F8"
           }
          },
          "shapedefaults": {
           "line": {
            "color": "#2a3f5f"
           }
          },
          "ternary": {
           "aaxis": {
            "gridcolor": "#DFE8F3",
            "linecolor": "#A2B1C6",
            "ticks": ""
           },
           "baxis": {
            "gridcolor": "#DFE8F3",
            "linecolor": "#A2B1C6",
            "ticks": ""
           },
           "bgcolor": "white",
           "caxis": {
            "gridcolor": "#DFE8F3",
            "linecolor": "#A2B1C6",
            "ticks": ""
           }
          },
          "title": {
           "x": 0.05
          },
          "xaxis": {
           "automargin": true,
           "gridcolor": "#EBF0F8",
           "linecolor": "#EBF0F8",
           "ticks": "",
           "title": {
            "standoff": 15
           },
           "zerolinecolor": "#EBF0F8",
           "zerolinewidth": 2
          },
          "yaxis": {
           "automargin": true,
           "gridcolor": "#EBF0F8",
           "linecolor": "#EBF0F8",
           "ticks": "",
           "title": {
            "standoff": 15
           },
           "zerolinecolor": "#EBF0F8",
           "zerolinewidth": 2
          }
         }
        },
        "title": {
         "text": "Temperaturänderungen in Nord- und Südamerika mit Trendlinien"
        },
        "xaxis": {
         "title": {
          "text": "Jahr"
         }
        },
        "yaxis": {
         "title": {
          "text": "Temperature (°C)"
         }
        }
       }
      }
     },
     "metadata": {},
     "output_type": "display_data"
    }
   ],
   "source": [
    "# Aufruf der Funktion\n",
    "plot_temperature_with_trendlines(df_combined, p_values_df)"
   ]
  }
 ],
 "metadata": {
  "kernelspec": {
   "display_name": "Python 3",
   "language": "python",
   "name": "python3"
  },
  "language_info": {
   "codemirror_mode": {
    "name": "ipython",
    "version": 3
   },
   "file_extension": ".py",
   "mimetype": "text/x-python",
   "name": "python",
   "nbconvert_exporter": "python",
   "pygments_lexer": "ipython3",
   "version": "3.10.11"
  }
 },
 "nbformat": 4,
 "nbformat_minor": 2
}
